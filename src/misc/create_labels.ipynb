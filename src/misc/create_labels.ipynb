{
 "cells": [
  {
   "cell_type": "code",
   "execution_count": 1,
   "metadata": {},
   "outputs": [],
   "source": [
    "import os,shutil\n",
    "import pandas as pd\n",
    "import re"
   ]
  },
  {
   "cell_type": "code",
   "execution_count": 2,
   "metadata": {},
   "outputs": [
    {
     "data": {
      "text/plain": [
       "array([0, 0, 0, ..., 0, 2, 0])"
      ]
     },
     "execution_count": 2,
     "metadata": {},
     "output_type": "execute_result"
    }
   ],
   "source": [
    "labels = pd.read_csv('c:\\\\Users\\\\franc\\\\Desktop\\\\complex\\\\sensor_data 2024-08-19_17-00-28.csv',names=[str(i) for i in range(8)])['7'].to_numpy(dtype=int)\n",
    "labels"
   ]
  },
  {
   "cell_type": "code",
   "execution_count": 3,
   "metadata": {},
   "outputs": [
    {
     "data": {
      "text/plain": [
       "'c:\\\\Users\\\\franc\\\\Desktop\\\\complex\\\\images'"
      ]
     },
     "execution_count": 3,
     "metadata": {},
     "output_type": "execute_result"
    }
   ],
   "source": [
    "os.chdir('c:\\\\Users\\\\franc\\\\Desktop\\\\complex\\\\images\\\\')\n",
    "os.getcwd()"
   ]
  },
  {
   "cell_type": "code",
   "execution_count": 4,
   "metadata": {},
   "outputs": [],
   "source": [
    "os.makedirs('c:\\\\Users\\\\franc\\\\Desktop\\\\complex\\\\images\\\\label0')\n",
    "os.makedirs('c:\\\\Users\\\\franc\\\\Desktop\\\\complex\\\\images\\\\label1')\n",
    "os.makedirs('c:\\\\Users\\\\franc\\\\Desktop\\\\complex\\\\images\\\\label2')"
   ]
  },
  {
   "cell_type": "code",
   "execution_count": 5,
   "metadata": {},
   "outputs": [],
   "source": [
    "for files in os.listdir():\n",
    "    if os.path.isfile(files):\n",
    "        index = labels[int(re.findall(r\"\\d+\", files)[0])]\n",
    "        shutil.move(files, f'c:\\\\Users\\\\franc\\\\Desktop\\\\complex\\\\images\\\\label{index}')\n",
    "\n",
    "    \n",
    "    "
   ]
  }
 ],
 "metadata": {
  "kernelspec": {
   "display_name": "thesis",
   "language": "python",
   "name": "python3"
  },
  "language_info": {
   "codemirror_mode": {
    "name": "ipython",
    "version": 3
   },
   "file_extension": ".py",
   "mimetype": "text/x-python",
   "name": "python",
   "nbconvert_exporter": "python",
   "pygments_lexer": "ipython3",
   "version": "3.11.9"
  }
 },
 "nbformat": 4,
 "nbformat_minor": 2
}
