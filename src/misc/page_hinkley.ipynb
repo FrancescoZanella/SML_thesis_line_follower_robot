{
 "cells": [
  {
   "cell_type": "code",
   "execution_count": 10,
   "metadata": {},
   "outputs": [
    {
     "name": "stdout",
     "output_type": "stream",
     "text": [
      "[1, 1, 1, 1, 1, 1, 1, 1, 1, 1, 3]\n",
      "Change detected at index 10, input value: 3\n"
     ]
    }
   ],
   "source": [
    "\n",
    "import random\n",
    "from river import drift\n",
    "\n",
    "rng = random.Random(12345)\n",
    "ph = drift.PageHinkley(min_instances=3,threshold=1)\n",
    "\n",
    "# Simulate a data stream composed by two data distributions\n",
    "#data_stream = rng.choices([0, 1], k=5) + rng.choices(range(4, 8), k=5)\n",
    "data_stream = [1] * 10 + [3]\n",
    "print(data_stream)\n",
    "# Update drift detector and verify if change is detected\n",
    "for i, val in enumerate(data_stream):\n",
    "    ph.update(val)\n",
    "    if ph.drift_detected:\n",
    "        print(f\"Change detected at index {i}, input value: {val}\")\n",
    "\n"
   ]
  },
  {
   "cell_type": "code",
   "execution_count": null,
   "metadata": {},
   "outputs": [],
   "source": []
  }
 ],
 "metadata": {
  "kernelspec": {
   "display_name": "tesi",
   "language": "python",
   "name": "python3"
  },
  "language_info": {
   "codemirror_mode": {
    "name": "ipython",
    "version": 3
   },
   "file_extension": ".py",
   "mimetype": "text/x-python",
   "name": "python",
   "nbconvert_exporter": "python",
   "pygments_lexer": "ipython3",
   "version": "3.12.6"
  }
 },
 "nbformat": 4,
 "nbformat_minor": 2
}
