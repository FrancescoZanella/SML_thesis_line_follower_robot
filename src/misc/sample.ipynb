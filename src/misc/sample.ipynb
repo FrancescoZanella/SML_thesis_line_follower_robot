{
 "cells": [
  {
   "cell_type": "code",
   "execution_count": 2,
   "metadata": {},
   "outputs": [
    {
     "name": "stdout",
     "output_type": "stream",
     "text": [
      "Rimosse 20228 immagini. 2247 immagini conservate.\n"
     ]
    }
   ],
   "source": [
    "import os\n",
    "import random\n",
    "\n",
    "# Percorso della cartella contenente le immagini\n",
    "image_folder = 'C:\\\\Users\\\\franc\\\\Desktop\\\\complex\\\\images\\\\label0'\n",
    "\n",
    "# Elenco di tutte le immagini nella cartella\n",
    "image_files = [f for f in os.listdir(image_folder) if os.path.isfile(os.path.join(image_folder, f))]\n",
    "\n",
    "# Numero di immagini da mantenere (10% del totale)\n",
    "num_images_to_keep = int(len(image_files) * 0.10)\n",
    "\n",
    "# Seleziona un sottoinsieme casuale di immagini da mantenere\n",
    "images_to_keep = random.sample(image_files, num_images_to_keep)\n",
    "\n",
    "# Rimuovi le immagini non selezionate\n",
    "for image_file in image_files:\n",
    "    if image_file not in images_to_keep:\n",
    "        os.remove(os.path.join(image_folder, image_file))\n",
    "\n",
    "print(f\"Rimosse {len(image_files) - num_images_to_keep} immagini. {num_images_to_keep} immagini conservate.\")\n"
   ]
  },
  {
   "cell_type": "code",
   "execution_count": null,
   "metadata": {},
   "outputs": [],
   "source": []
  }
 ],
 "metadata": {
  "kernelspec": {
   "display_name": "thesis",
   "language": "python",
   "name": "python3"
  },
  "language_info": {
   "codemirror_mode": {
    "name": "ipython",
    "version": 3
   },
   "file_extension": ".py",
   "mimetype": "text/x-python",
   "name": "python",
   "nbconvert_exporter": "python",
   "pygments_lexer": "ipython3",
   "version": "3.11.9"
  }
 },
 "nbformat": 4,
 "nbformat_minor": 2
}
