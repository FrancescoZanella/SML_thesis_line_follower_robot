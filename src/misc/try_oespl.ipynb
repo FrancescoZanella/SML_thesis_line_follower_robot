{
 "cells": [
  {
   "cell_type": "code",
   "execution_count": 1,
   "metadata": {},
   "outputs": [],
   "source": [
    "from river import metrics, forest, tree, drift, stream, evaluate\n",
    "from river import forest\n",
    "from river.evaluate import progressive_val_score\n",
    "import pandas as pd \n",
    "from Oespl import OESPL\n"
   ]
  },
  {
   "cell_type": "code",
   "execution_count": 2,
   "metadata": {},
   "outputs": [],
   "source": [
    "df_drift = pd.read_csv(r'C:\\Users\\franc\\Desktop\\TESI\\SML_thesis_line_follower_robot\\e-puck\\data\\data\\sensors_data\\sensors_data_test_drift.csv')\n",
    "df_no_drift = pd.read_csv(r'C:\\Users\\franc\\Desktop\\TESI\\SML_thesis_line_follower_robot\\e-puck\\data\\data\\sensors_data\\sensors_data_test_no_drift.csv')\n",
    "column_names = df_drift.drop('target',axis=1).columns\n",
    "\n"
   ]
  },
  {
   "cell_type": "markdown",
   "metadata": {},
   "source": [
    "## Evaluate the model"
   ]
  },
  {
   "cell_type": "code",
   "execution_count": 3,
   "metadata": {},
   "outputs": [],
   "source": [
    "oespl_drift = OESPL(\n",
    "    base_estimator=tree.HoeffdingTreeRegressor(),\n",
    "    ensemble_size=3,\n",
    "    lambda_fixed=6.0,\n",
    "    seed=42,\n",
    "    drift_detector=drift.ADWIN(),\n",
    "    patience=1000,\n",
    "    awakening=500,\n",
    "    reset_model=True\n",
    ")"
   ]
  },
  {
   "cell_type": "code",
   "execution_count": 4,
   "metadata": {},
   "outputs": [],
   "source": [
    "metric_drift = metrics.MAE()"
   ]
  },
  {
   "cell_type": "code",
   "execution_count": 5,
   "metadata": {},
   "outputs": [
    {
     "name": "stdout",
     "output_type": "stream",
     "text": [
      "MAE: 19.750532\n"
     ]
    }
   ],
   "source": [
    "mae_values_drift = []\n",
    "for _, row in df_drift.iterrows():\n",
    "    x = {col: row[col] for col in df_drift.columns if col != 'target'}\n",
    "    y = row['target']\n",
    "    y_p = oespl_drift.predict_one(x)   \n",
    "    if y_p is not None:\n",
    "        metric_drift.update(y_true=y, y_pred=y_p)\n",
    "    oespl_drift.learn_one(x, y)\n",
    "    mae_values_drift.append(metric_drift.get())\n",
    "    \n",
    "    \n",
    "print(metric_drift)\n",
    "    \n"
   ]
  },
  {
   "cell_type": "markdown",
   "metadata": {},
   "source": [
    "## no drift"
   ]
  },
  {
   "cell_type": "code",
   "execution_count": 6,
   "metadata": {},
   "outputs": [],
   "source": [
    "metric = metrics.MAE()"
   ]
  },
  {
   "cell_type": "code",
   "execution_count": 7,
   "metadata": {},
   "outputs": [],
   "source": [
    "oespl = OESPL(\n",
    "    base_estimator=tree.HoeffdingTreeRegressor(),\n",
    "    ensemble_size=3,\n",
    "    lambda_fixed=6.0,\n",
    "    seed=42,\n",
    "    drift_detector=drift.ADWIN(),\n",
    "    patience=1000,\n",
    "    awakening=500,\n",
    "    reset_model=True\n",
    ")"
   ]
  },
  {
   "cell_type": "code",
   "execution_count": 8,
   "metadata": {},
   "outputs": [
    {
     "name": "stdout",
     "output_type": "stream",
     "text": [
      "MAE: 508.649813\n"
     ]
    }
   ],
   "source": [
    "mae_values = []\n",
    "for _, row in df_no_drift.iterrows():\n",
    "    x = {col: row[col] for col in df_no_drift.columns if col != 'target'}\n",
    "    y = row['target']\n",
    "    y_p = oespl.predict_one(x)   \n",
    "    if y_p is not None:\n",
    "        metric.update(y_true=y, y_pred=y_p)\n",
    "    oespl.learn_one(x, y)\n",
    "    mae_values.append(metric.get())\n",
    "    \n",
    "    \n",
    "print(metric)"
   ]
  },
  {
   "cell_type": "code",
   "execution_count": 9,
   "metadata": {},
   "outputs": [],
   "source": [
    "metric = metrics.MAE()"
   ]
  },
  {
   "cell_type": "code",
   "execution_count": 10,
   "metadata": {},
   "outputs": [],
   "source": [
    "model = forest.ARFRegressor()"
   ]
  },
  {
   "cell_type": "code",
   "execution_count": 11,
   "metadata": {},
   "outputs": [
    {
     "name": "stdout",
     "output_type": "stream",
     "text": [
      "MAE: 4,858.390644\n"
     ]
    }
   ],
   "source": [
    "mae_values = []\n",
    "for _, row in df_no_drift.iterrows():\n",
    "    x = {col: row[col] for col in df_no_drift.columns if col != 'target'}\n",
    "    y = row['target']\n",
    "    y_p = model.predict_one(x)   \n",
    "    if y_p is not None:\n",
    "        metric.update(y_true=y, y_pred=y_p)\n",
    "    model.learn_one(x, y)\n",
    "    mae_values.append(metric.get())\n",
    "    \n",
    "    \n",
    "print(metric)"
   ]
  },
  {
   "cell_type": "code",
   "execution_count": 11,
   "metadata": {},
   "outputs": [
    {
     "name": "stdout",
     "output_type": "stream",
     "text": [
      "[100] MAE: 414,068.97673 – 00:00:00\n",
      "[200] MAE: 207,041.614554 – 00:00:00\n",
      "[300] MAE: 138,030.037421 – 00:00:00\n",
      "[400] MAE: 103,525.242733 – 00:00:00\n",
      "[500] MAE: 82,821.38905 – 00:00:00\n",
      "[600] MAE: 69,019.825801 – 00:00:00\n",
      "[700] MAE: 59,160.550015 – 00:00:01\n",
      "[800] MAE: 51,766.029829 – 00:00:01\n",
      "[900] MAE: 46,014.349473 – 00:00:01\n",
      "[1,000] MAE: 41,412.923545 – 00:00:01\n",
      "[1,100] MAE: 37,648.143231 – 00:00:01\n",
      "[1,200] MAE: 34,510.83454 – 00:00:02\n",
      "[1,300] MAE: 31,856.19258 – 00:00:02\n",
      "[1,400] MAE: 29,580.845714 – 00:00:02\n",
      "[1,500] MAE: 27,609.15155 – 00:00:02\n",
      "[1,600] MAE: 25,883.635201 – 00:00:02\n",
      "[1,700] MAE: 24,361.073423 – 00:00:03\n",
      "[1,800] MAE: 23,007.713531 – 00:00:03\n",
      "[1,900] MAE: 21,796.811615 – 00:00:03\n",
      "[2,000] MAE: 20,706.971598 – 00:00:03\n",
      "[2,100] MAE: 19,720.925332 – 00:00:03\n",
      "[2,200] MAE: 18,824.581137 – 00:00:04\n",
      "[2,300] MAE: 18,006.432552 – 00:00:04\n",
      "[2,400] MAE: 17,256.218535 – 00:00:04\n",
      "[2,500] MAE: 16,565.989096 – 00:00:04\n",
      "[2,600] MAE: 15,928.846983 – 00:00:04\n",
      "[2,700] MAE: 15,338.911721 – 00:00:05\n",
      "[2,800] MAE: 14,791.118018 – 00:00:05\n",
      "[2,900] MAE: 14,281.14125 – 00:00:05\n",
      "[3,000] MAE: 13,805.122283 – 00:00:05\n",
      "[3,100] MAE: 13,359.905532 – 00:00:05\n",
      "[3,200] MAE: 12,942.482184 – 00:00:05\n",
      "[3,300] MAE: 12,550.334575 – 00:00:06\n",
      "[3,400] MAE: 12,181.253474 – 00:00:06\n",
      "[3,500] MAE: 11,833.226191 – 00:00:06\n",
      "[3,600] MAE: 11,504.539264 – 00:00:06\n",
      "[3,700] MAE: 11,193.820441 – 00:00:06\n",
      "[3,800] MAE: 10,899.3775 – 00:00:07\n",
      "[3,900] MAE: 10,619.976987 – 00:00:07\n",
      "[4,000] MAE: 10,354.490475 – 00:00:07\n",
      "[4,100] MAE: 10,101.966714 – 00:00:07\n",
      "[4,200] MAE: 9,861.552402 – 00:00:08\n",
      "[4,300] MAE: 9,632.224551 – 00:00:08\n",
      "[4,400] MAE: 9,413.34455 – 00:00:08\n",
      "[4,500] MAE: 9,204.281544 – 00:00:08\n",
      "[4,600] MAE: 9,004.200216 – 00:00:08\n",
      "[4,700] MAE: 8,812.632991 – 00:00:09\n",
      "[4,800] MAE: 8,629.072553 – 00:00:09\n",
      "[4,900] MAE: 8,453.004274 – 00:00:09\n",
      "[5,000] MAE: 8,283.950572 – 00:00:09\n",
      "[5,100] MAE: 8,121.565103 – 00:00:10\n",
      "[5,200] MAE: 7,965.481129 – 00:00:10\n",
      "[5,300] MAE: 7,815.211095 – 00:00:10\n",
      "[5,400] MAE: 7,670.508236 – 00:00:10\n",
      "[5,500] MAE: 7,531.089666 – 00:00:10\n",
      "[5,600] MAE: 7,396.60757 – 00:00:11\n",
      "[5,700] MAE: 7,266.846788 – 00:00:11\n",
      "[5,800] MAE: 7,141.564573 – 00:00:11\n",
      "[5,900] MAE: 7,020.557448 – 00:00:11\n",
      "[6,000] MAE: 6,903.569927 – 00:00:12\n",
      "[6,100] MAE: 6,790.416446 – 00:00:12\n",
      "[6,200] MAE: 6,680.896608 – 00:00:12\n",
      "[6,300] MAE: 6,574.863803 – 00:00:12\n",
      "[6,400] MAE: 6,472.15027 – 00:00:12\n",
      "[6,500] MAE: 6,372.587158 – 00:00:13\n",
      "[6,600] MAE: 6,276.03536 – 00:00:13\n",
      "[6,700] MAE: 6,182.388334 – 00:00:13\n",
      "[6,800] MAE: 6,091.498259 – 00:00:13\n",
      "[6,900] MAE: 6,003.229729 – 00:00:14\n",
      "[7,000] MAE: 5,917.474449 – 00:00:14\n",
      "[7,100] MAE: 5,834.133899 – 00:00:14\n",
      "[7,200] MAE: 5,753.106318 – 00:00:14\n",
      "[7,300] MAE: 5,674.298733 – 00:00:15\n",
      "[7,308] MAE: 5,668.087239 – 00:00:15\n"
     ]
    },
    {
     "data": {
      "text/plain": [
       "MAE: 5,668.087239"
      ]
     },
     "execution_count": 11,
     "metadata": {},
     "output_type": "execute_result"
    }
   ],
   "source": [
    "column_names = df_no_drift.drop('target',axis=1).columns\n",
    "streams = stream.iter_pandas(X=df_no_drift[column_names],y=df_no_drift['target'])\n",
    "progressive_val_score(\n",
    "    model=,\n",
    "    dataset=streams,\n",
    "    metric=metrics.MAE(),\n",
    "    show_time=True,\n",
    "    print_every=100\n",
    ")"
   ]
  }
 ],
 "metadata": {
  "kernelspec": {
   "display_name": "thesis",
   "language": "python",
   "name": "python3"
  },
  "language_info": {
   "codemirror_mode": {
    "name": "ipython",
    "version": 3
   },
   "file_extension": ".py",
   "mimetype": "text/x-python",
   "name": "python",
   "nbconvert_exporter": "python",
   "pygments_lexer": "ipython3",
   "version": "3.12.6"
  }
 },
 "nbformat": 4,
 "nbformat_minor": 2
}
