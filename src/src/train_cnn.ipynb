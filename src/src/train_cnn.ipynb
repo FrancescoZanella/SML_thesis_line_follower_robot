{
 "cells": [
  {
   "cell_type": "code",
   "execution_count": 1,
   "id": "306289d2",
   "metadata": {
    "execution": {
     "iopub.execute_input": "2024-08-20T07:51:13.206755Z",
     "iopub.status.busy": "2024-08-20T07:51:13.206368Z",
     "iopub.status.idle": "2024-08-20T07:51:26.398320Z",
     "shell.execute_reply": "2024-08-20T07:51:26.397545Z"
    },
    "papermill": {
     "duration": 13.208595,
     "end_time": "2024-08-20T07:51:26.400580",
     "exception": false,
     "start_time": "2024-08-20T07:51:13.191985",
     "status": "completed"
    },
    "tags": []
   },
   "outputs": [],
   "source": [
    "import tensorflow as tf\n",
    "from tensorflow.keras.applications import ResNet50\n",
    "from tensorflow.keras.models import Model\n",
    "from tensorflow.keras.preprocessing import image\n",
    "from tensorflow.keras import layers as tfkl\n",
    "from tensorflow import keras as tfk\n",
    "import numpy as np\n",
    "import matplotlib.pyplot as plt\n",
    "from sklearn.decomposition import PCA\n",
    "from sklearn.metrics import accuracy_score, f1_score, precision_score, recall_score, confusion_matrix\n",
    "import random\n",
    "from PIL import Image\n",
    "import seaborn as sns"
   ]
  },
  {
   "cell_type": "markdown",
   "id": "eca26cfc",
   "metadata": {
    "papermill": {
     "duration": 0.012434,
     "end_time": "2024-08-20T07:51:26.426126",
     "exception": false,
     "start_time": "2024-08-20T07:51:26.413692",
     "status": "completed"
    },
    "tags": []
   },
   "source": [
    "## Load dataset"
   ]
  },
  {
   "cell_type": "code",
   "execution_count": 2,
   "id": "6404383a",
   "metadata": {
    "execution": {
     "iopub.execute_input": "2024-08-20T07:51:26.452894Z",
     "iopub.status.busy": "2024-08-20T07:51:26.452400Z",
     "iopub.status.idle": "2024-08-20T07:51:26.456535Z",
     "shell.execute_reply": "2024-08-20T07:51:26.455773Z"
    },
    "papermill": {
     "duration": 0.0195,
     "end_time": "2024-08-20T07:51:26.458453",
     "exception": false,
     "start_time": "2024-08-20T07:51:26.438953",
     "status": "completed"
    },
    "tags": []
   },
   "outputs": [],
   "source": [
    "dataset_dir = \"/kaggle/input/complex/complex/images\"\n",
    "\n",
    "batch_size = 32\n",
    "img_height = 48\n",
    "img_width = 48\n"
   ]
  },
  {
   "cell_type": "code",
   "execution_count": 3,
   "id": "686b2fff",
   "metadata": {
    "execution": {
     "iopub.execute_input": "2024-08-20T07:51:26.485577Z",
     "iopub.status.busy": "2024-08-20T07:51:26.485308Z",
     "iopub.status.idle": "2024-08-20T07:51:31.765786Z",
     "shell.execute_reply": "2024-08-20T07:51:31.765034Z"
    },
    "papermill": {
     "duration": 5.296096,
     "end_time": "2024-08-20T07:51:31.768023",
     "exception": false,
     "start_time": "2024-08-20T07:51:26.471927",
     "status": "completed"
    },
    "tags": []
   },
   "outputs": [
    {
     "name": "stdout",
     "output_type": "stream",
     "text": [
      "Found 6942 files belonging to 3 classes.\n",
      "Using 5554 files for training.\n",
      "Using 1388 files for validation.\n"
     ]
    }
   ],
   "source": [
    "train_ds,val_ds = tf.keras.preprocessing.image_dataset_from_directory(\n",
    "    dataset_dir,\n",
    "    labels = 'inferred',\n",
    "    image_size=(img_height, img_width),\n",
    "    batch_size=32,\n",
    "    shuffle=True,\n",
    "    seed=123,\n",
    "    validation_split = 0.2,\n",
    "    subset = 'both',\n",
    "    label_mode='categorical',\n",
    "    color_mode='rgb',\n",
    "\n",
    ")\n"
   ]
  },
  {
   "cell_type": "code",
   "execution_count": 4,
   "id": "7a925256",
   "metadata": {
    "execution": {
     "iopub.execute_input": "2024-08-20T07:51:31.796380Z",
     "iopub.status.busy": "2024-08-20T07:51:31.795708Z",
     "iopub.status.idle": "2024-08-20T07:51:31.801996Z",
     "shell.execute_reply": "2024-08-20T07:51:31.801180Z"
    },
    "papermill": {
     "duration": 0.022571,
     "end_time": "2024-08-20T07:51:31.804068",
     "exception": false,
     "start_time": "2024-08-20T07:51:31.781497",
     "status": "completed"
    },
    "tags": []
   },
   "outputs": [
    {
     "data": {
      "text/plain": [
       "['left', 'right', 'straight']"
      ]
     },
     "execution_count": 4,
     "metadata": {},
     "output_type": "execute_result"
    }
   ],
   "source": [
    "class_names = train_ds.class_names\n",
    "class_names"
   ]
  },
  {
   "cell_type": "markdown",
   "id": "6ae6383c",
   "metadata": {
    "papermill": {
     "duration": 0.01277,
     "end_time": "2024-08-20T07:51:31.829859",
     "exception": false,
     "start_time": "2024-08-20T07:51:31.817089",
     "status": "completed"
    },
    "tags": []
   },
   "source": [
    "### Rescale to [0,1]"
   ]
  },
  {
   "cell_type": "code",
   "execution_count": 5,
   "id": "21fae462",
   "metadata": {
    "execution": {
     "iopub.execute_input": "2024-08-20T07:51:31.857238Z",
     "iopub.status.busy": "2024-08-20T07:51:31.856471Z",
     "iopub.status.idle": "2024-08-20T07:51:32.105265Z",
     "shell.execute_reply": "2024-08-20T07:51:32.104272Z"
    },
    "papermill": {
     "duration": 0.264892,
     "end_time": "2024-08-20T07:51:32.107576",
     "exception": false,
     "start_time": "2024-08-20T07:51:31.842684",
     "status": "completed"
    },
    "tags": []
   },
   "outputs": [],
   "source": [
    "def rescale(image, label):\n",
    "    image = tf.cast(image, tf.float32) / 255.0\n",
    "    return image, label\n",
    "\n",
    "def inverse_rescale(image, label):\n",
    "    image = tf.cast(image, tf.float32) * 255.0\n",
    "    return image, label\n",
    "\n",
    "train_ds = train_ds.map(rescale)\n",
    "val_ds = val_ds.map(rescale)"
   ]
  },
  {
   "cell_type": "markdown",
   "id": "1691b854",
   "metadata": {
    "papermill": {
     "duration": 0.012892,
     "end_time": "2024-08-20T07:51:32.133879",
     "exception": false,
     "start_time": "2024-08-20T07:51:32.120987",
     "status": "completed"
    },
    "tags": []
   },
   "source": [
    "## Visualize example images"
   ]
  },
  {
   "cell_type": "code",
   "execution_count": 6,
   "id": "a134667b",
   "metadata": {
    "execution": {
     "iopub.execute_input": "2024-08-20T07:51:32.160940Z",
     "iopub.status.busy": "2024-08-20T07:51:32.160610Z",
     "iopub.status.idle": "2024-08-20T07:51:33.057704Z",
     "shell.execute_reply": "2024-08-20T07:51:33.056792Z"
    },
    "papermill": {
     "duration": 0.913521,
     "end_time": "2024-08-20T07:51:33.060300",
     "exception": false,
     "start_time": "2024-08-20T07:51:32.146779",
     "status": "completed"
    },
    "tags": []
   },
   "outputs": [
    {
     "data": {
      "image/png": "[encoded data removed]",
      "text/plain": [
       "<Figure size 1000x1000 with 9 Axes>"
      ]
     },
     "metadata": {},
     "output_type": "display_data"
    }
   ],
   "source": [
    "num_images = 9\n",
    "plt.figure(figsize=(10, 10))\n",
    "for images, labels in train_ds.take(1):\n",
    "  for i in range(num_images):\n",
    "    ax = plt.subplot(3, 3, i + 1)\n",
    "    plt.imshow(images[i].numpy())\n",
    "    plt.title(class_names[tf.argmax(labels[i]).numpy()])\n",
    "    plt.axis(\"off\")\n",
    "    \n",
    "\n"
   ]
  },
  {
   "cell_type": "code",
   "execution_count": 7,
   "id": "651ed263",
   "metadata": {
    "execution": {
     "iopub.execute_input": "2024-08-20T07:51:33.089285Z",
     "iopub.status.busy": "2024-08-20T07:51:33.088983Z",
     "iopub.status.idle": "2024-08-20T07:51:33.101378Z",
     "shell.execute_reply": "2024-08-20T07:51:33.100578Z"
    },
    "papermill": {
     "duration": 0.028798,
     "end_time": "2024-08-20T07:51:33.103179",
     "exception": false,
     "start_time": "2024-08-20T07:51:33.074381",
     "status": "completed"
    },
    "tags": []
   },
   "outputs": [],
   "source": [
    "AUTOTUNE = tf.data.AUTOTUNE\n",
    "\n",
    "train_ds = train_ds.cache().prefetch(buffer_size=AUTOTUNE)\n",
    "val_ds = val_ds.cache().prefetch(buffer_size=AUTOTUNE)"
   ]
  },
  {
   "cell_type": "markdown",
   "id": "00ac10db",
   "metadata": {
    "papermill": {
     "duration": 0.01355,
     "end_time": "2024-08-20T07:51:33.130504",
     "exception": false,
     "start_time": "2024-08-20T07:51:33.116954",
     "status": "completed"
    },
    "tags": []
   },
   "source": [
    "## Build the net"
   ]
  },
  {
   "cell_type": "code",
   "execution_count": 8,
   "id": "4a2ddcdc",
   "metadata": {
    "execution": {
     "iopub.execute_input": "2024-08-20T07:51:33.159545Z",
     "iopub.status.busy": "2024-08-20T07:51:33.159034Z",
     "iopub.status.idle": "2024-08-20T07:51:33.170043Z",
     "shell.execute_reply": "2024-08-20T07:51:33.169234Z"
    },
    "papermill": {
     "duration": 0.027442,
     "end_time": "2024-08-20T07:51:33.171868",
     "exception": false,
     "start_time": "2024-08-20T07:51:33.144426",
     "status": "completed"
    },
    "tags": []
   },
   "outputs": [],
   "source": [
    "num_classes = 3\n",
    "\n",
    "def build_Net(input_shape, output_shape, seed=123):\n",
    "    tf.random.set_seed(seed)\n",
    "\n",
    "    # Build the neural network layer by layer\n",
    "    input_layer = tfkl.Input(shape=input_shape, name='Input')\n",
    "\n",
    "    conv1 = tfkl.Conv2D(\n",
    "        filters=6,\n",
    "        kernel_size=(5,5),\n",
    "        padding='same',\n",
    "        activation='tanh',\n",
    "        name='conv1'\n",
    "    )(input_layer)\n",
    "\n",
    "    pool1 = tfkl.MaxPooling2D(\n",
    "        pool_size=(2,2),\n",
    "        name='mp1'\n",
    "    )(conv1)\n",
    "\n",
    "    conv2 = tfkl.Conv2D(\n",
    "        filters=16,\n",
    "        kernel_size=(5,5),\n",
    "        padding='valid',\n",
    "        activation='tanh',\n",
    "        name='conv2'\n",
    "    )(pool1)\n",
    "\n",
    "    pool2 = tfkl.MaxPooling2D(\n",
    "        pool_size =(2,2),\n",
    "        name='mp2'\n",
    "    )(conv2)\n",
    "\n",
    "    conv3 = tfkl.Conv2D(\n",
    "        filters=24,\n",
    "        kernel_size=(5,5),\n",
    "        padding='valid',\n",
    "        activation='tanh',\n",
    "        name='conv3'\n",
    "    )(pool2)\n",
    "\n",
    "    pool3 = tfkl.MaxPooling2D(\n",
    "        pool_size=(2,2),\n",
    "        name='mp3'\n",
    "    )(conv3)\n",
    "\n",
    "    flattening_layer=tfkl.Flatten(\n",
    "        name='flatten'\n",
    "    )(pool3)\n",
    "\n",
    "    classifier_layer=tfkl.Dense(\n",
    "        units=120,\n",
    "        activation='tanh',\n",
    "        name='dense1'\n",
    "    )(flattening_layer)\n",
    "\n",
    "    classifier_layer = tfkl.Dense(\n",
    "        units=84,\n",
    "        activation='tanh',\n",
    "        name='dense2'\n",
    "    )(classifier_layer)\n",
    "\n",
    "    output_layer = tfkl.Dense(\n",
    "        units=output_shape,\n",
    "        activation='softmax',\n",
    "        name='Output'\n",
    "    )(classifier_layer)\n",
    "\n",
    "    # Connect input and output through the Model class\n",
    "    model = tfk.Model(inputs=input_layer, outputs=output_layer, name='Net')\n",
    "\n",
    "    # Compile the model\n",
    "    model.compile(loss=tfk.losses.CategoricalCrossentropy(), optimizer=tfk.optimizers.Adam(), metrics=['accuracy'])\n",
    "\n",
    "    # Return the model\n",
    "    return model"
   ]
  },
  {
   "cell_type": "code",
   "execution_count": 9,
   "id": "60889414",
   "metadata": {
    "execution": {
     "iopub.execute_input": "2024-08-20T07:51:33.200490Z",
     "iopub.status.busy": "2024-08-20T07:51:33.200217Z",
     "iopub.status.idle": "2024-08-20T07:51:33.321992Z",
     "shell.execute_reply": "2024-08-20T07:51:33.321124Z"
    },
    "papermill": {
     "duration": 0.138351,
     "end_time": "2024-08-20T07:51:33.324050",
     "exception": false,
     "start_time": "2024-08-20T07:51:33.185699",
     "status": "completed"
    },
    "tags": []
   },
   "outputs": [
    {
     "data": {
      "text/html": [
       "<pre style=\"white-space:pre;overflow-x:auto;line-height:normal;font-family:Menlo,'DejaVu Sans Mono',consolas,'Courier New',monospace\"><span style=\"font-weight: bold\">Model: \"Net\"</span>\n",
       "</pre>\n"
      ],
      "text/plain": [
       "\u001b[1mModel: \"Net\"\u001b[0m\n"
      ]
     },
     "metadata": {},
     "output_type": "display_data"
    },
    {
     "data": {
      "text/html": [
       "<pre style=\"white-space:pre;overflow-x:auto;line-height:normal;font-family:Menlo,'DejaVu Sans Mono',consolas,'Courier New',monospace\">┏━━━━━━━━━━━━━━━━━━━━━━━━━━━━━━━━━┳━━━━━━━━━━━━━━━━━━━━━━━━┳━━━━━━━━━━━━━━━┓\n",
       "┃<span style=\"font-weight: bold\"> Layer (type)                    </span>┃<span style=\"font-weight: bold\"> Output Shape           </span>┃<span style=\"font-weight: bold\">       Param # </span>┃\n",
       "┡━━━━━━━━━━━━━━━━━━━━━━━━━━━━━━━━━╇━━━━━━━━━━━━━━━━━━━━━━━━╇━━━━━━━━━━━━━━━┩\n",
       "│ Input (<span style=\"color: #0087ff; text-decoration-color: #0087ff\">InputLayer</span>)              │ (<span style=\"color: #00d7ff; text-decoration-color: #00d7ff\">None</span>, <span style=\"color: #00af00; text-decoration-color: #00af00\">48</span>, <span style=\"color: #00af00; text-decoration-color: #00af00\">48</span>, <span style=\"color: #00af00; text-decoration-color: #00af00\">3</span>)      │             <span style=\"color: #00af00; text-decoration-color: #00af00\">0</span> │\n",
       "├─────────────────────────────────┼────────────────────────┼───────────────┤\n",
       "│ conv1 (<span style=\"color: #0087ff; text-decoration-color: #0087ff\">Conv2D</span>)                  │ (<span style=\"color: #00d7ff; text-decoration-color: #00d7ff\">None</span>, <span style=\"color: #00af00; text-decoration-color: #00af00\">48</span>, <span style=\"color: #00af00; text-decoration-color: #00af00\">48</span>, <span style=\"color: #00af00; text-decoration-color: #00af00\">6</span>)      │           <span style=\"color: #00af00; text-decoration-color: #00af00\">456</span> │\n",
       "├─────────────────────────────────┼────────────────────────┼───────────────┤\n",
       "│ mp1 (<span style=\"color: #0087ff; text-decoration-color: #0087ff\">MaxPooling2D</span>)              │ (<span style=\"color: #00d7ff; text-decoration-color: #00d7ff\">None</span>, <span style=\"color: #00af00; text-decoration-color: #00af00\">24</span>, <span style=\"color: #00af00; text-decoration-color: #00af00\">24</span>, <span style=\"color: #00af00; text-decoration-color: #00af00\">6</span>)      │             <span style=\"color: #00af00; text-decoration-color: #00af00\">0</span> │\n",
       "├─────────────────────────────────┼────────────────────────┼───────────────┤\n",
       "│ conv2 (<span style=\"color: #0087ff; text-decoration-color: #0087ff\">Conv2D</span>)                  │ (<span style=\"color: #00d7ff; text-decoration-color: #00d7ff\">None</span>, <span style=\"color: #00af00; text-decoration-color: #00af00\">20</span>, <span style=\"color: #00af00; text-decoration-color: #00af00\">20</span>, <span style=\"color: #00af00; text-decoration-color: #00af00\">16</span>)     │         <span style=\"color: #00af00; text-decoration-color: #00af00\">2,416</span> │\n",
       "├─────────────────────────────────┼────────────────────────┼───────────────┤\n",
       "│ mp2 (<span style=\"color: #0087ff; text-decoration-color: #0087ff\">MaxPooling2D</span>)              │ (<span style=\"color: #00d7ff; text-decoration-color: #00d7ff\">None</span>, <span style=\"color: #00af00; text-decoration-color: #00af00\">10</span>, <span style=\"color: #00af00; text-decoration-color: #00af00\">10</span>, <span style=\"color: #00af00; text-decoration-color: #00af00\">16</span>)     │             <span style=\"color: #00af00; text-decoration-color: #00af00\">0</span> │\n",
       "├─────────────────────────────────┼────────────────────────┼───────────────┤\n",
       "│ conv3 (<span style=\"color: #0087ff; text-decoration-color: #0087ff\">Conv2D</span>)                  │ (<span style=\"color: #00d7ff; text-decoration-color: #00d7ff\">None</span>, <span style=\"color: #00af00; text-decoration-color: #00af00\">6</span>, <span style=\"color: #00af00; text-decoration-color: #00af00\">6</span>, <span style=\"color: #00af00; text-decoration-color: #00af00\">24</span>)       │         <span style=\"color: #00af00; text-decoration-color: #00af00\">9,624</span> │\n",
       "├─────────────────────────────────┼────────────────────────┼───────────────┤\n",
       "│ mp3 (<span style=\"color: #0087ff; text-decoration-color: #0087ff\">MaxPooling2D</span>)              │ (<span style=\"color: #00d7ff; text-decoration-color: #00d7ff\">None</span>, <span style=\"color: #00af00; text-decoration-color: #00af00\">3</span>, <span style=\"color: #00af00; text-decoration-color: #00af00\">3</span>, <span style=\"color: #00af00; text-decoration-color: #00af00\">24</span>)       │             <span style=\"color: #00af00; text-decoration-color: #00af00\">0</span> │\n",
       "├─────────────────────────────────┼────────────────────────┼───────────────┤\n",
       "│ flatten (<span style=\"color: #0087ff; text-decoration-color: #0087ff\">Flatten</span>)               │ (<span style=\"color: #00d7ff; text-decoration-color: #00d7ff\">None</span>, <span style=\"color: #00af00; text-decoration-color: #00af00\">216</span>)            │             <span style=\"color: #00af00; text-decoration-color: #00af00\">0</span> │\n",
       "├─────────────────────────────────┼────────────────────────┼───────────────┤\n",
       "│ dense1 (<span style=\"color: #0087ff; text-decoration-color: #0087ff\">Dense</span>)                  │ (<span style=\"color: #00d7ff; text-decoration-color: #00d7ff\">None</span>, <span style=\"color: #00af00; text-decoration-color: #00af00\">120</span>)            │        <span style=\"color: #00af00; text-decoration-color: #00af00\">26,040</span> │\n",
       "├─────────────────────────────────┼────────────────────────┼───────────────┤\n",
       "│ dense2 (<span style=\"color: #0087ff; text-decoration-color: #0087ff\">Dense</span>)                  │ (<span style=\"color: #00d7ff; text-decoration-color: #00d7ff\">None</span>, <span style=\"color: #00af00; text-decoration-color: #00af00\">84</span>)             │        <span style=\"color: #00af00; text-decoration-color: #00af00\">10,164</span> │\n",
       "├─────────────────────────────────┼────────────────────────┼───────────────┤\n",
       "│ Output (<span style=\"color: #0087ff; text-decoration-color: #0087ff\">Dense</span>)                  │ (<span style=\"color: #00d7ff; text-decoration-color: #00d7ff\">None</span>, <span style=\"color: #00af00; text-decoration-color: #00af00\">3</span>)              │           <span style=\"color: #00af00; text-decoration-color: #00af00\">255</span> │\n",
       "└─────────────────────────────────┴────────────────────────┴───────────────┘\n",
       "</pre>\n"
      ],
      "text/plain": [
       "┏━━━━━━━━━━━━━━━━━━━━━━━━━━━━━━━━━┳━━━━━━━━━━━━━━━━━━━━━━━━┳━━━━━━━━━━━━━━━┓\n",
       "┃\u001b[1m \u001b[0m\u001b[1mLayer (type)                   \u001b[0m\u001b[1m \u001b[0m┃\u001b[1m \u001b[0m\u001b[1mOutput Shape          \u001b[0m\u001b[1m \u001b[0m┃\u001b[1m \u001b[0m\u001b[1m      Param #\u001b[0m\u001b[1m \u001b[0m┃\n",
       "┡━━━━━━━━━━━━━━━━━━━━━━━━━━━━━━━━━╇━━━━━━━━━━━━━━━━━━━━━━━━╇━━━━━━━━━━━━━━━┩\n",
       "│ Input (\u001b[38;5;33mInputLayer\u001b[0m)              │ (\u001b[38;5;45mNone\u001b[0m, \u001b[38;5;34m48\u001b[0m, \u001b[38;5;34m48\u001b[0m, \u001b[38;5;34m3\u001b[0m)      │             \u001b[38;5;34m0\u001b[0m │\n",
       "├─────────────────────────────────┼────────────────────────┼───────────────┤\n",
       "│ conv1 (\u001b[38;5;33mConv2D\u001b[0m)                  │ (\u001b[38;5;45mNone\u001b[0m, \u001b[38;5;34m48\u001b[0m, \u001b[38;5;34m48\u001b[0m, \u001b[38;5;34m6\u001b[0m)      │           \u001b[38;5;34m456\u001b[0m │\n",
       "├─────────────────────────────────┼────────────────────────┼───────────────┤\n",
       "│ mp1 (\u001b[38;5;33mMaxPooling2D\u001b[0m)              │ (\u001b[38;5;45mNone\u001b[0m, \u001b[38;5;34m24\u001b[0m, \u001b[38;5;34m24\u001b[0m, \u001b[38;5;34m6\u001b[0m)      │             \u001b[38;5;34m0\u001b[0m │\n",
       "├─────────────────────────────────┼────────────────────────┼───────────────┤\n",
       "│ conv2 (\u001b[38;5;33mConv2D\u001b[0m)                  │ (\u001b[38;5;45mNone\u001b[0m, \u001b[38;5;34m20\u001b[0m, \u001b[38;5;34m20\u001b[0m, \u001b[38;5;34m16\u001b[0m)     │         \u001b[38;5;34m2,416\u001b[0m │\n",
       "├─────────────────────────────────┼────────────────────────┼───────────────┤\n",
       "│ mp2 (\u001b[38;5;33mMaxPooling2D\u001b[0m)              │ (\u001b[38;5;45mNone\u001b[0m, \u001b[38;5;34m10\u001b[0m, \u001b[38;5;34m10\u001b[0m, \u001b[38;5;34m16\u001b[0m)     │             \u001b[38;5;34m0\u001b[0m │\n",
       "├─────────────────────────────────┼────────────────────────┼───────────────┤\n",
       "│ conv3 (\u001b[38;5;33mConv2D\u001b[0m)                  │ (\u001b[38;5;45mNone\u001b[0m, \u001b[38;5;34m6\u001b[0m, \u001b[38;5;34m6\u001b[0m, \u001b[38;5;34m24\u001b[0m)       │         \u001b[38;5;34m9,624\u001b[0m │\n",
       "├─────────────────────────────────┼────────────────────────┼───────────────┤\n",
       "│ mp3 (\u001b[38;5;33mMaxPooling2D\u001b[0m)              │ (\u001b[38;5;45mNone\u001b[0m, \u001b[38;5;34m3\u001b[0m, \u001b[38;5;34m3\u001b[0m, \u001b[38;5;34m24\u001b[0m)       │             \u001b[38;5;34m0\u001b[0m │\n",
       "├─────────────────────────────────┼────────────────────────┼───────────────┤\n",
       "│ flatten (\u001b[38;5;33mFlatten\u001b[0m)               │ (\u001b[38;5;45mNone\u001b[0m, \u001b[38;5;34m216\u001b[0m)            │             \u001b[38;5;34m0\u001b[0m │\n",
       "├─────────────────────────────────┼────────────────────────┼───────────────┤\n",
       "│ dense1 (\u001b[38;5;33mDense\u001b[0m)                  │ (\u001b[38;5;45mNone\u001b[0m, \u001b[38;5;34m120\u001b[0m)            │        \u001b[38;5;34m26,040\u001b[0m │\n",
       "├─────────────────────────────────┼────────────────────────┼───────────────┤\n",
       "│ dense2 (\u001b[38;5;33mDense\u001b[0m)                  │ (\u001b[38;5;45mNone\u001b[0m, \u001b[38;5;34m84\u001b[0m)             │        \u001b[38;5;34m10,164\u001b[0m │\n",
       "├─────────────────────────────────┼────────────────────────┼───────────────┤\n",
       "│ Output (\u001b[38;5;33mDense\u001b[0m)                  │ (\u001b[38;5;45mNone\u001b[0m, \u001b[38;5;34m3\u001b[0m)              │           \u001b[38;5;34m255\u001b[0m │\n",
       "└─────────────────────────────────┴────────────────────────┴───────────────┘\n"
      ]
     },
     "metadata": {},
     "output_type": "display_data"
    },
    {
     "data": {
      "text/html": [
       "<pre style=\"white-space:pre;overflow-x:auto;line-height:normal;font-family:Menlo,'DejaVu Sans Mono',consolas,'Courier New',monospace\"><span style=\"font-weight: bold\"> Total params: </span><span style=\"color: #00af00; text-decoration-color: #00af00\">48,955</span> (191.23 KB)\n",
       "</pre>\n"
      ],
      "text/plain": [
       "\u001b[1m Total params: \u001b[0m\u001b[38;5;34m48,955\u001b[0m (191.23 KB)\n"
      ]
     },
     "metadata": {},
     "output_type": "display_data"
    },
    {
     "data": {
      "text/html": [
       "<pre style=\"white-space:pre;overflow-x:auto;line-height:normal;font-family:Menlo,'DejaVu Sans Mono',consolas,'Courier New',monospace\"><span style=\"font-weight: bold\"> Trainable params: </span><span style=\"color: #00af00; text-decoration-color: #00af00\">48,955</span> (191.23 KB)\n",
       "</pre>\n"
      ],
      "text/plain": [
       "\u001b[1m Trainable params: \u001b[0m\u001b[38;5;34m48,955\u001b[0m (191.23 KB)\n"
      ]
     },
     "metadata": {},
     "output_type": "display_data"
    },
    {
     "data": {
      "text/html": [
       "<pre style=\"white-space:pre;overflow-x:auto;line-height:normal;font-family:Menlo,'DejaVu Sans Mono',consolas,'Courier New',monospace\"><span style=\"font-weight: bold\"> Non-trainable params: </span><span style=\"color: #00af00; text-decoration-color: #00af00\">0</span> (0.00 B)\n",
       "</pre>\n"
      ],
      "text/plain": [
       "\u001b[1m Non-trainable params: \u001b[0m\u001b[38;5;34m0\u001b[0m (0.00 B)\n"
      ]
     },
     "metadata": {},
     "output_type": "display_data"
    }
   ],
   "source": [
    "model = build_Net((48,48,3), 3)\n",
    "model.summary()"
   ]
  },
  {
   "cell_type": "code",
   "execution_count": 10,
   "id": "cf231521",
   "metadata": {
    "execution": {
     "iopub.execute_input": "2024-08-20T07:51:33.354908Z",
     "iopub.status.busy": "2024-08-20T07:51:33.354610Z",
     "iopub.status.idle": "2024-08-20T07:51:59.930857Z",
     "shell.execute_reply": "2024-08-20T07:51:59.930103Z"
    },
    "papermill": {
     "duration": 26.59412,
     "end_time": "2024-08-20T07:51:59.933044",
     "exception": false,
     "start_time": "2024-08-20T07:51:33.338924",
     "status": "completed"
    },
    "tags": []
   },
   "outputs": [
    {
     "name": "stdout",
     "output_type": "stream",
     "text": [
      "Epoch 1/200\n",
      "\u001b[1m 12/174\u001b[0m \u001b[32m━\u001b[0m\u001b[37m━━━━━━━━━━━━━━━━━━━\u001b[0m \u001b[1m1s\u001b[0m 12ms/step - accuracy: 0.4366 - loss: 1.0539"
     ]
    },
    {
     "name": "stderr",
     "output_type": "stream",
     "text": [
      "WARNING: All log messages before absl::InitializeLog() is called are written to STDERR\n",
      "I0000 00:00:1724140298.667434      74 device_compiler.h:186] Compiled cluster using XLA!  This line is logged at most once for the lifetime of the process.\n"
     ]
    },
    {
     "name": "stdout",
     "output_type": "stream",
     "text": [
      "\u001b[1m174/174\u001b[0m \u001b[32m━━━━━━━━━━━━━━━━━━━━\u001b[0m\u001b[37m\u001b[0m \u001b[1m21s\u001b[0m 90ms/step - accuracy: 0.6874 - loss: 0.7243 - val_accuracy: 0.7709 - val_loss: 0.5856\n",
      "Epoch 2/200\n",
      "\u001b[1m174/174\u001b[0m \u001b[32m━━━━━━━━━━━━━━━━━━━━\u001b[0m\u001b[37m\u001b[0m \u001b[1m1s\u001b[0m 3ms/step - accuracy: 0.7905 - loss: 0.5252 - val_accuracy: 0.7990 - val_loss: 0.5246\n",
      "Epoch 3/200\n",
      "\u001b[1m174/174\u001b[0m \u001b[32m━━━━━━━━━━━━━━━━━━━━\u001b[0m\u001b[37m\u001b[0m \u001b[1m1s\u001b[0m 3ms/step - accuracy: 0.8119 - loss: 0.4767 - val_accuracy: 0.8033 - val_loss: 0.5005\n",
      "Epoch 4/200\n",
      "\u001b[1m174/174\u001b[0m \u001b[32m━━━━━━━━━━━━━━━━━━━━\u001b[0m\u001b[37m\u001b[0m \u001b[1m0s\u001b[0m 3ms/step - accuracy: 0.8187 - loss: 0.4445 - val_accuracy: 0.8112 - val_loss: 0.4904\n",
      "Epoch 5/200\n",
      "\u001b[1m174/174\u001b[0m \u001b[32m━━━━━━━━━━━━━━━━━━━━\u001b[0m\u001b[37m\u001b[0m \u001b[1m0s\u001b[0m 3ms/step - accuracy: 0.8370 - loss: 0.4103 - val_accuracy: 0.8184 - val_loss: 0.4850\n",
      "Epoch 6/200\n",
      "\u001b[1m174/174\u001b[0m \u001b[32m━━━━━━━━━━━━━━━━━━━━\u001b[0m\u001b[37m\u001b[0m \u001b[1m0s\u001b[0m 3ms/step - accuracy: 0.8542 - loss: 0.3735 - val_accuracy: 0.8307 - val_loss: 0.4839\n",
      "Epoch 7/200\n",
      "\u001b[1m174/174\u001b[0m \u001b[32m━━━━━━━━━━━━━━━━━━━━\u001b[0m\u001b[37m\u001b[0m \u001b[1m0s\u001b[0m 3ms/step - accuracy: 0.8620 - loss: 0.3409 - val_accuracy: 0.8314 - val_loss: 0.4947\n",
      "Epoch 8/200\n",
      "\u001b[1m174/174\u001b[0m \u001b[32m━━━━━━━━━━━━━━━━━━━━\u001b[0m\u001b[37m\u001b[0m \u001b[1m0s\u001b[0m 3ms/step - accuracy: 0.8741 - loss: 0.3190 - val_accuracy: 0.8228 - val_loss: 0.5099\n",
      "Epoch 9/200\n",
      "\u001b[1m174/174\u001b[0m \u001b[32m━━━━━━━━━━━━━━━━━━━━\u001b[0m\u001b[37m\u001b[0m \u001b[1m0s\u001b[0m 3ms/step - accuracy: 0.8804 - loss: 0.2868 - val_accuracy: 0.8084 - val_loss: 0.5476\n",
      "Epoch 10/200\n",
      "\u001b[1m174/174\u001b[0m \u001b[32m━━━━━━━━━━━━━━━━━━━━\u001b[0m\u001b[37m\u001b[0m \u001b[1m0s\u001b[0m 3ms/step - accuracy: 0.9012 - loss: 0.2541 - val_accuracy: 0.8098 - val_loss: 0.6014\n",
      "Epoch 11/200\n",
      "\u001b[1m174/174\u001b[0m \u001b[32m━━━━━━━━━━━━━━━━━━━━\u001b[0m\u001b[37m\u001b[0m \u001b[1m0s\u001b[0m 3ms/step - accuracy: 0.8948 - loss: 0.2493 - val_accuracy: 0.8134 - val_loss: 0.6299\n",
      "Epoch 12/200\n",
      "\u001b[1m174/174\u001b[0m \u001b[32m━━━━━━━━━━━━━━━━━━━━\u001b[0m\u001b[37m\u001b[0m \u001b[1m0s\u001b[0m 3ms/step - accuracy: 0.9120 - loss: 0.2116 - val_accuracy: 0.8004 - val_loss: 0.6917\n"
     ]
    }
   ],
   "source": [
    "early_stopping = tfk.callbacks.EarlyStopping(monitor='val_accuracy', patience=5, mode='max', restore_best_weights=True)\n",
    "\n",
    "history =model.fit(\n",
    "  train_ds,\n",
    "  validation_data=val_ds,\n",
    "  epochs=200,\n",
    "  batch_size=batch_size,\n",
    "  callbacks=[early_stopping]\n",
    ").history\n",
    "\n",
    "model.save('my_net.keras')"
   ]
  },
  {
   "cell_type": "code",
   "execution_count": 11,
   "id": "68fc0794",
   "metadata": {
    "execution": {
     "iopub.execute_input": "2024-08-20T07:51:59.997679Z",
     "iopub.status.busy": "2024-08-20T07:51:59.997389Z",
     "iopub.status.idle": "2024-08-20T07:52:00.636555Z",
     "shell.execute_reply": "2024-08-20T07:52:00.635596Z"
    },
    "papermill": {
     "duration": 0.673946,
     "end_time": "2024-08-20T07:52:00.638743",
     "exception": false,
     "start_time": "2024-08-20T07:51:59.964797",
     "status": "completed"
    },
    "tags": []
   },
   "outputs": [
    {
     "data": {
      "image/png": "[encoded data removed]",
      "text/plain": [
       "<Figure size 2000x500 with 1 Axes>"
      ]
     },
     "metadata": {},
     "output_type": "display_data"
    },
    {
     "data": {
      "image/png": "[encoded data removed]",
      "text/plain": [
       "<Figure size 2000x500 with 1 Axes>"
      ]
     },
     "metadata": {},
     "output_type": "display_data"
    }
   ],
   "source": [
    "best_epoch = np.argmax(history['val_accuracy'])\n",
    "\n",
    "plt.figure(figsize=(20, 5))\n",
    "\n",
    "plt.plot(history['loss'], label='Training', alpha=0.8, color='#ff7f0e', linewidth=3)\n",
    "plt.plot(history['val_loss'], label='Validation', alpha=0.8, color='#4D61E2', linewidth=3)\n",
    "plt.legend(loc='upper left')\n",
    "plt.title('Categorical Crossentropy')\n",
    "plt.grid(alpha=0.3)\n",
    "\n",
    "plt.figure(figsize=(20, 5))\n",
    "\n",
    "plt.plot(history['accuracy'], label='Training', alpha=0.8, color='#ff7f0e', linewidth=3)\n",
    "plt.plot(history['val_accuracy'], label='Validation', alpha=0.8, color='#4D61E2', linewidth=3)\n",
    "plt.plot(best_epoch, history['val_accuracy'][best_epoch], marker='*', alpha=0.8, markersize=10, color='#4D61E2')\n",
    "plt.legend(loc='upper left')\n",
    "plt.title('Accuracy')\n",
    "plt.grid(alpha=0.3)\n",
    "\n",
    "plt.show()"
   ]
  },
  {
   "cell_type": "code",
   "execution_count": 12,
   "id": "46049d09",
   "metadata": {
    "execution": {
     "iopub.execute_input": "2024-08-20T07:52:00.705847Z",
     "iopub.status.busy": "2024-08-20T07:52:00.705545Z",
     "iopub.status.idle": "2024-08-20T07:52:00.816949Z",
     "shell.execute_reply": "2024-08-20T07:52:00.815931Z"
    },
    "papermill": {
     "duration": 0.147063,
     "end_time": "2024-08-20T07:52:00.819150",
     "exception": false,
     "start_time": "2024-08-20T07:52:00.672087",
     "status": "completed"
    },
    "tags": []
   },
   "outputs": [],
   "source": [
    "model = tfk.models.load_model('my_net.keras')"
   ]
  },
  {
   "cell_type": "code",
   "execution_count": 13,
   "id": "3aee1ff4",
   "metadata": {
    "execution": {
     "iopub.execute_input": "2024-08-20T07:52:00.885295Z",
     "iopub.status.busy": "2024-08-20T07:52:00.884984Z",
     "iopub.status.idle": "2024-08-20T07:52:00.890710Z",
     "shell.execute_reply": "2024-08-20T07:52:00.889901Z"
    },
    "papermill": {
     "duration": 0.040908,
     "end_time": "2024-08-20T07:52:00.892715",
     "exception": false,
     "start_time": "2024-08-20T07:52:00.851807",
     "status": "completed"
    },
    "tags": []
   },
   "outputs": [
    {
     "data": {
      "text/plain": [
       "[<InputLayer name=Input, built=True>,\n",
       " <Conv2D name=conv1, built=True>,\n",
       " <MaxPooling2D name=mp1, built=True>,\n",
       " <Conv2D name=conv2, built=True>,\n",
       " <MaxPooling2D name=mp2, built=True>,\n",
       " <Conv2D name=conv3, built=True>,\n",
       " <MaxPooling2D name=mp3, built=True>,\n",
       " <Flatten name=flatten, built=True>,\n",
       " <Dense name=dense1, built=True>,\n",
       " <Dense name=dense2, built=True>,\n",
       " <Dense name=Output, built=True>]"
      ]
     },
     "execution_count": 13,
     "metadata": {},
     "output_type": "execute_result"
    }
   ],
   "source": [
    "model.layers"
   ]
  },
  {
   "cell_type": "markdown",
   "id": "86a12418",
   "metadata": {
    "papermill": {
     "duration": 0.072881,
     "end_time": "2024-08-20T07:52:00.998013",
     "exception": false,
     "start_time": "2024-08-20T07:52:00.925132",
     "status": "completed"
    },
    "tags": []
   },
   "source": [
    "## Load an example Image"
   ]
  },
  {
   "cell_type": "code",
   "execution_count": 14,
   "id": "57b18667",
   "metadata": {
    "execution": {
     "iopub.execute_input": "2024-08-20T07:52:01.064138Z",
     "iopub.status.busy": "2024-08-20T07:52:01.063795Z",
     "iopub.status.idle": "2024-08-20T07:52:01.072664Z",
     "shell.execute_reply": "2024-08-20T07:52:01.071968Z"
    },
    "papermill": {
     "duration": 0.044105,
     "end_time": "2024-08-20T07:52:01.074528",
     "exception": false,
     "start_time": "2024-08-20T07:52:01.030423",
     "status": "completed"
    },
    "tags": []
   },
   "outputs": [],
   "source": [
    "image = Image.open('/kaggle/input/complex/complex/images/right/image10078.jpg')\n",
    "\n",
    "label = 'right'"
   ]
  },
  {
   "cell_type": "markdown",
   "id": "964a5bcc",
   "metadata": {
    "papermill": {
     "duration": 0.032062,
     "end_time": "2024-08-20T07:52:01.138853",
     "exception": false,
     "start_time": "2024-08-20T07:52:01.106791",
     "status": "completed"
    },
    "tags": []
   },
   "source": [
    "## Visualize the prediction and first activations maps"
   ]
  },
  {
   "cell_type": "code",
   "execution_count": 15,
   "id": "29ede80a",
   "metadata": {
    "execution": {
     "iopub.execute_input": "2024-08-20T07:52:01.204665Z",
     "iopub.status.busy": "2024-08-20T07:52:01.204361Z",
     "iopub.status.idle": "2024-08-20T07:52:02.609473Z",
     "shell.execute_reply": "2024-08-20T07:52:02.608554Z"
    },
    "papermill": {
     "duration": 1.440654,
     "end_time": "2024-08-20T07:52:02.611664",
     "exception": false,
     "start_time": "2024-08-20T07:52:01.171010",
     "status": "completed"
    },
    "tags": []
   },
   "outputs": [
    {
     "name": "stdout",
     "output_type": "stream",
     "text": [
      "Input image\n"
     ]
    },
    {
     "data": {
      "image/png": "[encoded data removed]",
      "text/plain": [
       "<Figure size 1800x500 with 2 Axes>"
      ]
     },
     "metadata": {},
     "output_type": "display_data"
    },
    {
     "name": "stdout",
     "output_type": "stream",
     "text": [
      "First activation maps\n"
     ]
    },
    {
     "data": {
      "image/png": "[encoded data removed]",
      "text/plain": [
       "<Figure size 2000x2000 with 6 Axes>"
      ]
     },
     "metadata": {},
     "output_type": "display_data"
    }
   ],
   "source": [
    "first_activations = tf.keras.Sequential(model.layers[:2])\n",
    "            \n",
    "# Add batch dimension for compatibility\n",
    "feature_maps = first_activations(tf.expand_dims(image, axis=0))\n",
    "        \n",
    "# Remove batch dimension\n",
    "feature_maps = tf.squeeze(feature_maps, axis=0)\n",
    "\n",
    "\n",
    "\n",
    "# Display the input image, true label, and predicted label\n",
    "print('Input image')\n",
    "fig, (ax1, ax2) = plt.subplots(1, 2)\n",
    "fig.set_size_inches(18, 5)\n",
    "ax1.imshow(image)\n",
    "ax1.set_title(f'True label: {label}')\n",
    "prediction = model.predict(np.expand_dims(image, axis=0), verbose=0)\n",
    "ax2.barh(class_names, np.squeeze(prediction, axis=0), color=plt.get_cmap('Paired').colors)\n",
    "ax2.set_title('Predicted label: ' + class_names[np.argmax(prediction)])\n",
    "ax2.grid(alpha=0.3)\n",
    "plt.show()\n",
    "print('First activation maps')\n",
    "# Plot each channel\n",
    "num_channels = feature_maps.shape[-1]\n",
    "fig, axes = plt.subplots(1, num_channels, figsize=(20, 20))\n",
    "\n",
    "for j in range(num_channels):\n",
    "    ax = axes[j] if num_channels > 1 else axes\n",
    "    ax.imshow(feature_maps[..., j])  # Or choose another colormap\n",
    "    ax.axis('off')\n",
    "       \n",
    "plt.show()\n"
   ]
  },
  {
   "cell_type": "markdown",
   "id": "3df6d517",
   "metadata": {
    "papermill": {
     "duration": 0.033755,
     "end_time": "2024-08-20T07:52:02.679634",
     "exception": false,
     "start_time": "2024-08-20T07:52:02.645879",
     "status": "completed"
    },
    "tags": []
   },
   "source": [
    "## confusion matrix"
   ]
  },
  {
   "cell_type": "code",
   "execution_count": 16,
   "id": "ad5f5e1c",
   "metadata": {
    "execution": {
     "iopub.execute_input": "2024-08-20T07:52:02.747868Z",
     "iopub.status.busy": "2024-08-20T07:52:02.747507Z",
     "iopub.status.idle": "2024-08-20T07:52:02.754450Z",
     "shell.execute_reply": "2024-08-20T07:52:02.753583Z"
    },
    "papermill": {
     "duration": 0.043561,
     "end_time": "2024-08-20T07:52:02.756482",
     "exception": false,
     "start_time": "2024-08-20T07:52:02.712921",
     "status": "completed"
    },
    "tags": []
   },
   "outputs": [],
   "source": [
    "def accuracy_per_class(model):\n",
    "    y_true = np.concatenate([y for x, y in val_ds], axis=0)\n",
    "    y_pred = model.predict(val_ds)\n",
    "    y_pred = np.argmax(y_pred, axis=1) \n",
    "    y_true = np.argmax(y_true, axis=1)\n",
    "    cnt = 0\n",
    "    prd = 0 \n",
    "    labels = [0,1,2]\n",
    "    for val in labels:\n",
    "        cnt = 0\n",
    "        prd = 0\n",
    "        for val_true,val_predict in zip(y_true,y_pred):\n",
    "            if val_true == val:\n",
    "                cnt +=1\n",
    "                if val_true == val_predict:\n",
    "                    prd +=1\n",
    "    \n",
    "        print(f'Label {val} accuracy: {prd/cnt}')\n"
   ]
  },
  {
   "cell_type": "code",
   "execution_count": 17,
   "id": "0601f341",
   "metadata": {
    "execution": {
     "iopub.execute_input": "2024-08-20T07:52:02.825178Z",
     "iopub.status.busy": "2024-08-20T07:52:02.824462Z",
     "iopub.status.idle": "2024-08-20T07:52:03.738394Z",
     "shell.execute_reply": "2024-08-20T07:52:03.737267Z"
    },
    "papermill": {
     "duration": 0.950812,
     "end_time": "2024-08-20T07:52:03.740580",
     "exception": false,
     "start_time": "2024-08-20T07:52:02.789768",
     "status": "completed"
    },
    "tags": []
   },
   "outputs": [
    {
     "name": "stdout",
     "output_type": "stream",
     "text": [
      "\u001b[1m44/44\u001b[0m \u001b[32m━━━━━━━━━━━━━━━━━━━━\u001b[0m\u001b[37m\u001b[0m \u001b[1m1s\u001b[0m 11ms/step\n",
      "Label 0 accuracy: 0.9221311475409836\n",
      "Label 1 accuracy: 0.9\n",
      "Label 2 accuracy: 0.6590909090909091\n"
     ]
    }
   ],
   "source": [
    "accuracy_per_class(model)\n"
   ]
  },
  {
   "cell_type": "code",
   "execution_count": 18,
   "id": "8a95da2f",
   "metadata": {
    "execution": {
     "iopub.execute_input": "2024-08-20T07:52:03.810582Z",
     "iopub.status.busy": "2024-08-20T07:52:03.810291Z",
     "iopub.status.idle": "2024-08-20T07:52:03.816684Z",
     "shell.execute_reply": "2024-08-20T07:52:03.815804Z"
    },
    "papermill": {
     "duration": 0.043077,
     "end_time": "2024-08-20T07:52:03.818653",
     "exception": false,
     "start_time": "2024-08-20T07:52:03.775576",
     "status": "completed"
    },
    "tags": []
   },
   "outputs": [],
   "source": [
    "def print_confusion_matrix(model):\n",
    "    y_true = np.concatenate([y for x, y in val_ds], axis=0)\n",
    "    y_pred = model.predict(val_ds)\n",
    "    y_pred = np.argmax(y_pred, axis=1) \n",
    "    y_true = np.argmax(y_true, axis=1)\n",
    "    cm = confusion_matrix(y_true, y_pred)\n",
    "    plt.figure(figsize=(10, 8))\n",
    "    sns.heatmap(cm, annot=True, fmt=\"d\", cmap=\"Blues\")\n",
    "    plt.ylabel('True Labels')\n",
    "    plt.xlabel('Predicted Labels')\n",
    "    plt.show()"
   ]
  },
  {
   "cell_type": "code",
   "execution_count": 19,
   "id": "a570578e",
   "metadata": {
    "execution": {
     "iopub.execute_input": "2024-08-20T07:52:03.886970Z",
     "iopub.status.busy": "2024-08-20T07:52:03.886600Z",
     "iopub.status.idle": "2024-08-20T07:52:04.309355Z",
     "shell.execute_reply": "2024-08-20T07:52:04.308433Z"
    },
    "papermill": {
     "duration": 0.459278,
     "end_time": "2024-08-20T07:52:04.311691",
     "exception": false,
     "start_time": "2024-08-20T07:52:03.852413",
     "status": "completed"
    },
    "tags": []
   },
   "outputs": [
    {
     "name": "stdout",
     "output_type": "stream",
     "text": [
      "\u001b[1m44/44\u001b[0m \u001b[32m━━━━━━━━━━━━━━━━━━━━\u001b[0m\u001b[37m\u001b[0m \u001b[1m0s\u001b[0m 2ms/step\n"
     ]
    },
    {
     "data": {
      "image/png": "[encoded data removed]",
      "text/plain": [
       "<Figure size 1000x800 with 2 Axes>"
      ]
     },
     "metadata": {},
     "output_type": "display_data"
    }
   ],
   "source": [
    "print_confusion_matrix(model)\n"
   ]
  },
  {
   "cell_type": "markdown",
   "id": "4b597d0f",
   "metadata": {
    "papermill": {
     "duration": 0.034435,
     "end_time": "2024-08-20T07:52:04.381386",
     "exception": false,
     "start_time": "2024-08-20T07:52:04.346951",
     "status": "completed"
    },
    "tags": []
   },
   "source": [
    "## obtain activation maps"
   ]
  },
  {
   "cell_type": "code",
   "execution_count": 20,
   "id": "10442df6",
   "metadata": {
    "execution": {
     "iopub.execute_input": "2024-08-20T07:52:04.452848Z",
     "iopub.status.busy": "2024-08-20T07:52:04.452060Z",
     "iopub.status.idle": "2024-08-20T07:52:07.299769Z",
     "shell.execute_reply": "2024-08-20T07:52:07.298796Z"
    },
    "papermill": {
     "duration": 2.885364,
     "end_time": "2024-08-20T07:52:07.302218",
     "exception": false,
     "start_time": "2024-08-20T07:52:04.416854",
     "status": "completed"
    },
    "tags": []
   },
   "outputs": [
    {
     "name": "stdout",
     "output_type": "stream",
     "text": [
      "Found 6942 files belonging to 3 classes.\n"
     ]
    }
   ],
   "source": [
    "ds = tf.keras.preprocessing.image_dataset_from_directory(\n",
    "    dataset_dir,\n",
    "    labels = 'inferred',\n",
    "    image_size=(img_height, img_width),\n",
    "    shuffle=True,\n",
    "    seed=123,\n",
    "    label_mode='categorical',\n",
    "    color_mode='rgb',\n",
    "\n",
    ")\n",
    "\n",
    "ds = ds.map(rescale)"
   ]
  },
  {
   "cell_type": "code",
   "execution_count": 21,
   "id": "427ea41d",
   "metadata": {
    "execution": {
     "iopub.execute_input": "2024-08-20T07:52:07.375713Z",
     "iopub.status.busy": "2024-08-20T07:52:07.375181Z",
     "iopub.status.idle": "2024-08-20T07:52:09.321317Z",
     "shell.execute_reply": "2024-08-20T07:52:09.319893Z"
    },
    "papermill": {
     "duration": 1.986861,
     "end_time": "2024-08-20T07:52:09.325041",
     "exception": false,
     "start_time": "2024-08-20T07:52:07.338180",
     "status": "completed"
    },
    "tags": []
   },
   "outputs": [
    {
     "name": "stdout",
     "output_type": "stream",
     "text": [
      "True label left\n"
     ]
    },
    {
     "data": {
      "image/png": "[encoded data removed]",
      "text/plain": [
       "<Figure size 640x480 with 1 Axes>"
      ]
     },
     "metadata": {},
     "output_type": "display_data"
    },
    {
     "name": "stdout",
     "output_type": "stream",
     "text": [
      "1 Convolutional Layer\n"
     ]
    },
    {
     "data": {
      "image/png": "[encoded data removed]",
      "text/plain": [
       "<Figure size 2000x2000 with 6 Axes>"
      ]
     },
     "metadata": {},
     "output_type": "display_data"
    },
    {
     "name": "stdout",
     "output_type": "stream",
     "text": [
      "2 Convolutional Layer\n"
     ]
    },
    {
     "data": {
      "image/png": "[encoded data removed]",
      "text/plain": [
       "<Figure size 2000x2000 with 16 Axes>"
      ]
     },
     "metadata": {},
     "output_type": "display_data"
    },
    {
     "name": "stdout",
     "output_type": "stream",
     "text": [
      "3 Convolutional Layer\n"
     ]
    },
    {
     "data": {
      "image/png": "[encoded data removed]",
      "text/plain": [
       "<Figure size 2000x2000 with 24 Axes>"
      ]
     },
     "metadata": {},
     "output_type": "display_data"
    }
   ],
   "source": [
    "image_index = random.randint(0, batch_size-1)\n",
    "\n",
    "for images, labels in ds.take(1):\n",
    "    print(f'True label {class_names[np.argmax(labels[image_index])]}')\n",
    "    plt.imshow(images[image_index])\n",
    "    plt.show()\n",
    "    for i,layer in enumerate(model.layers):\n",
    "        if 'conv' in layer.name:\n",
    "            print(f'{i//2+1} Convolutional Layer')        \n",
    "            conv_layer = tf.keras.Sequential(model.layers[:i+1])\n",
    "            \n",
    "            # Add batch dimension for compatibility\n",
    "            feature_maps = conv_layer(tf.expand_dims(images[image_index], axis=0))\n",
    "        \n",
    "            # Remove batch dimension\n",
    "            feature_maps = tf.squeeze(feature_maps, axis=0)\n",
    "        \n",
    "            # Plot each channel\n",
    "            num_channels = feature_maps.shape[-1]\n",
    "            fig, axes = plt.subplots(1, num_channels, figsize=(20, 20))\n",
    "\n",
    "            for j in range(num_channels):\n",
    "                ax = axes[j] if num_channels > 1 else axes\n",
    "                ax.imshow(feature_maps[..., j], cmap='viridis')  # Or choose another colormap\n",
    "                ax.axis('off')\n",
    "        \n",
    "            plt.show()\n",
    "        \n",
    "        \n"
   ]
  },
  {
   "cell_type": "markdown",
   "id": "8f61163a",
   "metadata": {
    "papermill": {
     "duration": 0.036881,
     "end_time": "2024-08-20T07:52:09.404255",
     "exception": false,
     "start_time": "2024-08-20T07:52:09.367374",
     "status": "completed"
    },
    "tags": []
   },
   "source": [
    "## Efficient Net\n"
   ]
  },
  {
   "cell_type": "code",
   "execution_count": 22,
   "id": "0042bf9c",
   "metadata": {
    "execution": {
     "iopub.execute_input": "2024-08-20T07:52:09.480133Z",
     "iopub.status.busy": "2024-08-20T07:52:09.479774Z",
     "iopub.status.idle": "2024-08-20T07:52:09.537353Z",
     "shell.execute_reply": "2024-08-20T07:52:09.536631Z"
    },
    "papermill": {
     "duration": 0.097052,
     "end_time": "2024-08-20T07:52:09.539340",
     "exception": false,
     "start_time": "2024-08-20T07:52:09.442288",
     "status": "completed"
    },
    "tags": []
   },
   "outputs": [],
   "source": [
    "train_ds = train_ds.map(inverse_rescale)\n",
    "val_ds = val_ds.map(inverse_rescale)"
   ]
  },
  {
   "cell_type": "code",
   "execution_count": 23,
   "id": "8933f211",
   "metadata": {
    "execution": {
     "iopub.execute_input": "2024-08-20T07:52:09.613459Z",
     "iopub.status.busy": "2024-08-20T07:52:09.613149Z",
     "iopub.status.idle": "2024-08-20T07:52:11.796134Z",
     "shell.execute_reply": "2024-08-20T07:52:11.795288Z"
    },
    "papermill": {
     "duration": 2.222689,
     "end_time": "2024-08-20T07:52:11.798337",
     "exception": false,
     "start_time": "2024-08-20T07:52:09.575648",
     "status": "completed"
    },
    "tags": []
   },
   "outputs": [],
   "source": [
    "# Create EfficientNetV2S model with specified settings\n",
    "## INPUT IS [0-255] WARNING\n",
    "efficientnet = tfk.applications.EfficientNetV2S(\n",
    "    input_shape=(48, 48, 3),\n",
    "    include_top=False,\n",
    "    weights=None,\n",
    "    pooling='avg',\n",
    "    include_preprocessing=True\n",
    ")\n"
   ]
  },
  {
   "cell_type": "code",
   "execution_count": 24,
   "id": "5c292ef9",
   "metadata": {
    "execution": {
     "iopub.execute_input": "2024-08-20T07:52:11.873175Z",
     "iopub.status.busy": "2024-08-20T07:52:11.872825Z",
     "iopub.status.idle": "2024-08-20T07:52:11.931204Z",
     "shell.execute_reply": "2024-08-20T07:52:11.930377Z"
    },
    "papermill": {
     "duration": 0.09773,
     "end_time": "2024-08-20T07:52:11.933145",
     "exception": false,
     "start_time": "2024-08-20T07:52:11.835415",
     "status": "completed"
    },
    "tags": []
   },
   "outputs": [
    {
     "data": {
      "text/html": [
       "<pre style=\"white-space:pre;overflow-x:auto;line-height:normal;font-family:Menlo,'DejaVu Sans Mono',consolas,'Courier New',monospace\"><span style=\"font-weight: bold\">Model: \"model\"</span>\n",
       "</pre>\n"
      ],
      "text/plain": [
       "\u001b[1mModel: \"model\"\u001b[0m\n"
      ]
     },
     "metadata": {},
     "output_type": "display_data"
    },
    {
     "data": {
      "text/html": [
       "<pre style=\"white-space:pre;overflow-x:auto;line-height:normal;font-family:Menlo,'DejaVu Sans Mono',consolas,'Courier New',monospace\">┏━━━━━━━━━━━━━━━━━━━━━━━━━━━━━━━━━┳━━━━━━━━━━━━━━━━━━━━━━━━┳━━━━━━━━━━━━━━━┓\n",
       "┃<span style=\"font-weight: bold\"> Layer (type)                    </span>┃<span style=\"font-weight: bold\"> Output Shape           </span>┃<span style=\"font-weight: bold\">       Param # </span>┃\n",
       "┡━━━━━━━━━━━━━━━━━━━━━━━━━━━━━━━━━╇━━━━━━━━━━━━━━━━━━━━━━━━╇━━━━━━━━━━━━━━━┩\n",
       "│ input_layer_1 (<span style=\"color: #0087ff; text-decoration-color: #0087ff\">InputLayer</span>)      │ (<span style=\"color: #00d7ff; text-decoration-color: #00d7ff\">None</span>, <span style=\"color: #00af00; text-decoration-color: #00af00\">48</span>, <span style=\"color: #00af00; text-decoration-color: #00af00\">48</span>, <span style=\"color: #00af00; text-decoration-color: #00af00\">3</span>)      │             <span style=\"color: #00af00; text-decoration-color: #00af00\">0</span> │\n",
       "├─────────────────────────────────┼────────────────────────┼───────────────┤\n",
       "│ efficientnetv2-s (<span style=\"color: #0087ff; text-decoration-color: #0087ff\">Functional</span>)   │ (<span style=\"color: #00d7ff; text-decoration-color: #00d7ff\">None</span>, <span style=\"color: #00af00; text-decoration-color: #00af00\">1280</span>)           │    <span style=\"color: #00af00; text-decoration-color: #00af00\">20,331,360</span> │\n",
       "├─────────────────────────────────┼────────────────────────┼───────────────┤\n",
       "│ dense (<span style=\"color: #0087ff; text-decoration-color: #0087ff\">Dense</span>)                   │ (<span style=\"color: #00d7ff; text-decoration-color: #00d7ff\">None</span>, <span style=\"color: #00af00; text-decoration-color: #00af00\">3</span>)              │         <span style=\"color: #00af00; text-decoration-color: #00af00\">3,843</span> │\n",
       "└─────────────────────────────────┴────────────────────────┴───────────────┘\n",
       "</pre>\n"
      ],
      "text/plain": [
       "┏━━━━━━━━━━━━━━━━━━━━━━━━━━━━━━━━━┳━━━━━━━━━━━━━━━━━━━━━━━━┳━━━━━━━━━━━━━━━┓\n",
       "┃\u001b[1m \u001b[0m\u001b[1mLayer (type)                   \u001b[0m\u001b[1m \u001b[0m┃\u001b[1m \u001b[0m\u001b[1mOutput Shape          \u001b[0m\u001b[1m \u001b[0m┃\u001b[1m \u001b[0m\u001b[1m      Param #\u001b[0m\u001b[1m \u001b[0m┃\n",
       "┡━━━━━━━━━━━━━━━━━━━━━━━━━━━━━━━━━╇━━━━━━━━━━━━━━━━━━━━━━━━╇━━━━━━━━━━━━━━━┩\n",
       "│ input_layer_1 (\u001b[38;5;33mInputLayer\u001b[0m)      │ (\u001b[38;5;45mNone\u001b[0m, \u001b[38;5;34m48\u001b[0m, \u001b[38;5;34m48\u001b[0m, \u001b[38;5;34m3\u001b[0m)      │             \u001b[38;5;34m0\u001b[0m │\n",
       "├─────────────────────────────────┼────────────────────────┼───────────────┤\n",
       "│ efficientnetv2-s (\u001b[38;5;33mFunctional\u001b[0m)   │ (\u001b[38;5;45mNone\u001b[0m, \u001b[38;5;34m1280\u001b[0m)           │    \u001b[38;5;34m20,331,360\u001b[0m │\n",
       "├─────────────────────────────────┼────────────────────────┼───────────────┤\n",
       "│ dense (\u001b[38;5;33mDense\u001b[0m)                   │ (\u001b[38;5;45mNone\u001b[0m, \u001b[38;5;34m3\u001b[0m)              │         \u001b[38;5;34m3,843\u001b[0m │\n",
       "└─────────────────────────────────┴────────────────────────┴───────────────┘\n"
      ]
     },
     "metadata": {},
     "output_type": "display_data"
    },
    {
     "data": {
      "text/html": [
       "<pre style=\"white-space:pre;overflow-x:auto;line-height:normal;font-family:Menlo,'DejaVu Sans Mono',consolas,'Courier New',monospace\"><span style=\"font-weight: bold\"> Total params: </span><span style=\"color: #00af00; text-decoration-color: #00af00\">20,335,203</span> (77.57 MB)\n",
       "</pre>\n"
      ],
      "text/plain": [
       "\u001b[1m Total params: \u001b[0m\u001b[38;5;34m20,335,203\u001b[0m (77.57 MB)\n"
      ]
     },
     "metadata": {},
     "output_type": "display_data"
    },
    {
     "data": {
      "text/html": [
       "<pre style=\"white-space:pre;overflow-x:auto;line-height:normal;font-family:Menlo,'DejaVu Sans Mono',consolas,'Courier New',monospace\"><span style=\"font-weight: bold\"> Trainable params: </span><span style=\"color: #00af00; text-decoration-color: #00af00\">20,181,331</span> (76.99 MB)\n",
       "</pre>\n"
      ],
      "text/plain": [
       "\u001b[1m Trainable params: \u001b[0m\u001b[38;5;34m20,181,331\u001b[0m (76.99 MB)\n"
      ]
     },
     "metadata": {},
     "output_type": "display_data"
    },
    {
     "data": {
      "text/html": [
       "<pre style=\"white-space:pre;overflow-x:auto;line-height:normal;font-family:Menlo,'DejaVu Sans Mono',consolas,'Courier New',monospace\"><span style=\"font-weight: bold\"> Non-trainable params: </span><span style=\"color: #00af00; text-decoration-color: #00af00\">153,872</span> (601.06 KB)\n",
       "</pre>\n"
      ],
      "text/plain": [
       "\u001b[1m Non-trainable params: \u001b[0m\u001b[38;5;34m153,872\u001b[0m (601.06 KB)\n"
      ]
     },
     "metadata": {},
     "output_type": "display_data"
    }
   ],
   "source": [
    "# Create an input layer with shape (224, 224, 3)\n",
    "inputs = tfk.Input(shape=(48, 48, 3))\n",
    "# Connect EfficientNetV2S to the input\n",
    "x = efficientnet(inputs)\n",
    "# Add a Dense layer with 2 units and softmax activation as the classifier\n",
    "outputs = tfkl.Dense(3, activation='softmax')(x)\n",
    "\n",
    "# Create a Model connecting input and output\n",
    "model = tfk.Model(inputs=inputs, outputs=outputs, name='model')\n",
    "\n",
    "# Compile the model with Categorical Cross-Entropy loss and Adam optimizer\n",
    "model.compile(loss=tfk.losses.CategoricalCrossentropy(), optimizer=tfk.optimizers.Adam(), metrics=['accuracy'])\n",
    "\n",
    "# Display model summary\n",
    "model.summary()"
   ]
  },
  {
   "cell_type": "code",
   "execution_count": 25,
   "id": "a8b4ae72",
   "metadata": {
    "execution": {
     "iopub.execute_input": "2024-08-20T07:52:12.008526Z",
     "iopub.status.busy": "2024-08-20T07:52:12.008214Z",
     "iopub.status.idle": "2024-08-20T08:02:14.015026Z",
     "shell.execute_reply": "2024-08-20T08:02:14.014009Z"
    },
    "papermill": {
     "duration": 602.046988,
     "end_time": "2024-08-20T08:02:14.017369",
     "exception": false,
     "start_time": "2024-08-20T07:52:11.970381",
     "status": "completed"
    },
    "tags": []
   },
   "outputs": [
    {
     "name": "stdout",
     "output_type": "stream",
     "text": [
      "Epoch 1/200\n",
      "\u001b[1m174/174\u001b[0m \u001b[32m━━━━━━━━━━━━━━━━━━━━\u001b[0m\u001b[37m\u001b[0m \u001b[1m384s\u001b[0m 1s/step - accuracy: 0.6269 - loss: 0.9316 - val_accuracy: 0.7903 - val_loss: 0.5906\n",
      "Epoch 2/200\n",
      "\u001b[1m174/174\u001b[0m \u001b[32m━━━━━━━━━━━━━━━━━━━━\u001b[0m\u001b[37m\u001b[0m \u001b[1m13s\u001b[0m 72ms/step - accuracy: 0.7753 - loss: 0.5896 - val_accuracy: 0.7961 - val_loss: 0.5407\n",
      "Epoch 3/200\n",
      "\u001b[1m174/174\u001b[0m \u001b[32m━━━━━━━━━━━━━━━━━━━━\u001b[0m\u001b[37m\u001b[0m \u001b[1m12s\u001b[0m 71ms/step - accuracy: 0.7933 - loss: 0.5454 - val_accuracy: 0.8220 - val_loss: 0.4971\n",
      "Epoch 4/200\n",
      "\u001b[1m174/174\u001b[0m \u001b[32m━━━━━━━━━━━━━━━━━━━━\u001b[0m\u001b[37m\u001b[0m \u001b[1m12s\u001b[0m 70ms/step - accuracy: 0.8183 - loss: 0.4915 - val_accuracy: 0.7947 - val_loss: 0.5488\n",
      "Epoch 5/200\n",
      "\u001b[1m174/174\u001b[0m \u001b[32m━━━━━━━━━━━━━━━━━━━━\u001b[0m\u001b[37m\u001b[0m \u001b[1m12s\u001b[0m 71ms/step - accuracy: 0.8150 - loss: 0.5038 - val_accuracy: 0.8206 - val_loss: 0.4911\n",
      "Epoch 6/200\n",
      "\u001b[1m174/174\u001b[0m \u001b[32m━━━━━━━━━━━━━━━━━━━━\u001b[0m\u001b[37m\u001b[0m \u001b[1m12s\u001b[0m 70ms/step - accuracy: 0.8208 - loss: 0.4836 - val_accuracy: 0.8098 - val_loss: 0.5041\n",
      "Epoch 7/200\n",
      "\u001b[1m174/174\u001b[0m \u001b[32m━━━━━━━━━━━━━━━━━━━━\u001b[0m\u001b[37m\u001b[0m \u001b[1m12s\u001b[0m 70ms/step - accuracy: 0.8409 - loss: 0.4390 - val_accuracy: 0.8199 - val_loss: 0.5054\n",
      "Epoch 8/200\n",
      "\u001b[1m174/174\u001b[0m \u001b[32m━━━━━━━━━━━━━━━━━━━━\u001b[0m\u001b[37m\u001b[0m \u001b[1m12s\u001b[0m 71ms/step - accuracy: 0.8408 - loss: 0.4342 - val_accuracy: 0.8076 - val_loss: 0.4894\n",
      "Epoch 9/200\n",
      "\u001b[1m174/174\u001b[0m \u001b[32m━━━━━━━━━━━━━━━━━━━━\u001b[0m\u001b[37m\u001b[0m \u001b[1m12s\u001b[0m 72ms/step - accuracy: 0.8141 - loss: 0.5028 - val_accuracy: 0.8264 - val_loss: 0.4696\n",
      "Epoch 10/200\n",
      "\u001b[1m174/174\u001b[0m \u001b[32m━━━━━━━━━━━━━━━━━━━━\u001b[0m\u001b[37m\u001b[0m \u001b[1m12s\u001b[0m 70ms/step - accuracy: 0.8291 - loss: 0.4687 - val_accuracy: 0.8055 - val_loss: 0.5189\n",
      "Epoch 11/200\n",
      "\u001b[1m174/174\u001b[0m \u001b[32m━━━━━━━━━━━━━━━━━━━━\u001b[0m\u001b[37m\u001b[0m \u001b[1m12s\u001b[0m 72ms/step - accuracy: 0.8244 - loss: 0.4573 - val_accuracy: 0.8336 - val_loss: 0.5131\n",
      "Epoch 12/200\n",
      "\u001b[1m174/174\u001b[0m \u001b[32m━━━━━━━━━━━━━━━━━━━━\u001b[0m\u001b[37m\u001b[0m \u001b[1m12s\u001b[0m 70ms/step - accuracy: 0.8497 - loss: 0.4367 - val_accuracy: 0.8184 - val_loss: 0.5200\n",
      "Epoch 13/200\n",
      "\u001b[1m174/174\u001b[0m \u001b[32m━━━━━━━━━━━━━━━━━━━━\u001b[0m\u001b[37m\u001b[0m \u001b[1m21s\u001b[0m 71ms/step - accuracy: 0.8634 - loss: 0.3699 - val_accuracy: 0.8264 - val_loss: 0.5445\n",
      "Epoch 14/200\n",
      "\u001b[1m174/174\u001b[0m \u001b[32m━━━━━━━━━━━━━━━━━━━━\u001b[0m\u001b[37m\u001b[0m \u001b[1m12s\u001b[0m 71ms/step - accuracy: 0.8658 - loss: 0.3673 - val_accuracy: 0.8199 - val_loss: 0.5563\n",
      "Epoch 15/200\n",
      "\u001b[1m174/174\u001b[0m \u001b[32m━━━━━━━━━━━━━━━━━━━━\u001b[0m\u001b[37m\u001b[0m \u001b[1m12s\u001b[0m 71ms/step - accuracy: 0.8822 - loss: 0.3266 - val_accuracy: 0.8062 - val_loss: 0.5938\n",
      "Epoch 16/200\n",
      "\u001b[1m174/174\u001b[0m \u001b[32m━━━━━━━━━━━━━━━━━━━━\u001b[0m\u001b[37m\u001b[0m \u001b[1m12s\u001b[0m 71ms/step - accuracy: 0.8839 - loss: 0.3197 - val_accuracy: 0.8055 - val_loss: 0.7172\n",
      "Epoch 17/200\n",
      "\u001b[1m174/174\u001b[0m \u001b[32m━━━━━━━━━━━━━━━━━━━━\u001b[0m\u001b[37m\u001b[0m \u001b[1m12s\u001b[0m 71ms/step - accuracy: 0.8530 - loss: 0.4131 - val_accuracy: 0.8256 - val_loss: 0.4655\n",
      "Epoch 18/200\n",
      "\u001b[1m174/174\u001b[0m \u001b[32m━━━━━━━━━━━━━━━━━━━━\u001b[0m\u001b[37m\u001b[0m \u001b[1m12s\u001b[0m 70ms/step - accuracy: 0.8282 - loss: 0.4671 - val_accuracy: 0.8329 - val_loss: 0.4315\n"
     ]
    }
   ],
   "source": [
    "history = model.fit(\n",
    "    train_ds,\n",
    "    batch_size = 32,\n",
    "    epochs = 200,\n",
    "    validation_data = val_ds,\n",
    "    callbacks = [tfk.callbacks.EarlyStopping(monitor='val_accuracy', mode='max', patience=7, restore_best_weights=True)]\n",
    ").history"
   ]
  },
  {
   "cell_type": "code",
   "execution_count": 26,
   "id": "7dc1a900",
   "metadata": {
    "execution": {
     "iopub.execute_input": "2024-08-20T08:02:14.643664Z",
     "iopub.status.busy": "2024-08-20T08:02:14.642925Z",
     "iopub.status.idle": "2024-08-20T08:02:17.030656Z",
     "shell.execute_reply": "2024-08-20T08:02:17.029870Z"
    },
    "papermill": {
     "duration": 2.726458,
     "end_time": "2024-08-20T08:02:17.033039",
     "exception": false,
     "start_time": "2024-08-20T08:02:14.306581",
     "status": "completed"
    },
    "tags": []
   },
   "outputs": [],
   "source": [
    "model.save('Efficient.keras')"
   ]
  },
  {
   "cell_type": "markdown",
   "id": "d4d632dd",
   "metadata": {
    "papermill": {
     "duration": 0.28924,
     "end_time": "2024-08-20T08:02:17.611762",
     "exception": false,
     "start_time": "2024-08-20T08:02:17.322522",
     "status": "completed"
    },
    "tags": []
   },
   "source": [
    "## Transfer Learning"
   ]
  },
  {
   "cell_type": "code",
   "execution_count": 27,
   "id": "b7ba825d",
   "metadata": {
    "execution": {
     "iopub.execute_input": "2024-08-20T08:02:18.185473Z",
     "iopub.status.busy": "2024-08-20T08:02:18.184652Z",
     "iopub.status.idle": "2024-08-20T08:02:25.664279Z",
     "shell.execute_reply": "2024-08-20T08:02:25.663272Z"
    },
    "papermill": {
     "duration": 7.770969,
     "end_time": "2024-08-20T08:02:25.666820",
     "exception": false,
     "start_time": "2024-08-20T08:02:17.895851",
     "status": "completed"
    },
    "tags": []
   },
   "outputs": [
    {
     "name": "stdout",
     "output_type": "stream",
     "text": [
      "Downloading data from https://storage.googleapis.com/tensorflow/keras-applications/efficientnet_v2/efficientnetv2-s_notop.h5\n",
      "\u001b[1m82420632/82420632\u001b[0m \u001b[32m━━━━━━━━━━━━━━━━━━━━\u001b[0m\u001b[37m\u001b[0m \u001b[1m4s\u001b[0m 0us/step\n"
     ]
    }
   ],
   "source": [
    "efficientnet = tfk.applications.EfficientNetV2S(\n",
    "    input_shape=(48, 48, 3),\n",
    "    include_top=False,\n",
    "    weights=\"imagenet\",\n",
    "    pooling='avg',\n",
    "    include_preprocessing=True\n",
    ")"
   ]
  },
  {
   "cell_type": "code",
   "execution_count": 28,
   "id": "79265bea",
   "metadata": {
    "execution": {
     "iopub.execute_input": "2024-08-20T08:02:26.293659Z",
     "iopub.status.busy": "2024-08-20T08:02:26.292723Z",
     "iopub.status.idle": "2024-08-20T08:02:26.366026Z",
     "shell.execute_reply": "2024-08-20T08:02:26.365047Z"
    },
    "papermill": {
     "duration": 0.376815,
     "end_time": "2024-08-20T08:02:26.368356",
     "exception": false,
     "start_time": "2024-08-20T08:02:25.991541",
     "status": "completed"
    },
    "tags": []
   },
   "outputs": [
    {
     "data": {
      "text/html": [
       "<pre style=\"white-space:pre;overflow-x:auto;line-height:normal;font-family:Menlo,'DejaVu Sans Mono',consolas,'Courier New',monospace\"><span style=\"font-weight: bold\">Model: \"model\"</span>\n",
       "</pre>\n"
      ],
      "text/plain": [
       "\u001b[1mModel: \"model\"\u001b[0m\n"
      ]
     },
     "metadata": {},
     "output_type": "display_data"
    },
    {
     "data": {
      "text/html": [
       "<pre style=\"white-space:pre;overflow-x:auto;line-height:normal;font-family:Menlo,'DejaVu Sans Mono',consolas,'Courier New',monospace\">┏━━━━━━━━━━━━━━━━━━━━━━━━━━━━━━━━━┳━━━━━━━━━━━━━━━━━━━━━━━━┳━━━━━━━━━━━━━━━┓\n",
       "┃<span style=\"font-weight: bold\"> Layer (type)                    </span>┃<span style=\"font-weight: bold\"> Output Shape           </span>┃<span style=\"font-weight: bold\">       Param # </span>┃\n",
       "┡━━━━━━━━━━━━━━━━━━━━━━━━━━━━━━━━━╇━━━━━━━━━━━━━━━━━━━━━━━━╇━━━━━━━━━━━━━━━┩\n",
       "│ input_layer_3 (<span style=\"color: #0087ff; text-decoration-color: #0087ff\">InputLayer</span>)      │ (<span style=\"color: #00d7ff; text-decoration-color: #00d7ff\">None</span>, <span style=\"color: #00af00; text-decoration-color: #00af00\">48</span>, <span style=\"color: #00af00; text-decoration-color: #00af00\">48</span>, <span style=\"color: #00af00; text-decoration-color: #00af00\">3</span>)      │             <span style=\"color: #00af00; text-decoration-color: #00af00\">0</span> │\n",
       "├─────────────────────────────────┼────────────────────────┼───────────────┤\n",
       "│ efficientnetv2-s (<span style=\"color: #0087ff; text-decoration-color: #0087ff\">Functional</span>)   │ (<span style=\"color: #00d7ff; text-decoration-color: #00d7ff\">None</span>, <span style=\"color: #00af00; text-decoration-color: #00af00\">1280</span>)           │    <span style=\"color: #00af00; text-decoration-color: #00af00\">20,331,360</span> │\n",
       "├─────────────────────────────────┼────────────────────────┼───────────────┤\n",
       "│ dense_1 (<span style=\"color: #0087ff; text-decoration-color: #0087ff\">Dense</span>)                 │ (<span style=\"color: #00d7ff; text-decoration-color: #00d7ff\">None</span>, <span style=\"color: #00af00; text-decoration-color: #00af00\">3</span>)              │         <span style=\"color: #00af00; text-decoration-color: #00af00\">3,843</span> │\n",
       "└─────────────────────────────────┴────────────────────────┴───────────────┘\n",
       "</pre>\n"
      ],
      "text/plain": [
       "┏━━━━━━━━━━━━━━━━━━━━━━━━━━━━━━━━━┳━━━━━━━━━━━━━━━━━━━━━━━━┳━━━━━━━━━━━━━━━┓\n",
       "┃\u001b[1m \u001b[0m\u001b[1mLayer (type)                   \u001b[0m\u001b[1m \u001b[0m┃\u001b[1m \u001b[0m\u001b[1mOutput Shape          \u001b[0m\u001b[1m \u001b[0m┃\u001b[1m \u001b[0m\u001b[1m      Param #\u001b[0m\u001b[1m \u001b[0m┃\n",
       "┡━━━━━━━━━━━━━━━━━━━━━━━━━━━━━━━━━╇━━━━━━━━━━━━━━━━━━━━━━━━╇━━━━━━━━━━━━━━━┩\n",
       "│ input_layer_3 (\u001b[38;5;33mInputLayer\u001b[0m)      │ (\u001b[38;5;45mNone\u001b[0m, \u001b[38;5;34m48\u001b[0m, \u001b[38;5;34m48\u001b[0m, \u001b[38;5;34m3\u001b[0m)      │             \u001b[38;5;34m0\u001b[0m │\n",
       "├─────────────────────────────────┼────────────────────────┼───────────────┤\n",
       "│ efficientnetv2-s (\u001b[38;5;33mFunctional\u001b[0m)   │ (\u001b[38;5;45mNone\u001b[0m, \u001b[38;5;34m1280\u001b[0m)           │    \u001b[38;5;34m20,331,360\u001b[0m │\n",
       "├─────────────────────────────────┼────────────────────────┼───────────────┤\n",
       "│ dense_1 (\u001b[38;5;33mDense\u001b[0m)                 │ (\u001b[38;5;45mNone\u001b[0m, \u001b[38;5;34m3\u001b[0m)              │         \u001b[38;5;34m3,843\u001b[0m │\n",
       "└─────────────────────────────────┴────────────────────────┴───────────────┘\n"
      ]
     },
     "metadata": {},
     "output_type": "display_data"
    },
    {
     "data": {
      "text/html": [
       "<pre style=\"white-space:pre;overflow-x:auto;line-height:normal;font-family:Menlo,'DejaVu Sans Mono',consolas,'Courier New',monospace\"><span style=\"font-weight: bold\"> Total params: </span><span style=\"color: #00af00; text-decoration-color: #00af00\">20,335,203</span> (77.57 MB)\n",
       "</pre>\n"
      ],
      "text/plain": [
       "\u001b[1m Total params: \u001b[0m\u001b[38;5;34m20,335,203\u001b[0m (77.57 MB)\n"
      ]
     },
     "metadata": {},
     "output_type": "display_data"
    },
    {
     "data": {
      "text/html": [
       "<pre style=\"white-space:pre;overflow-x:auto;line-height:normal;font-family:Menlo,'DejaVu Sans Mono',consolas,'Courier New',monospace\"><span style=\"font-weight: bold\"> Trainable params: </span><span style=\"color: #00af00; text-decoration-color: #00af00\">3,843</span> (15.01 KB)\n",
       "</pre>\n"
      ],
      "text/plain": [
       "\u001b[1m Trainable params: \u001b[0m\u001b[38;5;34m3,843\u001b[0m (15.01 KB)\n"
      ]
     },
     "metadata": {},
     "output_type": "display_data"
    },
    {
     "data": {
      "text/html": [
       "<pre style=\"white-space:pre;overflow-x:auto;line-height:normal;font-family:Menlo,'DejaVu Sans Mono',consolas,'Courier New',monospace\"><span style=\"font-weight: bold\"> Non-trainable params: </span><span style=\"color: #00af00; text-decoration-color: #00af00\">20,331,360</span> (77.56 MB)\n",
       "</pre>\n"
      ],
      "text/plain": [
       "\u001b[1m Non-trainable params: \u001b[0m\u001b[38;5;34m20,331,360\u001b[0m (77.56 MB)\n"
      ]
     },
     "metadata": {},
     "output_type": "display_data"
    }
   ],
   "source": [
    "# Use the supernet as feature extractor, i.e. freeze all its weigths\n",
    "efficientnet.trainable = False\n",
    "\n",
    "# Create an input layer with shape (224, 224, 3)\n",
    "inputs = tfk.Input(shape=(48, 48, 3))\n",
    "# Connect EfficientNetV2S to the input\n",
    "x = efficientnet(inputs)\n",
    "# Add a Dense layer with 2 units and softmax activation as the classifier\n",
    "outputs = tfkl.Dense(3, activation='softmax')(x)\n",
    "\n",
    "# Create a Model connecting input and output\n",
    "tl_model = tfk.Model(inputs=inputs, outputs=outputs, name='model')\n",
    "\n",
    "# Compile the model with Categorical Cross-Entropy loss and Adam optimizer\n",
    "tl_model.compile(loss=tfk.losses.CategoricalCrossentropy(), optimizer=tfk.optimizers.Adam(), metrics=['accuracy'])\n",
    "\n",
    "# Display model summary\n",
    "tl_model.summary()"
   ]
  },
  {
   "cell_type": "code",
   "execution_count": 29,
   "id": "688246a7",
   "metadata": {
    "execution": {
     "iopub.execute_input": "2024-08-20T08:02:26.968596Z",
     "iopub.status.busy": "2024-08-20T08:02:26.968231Z",
     "iopub.status.idle": "2024-08-20T08:06:57.079192Z",
     "shell.execute_reply": "2024-08-20T08:06:57.078320Z"
    },
    "papermill": {
     "duration": 270.408961,
     "end_time": "2024-08-20T08:06:57.081487",
     "exception": false,
     "start_time": "2024-08-20T08:02:26.672526",
     "status": "completed"
    },
    "tags": []
   },
   "outputs": [
    {
     "name": "stdout",
     "output_type": "stream",
     "text": [
      "Epoch 1/200\n",
      "\u001b[1m174/174\u001b[0m \u001b[32m━━━━━━━━━━━━━━━━━━━━\u001b[0m\u001b[37m\u001b[0m \u001b[1m152s\u001b[0m 426ms/step - accuracy: 0.5058 - loss: 1.0241 - val_accuracy: 0.6419 - val_loss: 0.8630\n",
      "Epoch 2/200\n",
      "\u001b[1m174/174\u001b[0m \u001b[32m━━━━━━━━━━━━━━━━━━━━\u001b[0m\u001b[37m\u001b[0m \u001b[1m4s\u001b[0m 24ms/step - accuracy: 0.6259 - loss: 0.8712 - val_accuracy: 0.6722 - val_loss: 0.8096\n",
      "Epoch 3/200\n",
      "\u001b[1m174/174\u001b[0m \u001b[32m━━━━━━━━━━━━━━━━━━━━\u001b[0m\u001b[37m\u001b[0m \u001b[1m4s\u001b[0m 24ms/step - accuracy: 0.6587 - loss: 0.8260 - val_accuracy: 0.6866 - val_loss: 0.7796\n",
      "Epoch 4/200\n",
      "\u001b[1m174/174\u001b[0m \u001b[32m━━━━━━━━━━━━━━━━━━━━\u001b[0m\u001b[37m\u001b[0m \u001b[1m4s\u001b[0m 24ms/step - accuracy: 0.6688 - loss: 0.7996 - val_accuracy: 0.7039 - val_loss: 0.7570\n",
      "Epoch 5/200\n",
      "\u001b[1m174/174\u001b[0m \u001b[32m━━━━━━━━━━━━━━━━━━━━\u001b[0m\u001b[37m\u001b[0m \u001b[1m4s\u001b[0m 24ms/step - accuracy: 0.6778 - loss: 0.7851 - val_accuracy: 0.7089 - val_loss: 0.7403\n",
      "Epoch 6/200\n",
      "\u001b[1m174/174\u001b[0m \u001b[32m━━━━━━━━━━━━━━━━━━━━\u001b[0m\u001b[37m\u001b[0m \u001b[1m4s\u001b[0m 24ms/step - accuracy: 0.6753 - loss: 0.7713 - val_accuracy: 0.7140 - val_loss: 0.7253\n",
      "Epoch 7/200\n",
      "\u001b[1m174/174\u001b[0m \u001b[32m━━━━━━━━━━━━━━━━━━━━\u001b[0m\u001b[37m\u001b[0m \u001b[1m4s\u001b[0m 24ms/step - accuracy: 0.6876 - loss: 0.7602 - val_accuracy: 0.7190 - val_loss: 0.7174\n",
      "Epoch 8/200\n",
      "\u001b[1m174/174\u001b[0m \u001b[32m━━━━━━━━━━━━━━━━━━━━\u001b[0m\u001b[37m\u001b[0m \u001b[1m4s\u001b[0m 24ms/step - accuracy: 0.6909 - loss: 0.7503 - val_accuracy: 0.7356 - val_loss: 0.7038\n",
      "Epoch 9/200\n",
      "\u001b[1m174/174\u001b[0m \u001b[32m━━━━━━━━━━━━━━━━━━━━\u001b[0m\u001b[37m\u001b[0m \u001b[1m4s\u001b[0m 24ms/step - accuracy: 0.6983 - loss: 0.7419 - val_accuracy: 0.7378 - val_loss: 0.6954\n",
      "Epoch 10/200\n",
      "\u001b[1m174/174\u001b[0m \u001b[32m━━━━━━━━━━━━━━━━━━━━\u001b[0m\u001b[37m\u001b[0m \u001b[1m4s\u001b[0m 23ms/step - accuracy: 0.6972 - loss: 0.7341 - val_accuracy: 0.7341 - val_loss: 0.6887\n",
      "Epoch 11/200\n",
      "\u001b[1m174/174\u001b[0m \u001b[32m━━━━━━━━━━━━━━━━━━━━\u001b[0m\u001b[37m\u001b[0m \u001b[1m4s\u001b[0m 22ms/step - accuracy: 0.7065 - loss: 0.7304 - val_accuracy: 0.7370 - val_loss: 0.6834\n",
      "Epoch 12/200\n",
      "\u001b[1m174/174\u001b[0m \u001b[32m━━━━━━━━━━━━━━━━━━━━\u001b[0m\u001b[37m\u001b[0m \u001b[1m4s\u001b[0m 24ms/step - accuracy: 0.7061 - loss: 0.7216 - val_accuracy: 0.7385 - val_loss: 0.6767\n",
      "Epoch 13/200\n",
      "\u001b[1m174/174\u001b[0m \u001b[32m━━━━━━━━━━━━━━━━━━━━\u001b[0m\u001b[37m\u001b[0m \u001b[1m4s\u001b[0m 24ms/step - accuracy: 0.7110 - loss: 0.7170 - val_accuracy: 0.7435 - val_loss: 0.6728\n",
      "Epoch 14/200\n",
      "\u001b[1m174/174\u001b[0m \u001b[32m━━━━━━━━━━━━━━━━━━━━\u001b[0m\u001b[37m\u001b[0m \u001b[1m4s\u001b[0m 23ms/step - accuracy: 0.7142 - loss: 0.7034 - val_accuracy: 0.7428 - val_loss: 0.6665\n",
      "Epoch 15/200\n",
      "\u001b[1m174/174\u001b[0m \u001b[32m━━━━━━━━━━━━━━━━━━━━\u001b[0m\u001b[37m\u001b[0m \u001b[1m4s\u001b[0m 22ms/step - accuracy: 0.7177 - loss: 0.7093 - val_accuracy: 0.7428 - val_loss: 0.6632\n",
      "Epoch 16/200\n",
      "\u001b[1m174/174\u001b[0m \u001b[32m━━━━━━━━━━━━━━━━━━━━\u001b[0m\u001b[37m\u001b[0m \u001b[1m4s\u001b[0m 24ms/step - accuracy: 0.7119 - loss: 0.7131 - val_accuracy: 0.7493 - val_loss: 0.6587\n",
      "Epoch 17/200\n",
      "\u001b[1m174/174\u001b[0m \u001b[32m━━━━━━━━━━━━━━━━━━━━\u001b[0m\u001b[37m\u001b[0m \u001b[1m4s\u001b[0m 22ms/step - accuracy: 0.7141 - loss: 0.7045 - val_accuracy: 0.7428 - val_loss: 0.6576\n",
      "Epoch 18/200\n",
      "\u001b[1m174/174\u001b[0m \u001b[32m━━━━━━━━━━━━━━━━━━━━\u001b[0m\u001b[37m\u001b[0m \u001b[1m4s\u001b[0m 23ms/step - accuracy: 0.7157 - loss: 0.6902 - val_accuracy: 0.7478 - val_loss: 0.6520\n",
      "Epoch 19/200\n",
      "\u001b[1m174/174\u001b[0m \u001b[32m━━━━━━━━━━━━━━━━━━━━\u001b[0m\u001b[37m\u001b[0m \u001b[1m4s\u001b[0m 23ms/step - accuracy: 0.7186 - loss: 0.6937 - val_accuracy: 0.7493 - val_loss: 0.6528\n",
      "Epoch 20/200\n",
      "\u001b[1m174/174\u001b[0m \u001b[32m━━━━━━━━━━━━━━━━━━━━\u001b[0m\u001b[37m\u001b[0m \u001b[1m4s\u001b[0m 24ms/step - accuracy: 0.7232 - loss: 0.6926 - val_accuracy: 0.7529 - val_loss: 0.6501\n",
      "Epoch 21/200\n",
      "\u001b[1m174/174\u001b[0m \u001b[32m━━━━━━━━━━━━━━━━━━━━\u001b[0m\u001b[37m\u001b[0m \u001b[1m4s\u001b[0m 24ms/step - accuracy: 0.7248 - loss: 0.6863 - val_accuracy: 0.7550 - val_loss: 0.6464\n",
      "Epoch 22/200\n",
      "\u001b[1m174/174\u001b[0m \u001b[32m━━━━━━━━━━━━━━━━━━━━\u001b[0m\u001b[37m\u001b[0m \u001b[1m4s\u001b[0m 22ms/step - accuracy: 0.7264 - loss: 0.6862 - val_accuracy: 0.7550 - val_loss: 0.6436\n",
      "Epoch 23/200\n",
      "\u001b[1m174/174\u001b[0m \u001b[32m━━━━━━━━━━━━━━━━━━━━\u001b[0m\u001b[37m\u001b[0m \u001b[1m4s\u001b[0m 23ms/step - accuracy: 0.7215 - loss: 0.6815 - val_accuracy: 0.7536 - val_loss: 0.6413\n",
      "Epoch 24/200\n",
      "\u001b[1m174/174\u001b[0m \u001b[32m━━━━━━━━━━━━━━━━━━━━\u001b[0m\u001b[37m\u001b[0m \u001b[1m4s\u001b[0m 24ms/step - accuracy: 0.7233 - loss: 0.6714 - val_accuracy: 0.7558 - val_loss: 0.6365\n",
      "Epoch 25/200\n",
      "\u001b[1m174/174\u001b[0m \u001b[32m━━━━━━━━━━━━━━━━━━━━\u001b[0m\u001b[37m\u001b[0m \u001b[1m4s\u001b[0m 23ms/step - accuracy: 0.7227 - loss: 0.6835 - val_accuracy: 0.7601 - val_loss: 0.6346\n",
      "Epoch 26/200\n",
      "\u001b[1m174/174\u001b[0m \u001b[32m━━━━━━━━━━━━━━━━━━━━\u001b[0m\u001b[37m\u001b[0m \u001b[1m4s\u001b[0m 23ms/step - accuracy: 0.7272 - loss: 0.6778 - val_accuracy: 0.7565 - val_loss: 0.6342\n",
      "Epoch 27/200\n",
      "\u001b[1m174/174\u001b[0m \u001b[32m━━━━━━━━━━━━━━━━━━━━\u001b[0m\u001b[37m\u001b[0m \u001b[1m4s\u001b[0m 22ms/step - accuracy: 0.7325 - loss: 0.6710 - val_accuracy: 0.7572 - val_loss: 0.6322\n",
      "Epoch 28/200\n",
      "\u001b[1m174/174\u001b[0m \u001b[32m━━━━━━━━━━━━━━━━━━━━\u001b[0m\u001b[37m\u001b[0m \u001b[1m4s\u001b[0m 23ms/step - accuracy: 0.7213 - loss: 0.6692 - val_accuracy: 0.7550 - val_loss: 0.6314\n",
      "Epoch 29/200\n",
      "\u001b[1m174/174\u001b[0m \u001b[32m━━━━━━━━━━━━━━━━━━━━\u001b[0m\u001b[37m\u001b[0m \u001b[1m4s\u001b[0m 22ms/step - accuracy: 0.7333 - loss: 0.6660 - val_accuracy: 0.7579 - val_loss: 0.6290\n",
      "Epoch 30/200\n",
      "\u001b[1m174/174\u001b[0m \u001b[32m━━━━━━━━━━━━━━━━━━━━\u001b[0m\u001b[37m\u001b[0m \u001b[1m4s\u001b[0m 22ms/step - accuracy: 0.7266 - loss: 0.6642 - val_accuracy: 0.7572 - val_loss: 0.6283\n"
     ]
    }
   ],
   "source": [
    "tl_history = tl_model.fit(\n",
    "    train_ds,\n",
    "    batch_size = 32,\n",
    "    epochs = 200,\n",
    "    validation_data = val_ds,\n",
    "    callbacks = [tfk.callbacks.EarlyStopping(monitor='val_accuracy', mode='max', patience=5, restore_best_weights=True)]\n",
    ").history"
   ]
  },
  {
   "cell_type": "code",
   "execution_count": 30,
   "id": "8c3b3d57",
   "metadata": {
    "execution": {
     "iopub.execute_input": "2024-08-20T08:06:57.960888Z",
     "iopub.status.busy": "2024-08-20T08:06:57.960488Z",
     "iopub.status.idle": "2024-08-20T08:06:59.264679Z",
     "shell.execute_reply": "2024-08-20T08:06:59.263661Z"
    },
    "papermill": {
     "duration": 1.745297,
     "end_time": "2024-08-20T08:06:59.267064",
     "exception": false,
     "start_time": "2024-08-20T08:06:57.521767",
     "status": "completed"
    },
    "tags": []
   },
   "outputs": [],
   "source": [
    "tl_model.save('TransferLearningModel.keras')"
   ]
  },
  {
   "cell_type": "markdown",
   "id": "57a366ec",
   "metadata": {
    "papermill": {
     "duration": 0.438094,
     "end_time": "2024-08-20T08:07:00.144854",
     "exception": false,
     "start_time": "2024-08-20T08:06:59.706760",
     "status": "completed"
    },
    "tags": []
   },
   "source": [
    "## Fine tuning"
   ]
  },
  {
   "cell_type": "code",
   "execution_count": 31,
   "id": "8c159416",
   "metadata": {
    "execution": {
     "iopub.execute_input": "2024-08-20T08:07:01.091209Z",
     "iopub.status.busy": "2024-08-20T08:07:01.090814Z",
     "iopub.status.idle": "2024-08-20T08:07:04.021797Z",
     "shell.execute_reply": "2024-08-20T08:07:04.020891Z"
    },
    "papermill": {
     "duration": 3.371142,
     "end_time": "2024-08-20T08:07:04.023872",
     "exception": false,
     "start_time": "2024-08-20T08:07:00.652730",
     "status": "completed"
    },
    "tags": []
   },
   "outputs": [
    {
     "data": {
      "text/html": [
       "<pre style=\"white-space:pre;overflow-x:auto;line-height:normal;font-family:Menlo,'DejaVu Sans Mono',consolas,'Courier New',monospace\"><span style=\"font-weight: bold\">Model: \"model\"</span>\n",
       "</pre>\n"
      ],
      "text/plain": [
       "\u001b[1mModel: \"model\"\u001b[0m\n"
      ]
     },
     "metadata": {},
     "output_type": "display_data"
    },
    {
     "data": {
      "text/html": [
       "<pre style=\"white-space:pre;overflow-x:auto;line-height:normal;font-family:Menlo,'DejaVu Sans Mono',consolas,'Courier New',monospace\">┏━━━━━━━━━━━━━━━━━━━━━━━━━━━━━━━━━┳━━━━━━━━━━━━━━━━━━━━━━━━┳━━━━━━━━━━━━━━━┓\n",
       "┃<span style=\"font-weight: bold\"> Layer (type)                    </span>┃<span style=\"font-weight: bold\"> Output Shape           </span>┃<span style=\"font-weight: bold\">       Param # </span>┃\n",
       "┡━━━━━━━━━━━━━━━━━━━━━━━━━━━━━━━━━╇━━━━━━━━━━━━━━━━━━━━━━━━╇━━━━━━━━━━━━━━━┩\n",
       "│ input_layer_3 (<span style=\"color: #0087ff; text-decoration-color: #0087ff\">InputLayer</span>)      │ (<span style=\"color: #00d7ff; text-decoration-color: #00d7ff\">None</span>, <span style=\"color: #00af00; text-decoration-color: #00af00\">48</span>, <span style=\"color: #00af00; text-decoration-color: #00af00\">48</span>, <span style=\"color: #00af00; text-decoration-color: #00af00\">3</span>)      │             <span style=\"color: #00af00; text-decoration-color: #00af00\">0</span> │\n",
       "├─────────────────────────────────┼────────────────────────┼───────────────┤\n",
       "│ efficientnetv2-s (<span style=\"color: #0087ff; text-decoration-color: #0087ff\">Functional</span>)   │ (<span style=\"color: #00d7ff; text-decoration-color: #00d7ff\">None</span>, <span style=\"color: #00af00; text-decoration-color: #00af00\">1280</span>)           │    <span style=\"color: #00af00; text-decoration-color: #00af00\">20,331,360</span> │\n",
       "├─────────────────────────────────┼────────────────────────┼───────────────┤\n",
       "│ dense_1 (<span style=\"color: #0087ff; text-decoration-color: #0087ff\">Dense</span>)                 │ (<span style=\"color: #00d7ff; text-decoration-color: #00d7ff\">None</span>, <span style=\"color: #00af00; text-decoration-color: #00af00\">3</span>)              │         <span style=\"color: #00af00; text-decoration-color: #00af00\">3,843</span> │\n",
       "└─────────────────────────────────┴────────────────────────┴───────────────┘\n",
       "</pre>\n"
      ],
      "text/plain": [
       "┏━━━━━━━━━━━━━━━━━━━━━━━━━━━━━━━━━┳━━━━━━━━━━━━━━━━━━━━━━━━┳━━━━━━━━━━━━━━━┓\n",
       "┃\u001b[1m \u001b[0m\u001b[1mLayer (type)                   \u001b[0m\u001b[1m \u001b[0m┃\u001b[1m \u001b[0m\u001b[1mOutput Shape          \u001b[0m\u001b[1m \u001b[0m┃\u001b[1m \u001b[0m\u001b[1m      Param #\u001b[0m\u001b[1m \u001b[0m┃\n",
       "┡━━━━━━━━━━━━━━━━━━━━━━━━━━━━━━━━━╇━━━━━━━━━━━━━━━━━━━━━━━━╇━━━━━━━━━━━━━━━┩\n",
       "│ input_layer_3 (\u001b[38;5;33mInputLayer\u001b[0m)      │ (\u001b[38;5;45mNone\u001b[0m, \u001b[38;5;34m48\u001b[0m, \u001b[38;5;34m48\u001b[0m, \u001b[38;5;34m3\u001b[0m)      │             \u001b[38;5;34m0\u001b[0m │\n",
       "├─────────────────────────────────┼────────────────────────┼───────────────┤\n",
       "│ efficientnetv2-s (\u001b[38;5;33mFunctional\u001b[0m)   │ (\u001b[38;5;45mNone\u001b[0m, \u001b[38;5;34m1280\u001b[0m)           │    \u001b[38;5;34m20,331,360\u001b[0m │\n",
       "├─────────────────────────────────┼────────────────────────┼───────────────┤\n",
       "│ dense_1 (\u001b[38;5;33mDense\u001b[0m)                 │ (\u001b[38;5;45mNone\u001b[0m, \u001b[38;5;34m3\u001b[0m)              │         \u001b[38;5;34m3,843\u001b[0m │\n",
       "└─────────────────────────────────┴────────────────────────┴───────────────┘\n"
      ]
     },
     "metadata": {},
     "output_type": "display_data"
    },
    {
     "data": {
      "text/html": [
       "<pre style=\"white-space:pre;overflow-x:auto;line-height:normal;font-family:Menlo,'DejaVu Sans Mono',consolas,'Courier New',monospace\"><span style=\"font-weight: bold\"> Total params: </span><span style=\"color: #00af00; text-decoration-color: #00af00\">20,342,891</span> (77.60 MB)\n",
       "</pre>\n"
      ],
      "text/plain": [
       "\u001b[1m Total params: \u001b[0m\u001b[38;5;34m20,342,891\u001b[0m (77.60 MB)\n"
      ]
     },
     "metadata": {},
     "output_type": "display_data"
    },
    {
     "data": {
      "text/html": [
       "<pre style=\"white-space:pre;overflow-x:auto;line-height:normal;font-family:Menlo,'DejaVu Sans Mono',consolas,'Courier New',monospace\"><span style=\"font-weight: bold\"> Trainable params: </span><span style=\"color: #00af00; text-decoration-color: #00af00\">3,843</span> (15.01 KB)\n",
       "</pre>\n"
      ],
      "text/plain": [
       "\u001b[1m Trainable params: \u001b[0m\u001b[38;5;34m3,843\u001b[0m (15.01 KB)\n"
      ]
     },
     "metadata": {},
     "output_type": "display_data"
    },
    {
     "data": {
      "text/html": [
       "<pre style=\"white-space:pre;overflow-x:auto;line-height:normal;font-family:Menlo,'DejaVu Sans Mono',consolas,'Courier New',monospace\"><span style=\"font-weight: bold\"> Non-trainable params: </span><span style=\"color: #00af00; text-decoration-color: #00af00\">20,331,360</span> (77.56 MB)\n",
       "</pre>\n"
      ],
      "text/plain": [
       "\u001b[1m Non-trainable params: \u001b[0m\u001b[38;5;34m20,331,360\u001b[0m (77.56 MB)\n"
      ]
     },
     "metadata": {},
     "output_type": "display_data"
    },
    {
     "data": {
      "text/html": [
       "<pre style=\"white-space:pre;overflow-x:auto;line-height:normal;font-family:Menlo,'DejaVu Sans Mono',consolas,'Courier New',monospace\"><span style=\"font-weight: bold\"> Optimizer params: </span><span style=\"color: #00af00; text-decoration-color: #00af00\">7,688</span> (30.04 KB)\n",
       "</pre>\n"
      ],
      "text/plain": [
       "\u001b[1m Optimizer params: \u001b[0m\u001b[38;5;34m7,688\u001b[0m (30.04 KB)\n"
      ]
     },
     "metadata": {},
     "output_type": "display_data"
    }
   ],
   "source": [
    "ft_model = tfk.models.load_model('TransferLearningModel.keras')\n",
    "ft_model.summary()"
   ]
  },
  {
   "cell_type": "code",
   "execution_count": 32,
   "id": "3bb00cd9",
   "metadata": {
    "execution": {
     "iopub.execute_input": "2024-08-20T08:07:04.903965Z",
     "iopub.status.busy": "2024-08-20T08:07:04.903587Z",
     "iopub.status.idle": "2024-08-20T08:07:04.930941Z",
     "shell.execute_reply": "2024-08-20T08:07:04.930004Z"
    },
    "papermill": {
     "duration": 0.471769,
     "end_time": "2024-08-20T08:07:04.933756",
     "exception": false,
     "start_time": "2024-08-20T08:07:04.461987",
     "status": "completed"
    },
    "tags": []
   },
   "outputs": [
    {
     "name": "stdout",
     "output_type": "stream",
     "text": [
      "0 input_layer_2 True\n",
      "1 rescaling_1 True\n",
      "2 stem_conv True\n",
      "3 stem_bn True\n",
      "4 stem_activation True\n",
      "5 block1a_project_conv True\n",
      "6 block1a_project_bn True\n",
      "7 block1a_project_activation True\n",
      "8 block1a_add True\n",
      "9 block1b_project_conv True\n",
      "10 block1b_project_bn True\n",
      "11 block1b_project_activation True\n",
      "12 block1b_drop True\n",
      "13 block1b_add True\n",
      "14 block2a_expand_conv True\n",
      "15 block2a_expand_bn True\n",
      "16 block2a_expand_activation True\n",
      "17 block2a_project_conv True\n",
      "18 block2a_project_bn True\n",
      "19 block2b_expand_conv True\n",
      "20 block2b_expand_bn True\n",
      "21 block2b_expand_activation True\n",
      "22 block2b_project_conv True\n",
      "23 block2b_project_bn True\n",
      "24 block2b_drop True\n",
      "25 block2b_add True\n",
      "26 block2c_expand_conv True\n",
      "27 block2c_expand_bn True\n",
      "28 block2c_expand_activation True\n",
      "29 block2c_project_conv True\n",
      "30 block2c_project_bn True\n",
      "31 block2c_drop True\n",
      "32 block2c_add True\n",
      "33 block2d_expand_conv True\n",
      "34 block2d_expand_bn True\n",
      "35 block2d_expand_activation True\n",
      "36 block2d_project_conv True\n",
      "37 block2d_project_bn True\n",
      "38 block2d_drop True\n",
      "39 block2d_add True\n",
      "40 block3a_expand_conv True\n",
      "41 block3a_expand_bn True\n",
      "42 block3a_expand_activation True\n",
      "43 block3a_project_conv True\n",
      "44 block3a_project_bn True\n",
      "45 block3b_expand_conv True\n",
      "46 block3b_expand_bn True\n",
      "47 block3b_expand_activation True\n",
      "48 block3b_project_conv True\n",
      "49 block3b_project_bn True\n",
      "50 block3b_drop True\n",
      "51 block3b_add True\n",
      "52 block3c_expand_conv True\n",
      "53 block3c_expand_bn True\n",
      "54 block3c_expand_activation True\n",
      "55 block3c_project_conv True\n",
      "56 block3c_project_bn True\n",
      "57 block3c_drop True\n",
      "58 block3c_add True\n",
      "59 block3d_expand_conv True\n",
      "60 block3d_expand_bn True\n",
      "61 block3d_expand_activation True\n",
      "62 block3d_project_conv True\n",
      "63 block3d_project_bn True\n",
      "64 block3d_drop True\n",
      "65 block3d_add True\n",
      "66 block4a_expand_conv True\n",
      "67 block4a_expand_bn True\n",
      "68 block4a_expand_activation True\n",
      "69 block4a_dwconv2 True\n",
      "70 block4a_bn True\n",
      "71 block4a_activation True\n",
      "72 block4a_se_squeeze True\n",
      "73 block4a_se_reshape True\n",
      "74 block4a_se_reduce True\n",
      "75 block4a_se_expand True\n",
      "76 block4a_se_excite True\n",
      "77 block4a_project_conv True\n",
      "78 block4a_project_bn True\n",
      "79 block4b_expand_conv True\n",
      "80 block4b_expand_bn True\n",
      "81 block4b_expand_activation True\n",
      "82 block4b_dwconv2 True\n",
      "83 block4b_bn True\n",
      "84 block4b_activation True\n",
      "85 block4b_se_squeeze True\n",
      "86 block4b_se_reshape True\n",
      "87 block4b_se_reduce True\n",
      "88 block4b_se_expand True\n",
      "89 block4b_se_excite True\n",
      "90 block4b_project_conv True\n",
      "91 block4b_project_bn True\n",
      "92 block4b_drop True\n",
      "93 block4b_add True\n",
      "94 block4c_expand_conv True\n",
      "95 block4c_expand_bn True\n",
      "96 block4c_expand_activation True\n",
      "97 block4c_dwconv2 True\n",
      "98 block4c_bn True\n",
      "99 block4c_activation True\n",
      "100 block4c_se_squeeze True\n",
      "101 block4c_se_reshape True\n",
      "102 block4c_se_reduce True\n",
      "103 block4c_se_expand True\n",
      "104 block4c_se_excite True\n",
      "105 block4c_project_conv True\n",
      "106 block4c_project_bn True\n",
      "107 block4c_drop True\n",
      "108 block4c_add True\n",
      "109 block4d_expand_conv True\n",
      "110 block4d_expand_bn True\n",
      "111 block4d_expand_activation True\n",
      "112 block4d_dwconv2 True\n",
      "113 block4d_bn True\n",
      "114 block4d_activation True\n",
      "115 block4d_se_squeeze True\n",
      "116 block4d_se_reshape True\n",
      "117 block4d_se_reduce True\n",
      "118 block4d_se_expand True\n",
      "119 block4d_se_excite True\n",
      "120 block4d_project_conv True\n",
      "121 block4d_project_bn True\n",
      "122 block4d_drop True\n",
      "123 block4d_add True\n",
      "124 block4e_expand_conv True\n",
      "125 block4e_expand_bn True\n",
      "126 block4e_expand_activation True\n",
      "127 block4e_dwconv2 True\n",
      "128 block4e_bn True\n",
      "129 block4e_activation True\n",
      "130 block4e_se_squeeze True\n",
      "131 block4e_se_reshape True\n",
      "132 block4e_se_reduce True\n",
      "133 block4e_se_expand True\n",
      "134 block4e_se_excite True\n",
      "135 block4e_project_conv True\n",
      "136 block4e_project_bn True\n",
      "137 block4e_drop True\n",
      "138 block4e_add True\n",
      "139 block4f_expand_conv True\n",
      "140 block4f_expand_bn True\n",
      "141 block4f_expand_activation True\n",
      "142 block4f_dwconv2 True\n",
      "143 block4f_bn True\n",
      "144 block4f_activation True\n",
      "145 block4f_se_squeeze True\n",
      "146 block4f_se_reshape True\n",
      "147 block4f_se_reduce True\n",
      "148 block4f_se_expand True\n",
      "149 block4f_se_excite True\n",
      "150 block4f_project_conv True\n",
      "151 block4f_project_bn True\n",
      "152 block4f_drop True\n",
      "153 block4f_add True\n",
      "154 block5a_expand_conv True\n",
      "155 block5a_expand_bn True\n",
      "156 block5a_expand_activation True\n",
      "157 block5a_dwconv2 True\n",
      "158 block5a_bn True\n",
      "159 block5a_activation True\n",
      "160 block5a_se_squeeze True\n",
      "161 block5a_se_reshape True\n",
      "162 block5a_se_reduce True\n",
      "163 block5a_se_expand True\n",
      "164 block5a_se_excite True\n",
      "165 block5a_project_conv True\n",
      "166 block5a_project_bn True\n",
      "167 block5b_expand_conv True\n",
      "168 block5b_expand_bn True\n",
      "169 block5b_expand_activation True\n",
      "170 block5b_dwconv2 True\n",
      "171 block5b_bn True\n",
      "172 block5b_activation True\n",
      "173 block5b_se_squeeze True\n",
      "174 block5b_se_reshape True\n",
      "175 block5b_se_reduce True\n",
      "176 block5b_se_expand True\n",
      "177 block5b_se_excite True\n",
      "178 block5b_project_conv True\n",
      "179 block5b_project_bn True\n",
      "180 block5b_drop True\n",
      "181 block5b_add True\n",
      "182 block5c_expand_conv True\n",
      "183 block5c_expand_bn True\n",
      "184 block5c_expand_activation True\n",
      "185 block5c_dwconv2 True\n",
      "186 block5c_bn True\n",
      "187 block5c_activation True\n",
      "188 block5c_se_squeeze True\n",
      "189 block5c_se_reshape True\n",
      "190 block5c_se_reduce True\n",
      "191 block5c_se_expand True\n",
      "192 block5c_se_excite True\n",
      "193 block5c_project_conv True\n",
      "194 block5c_project_bn True\n",
      "195 block5c_drop True\n",
      "196 block5c_add True\n",
      "197 block5d_expand_conv True\n",
      "198 block5d_expand_bn True\n",
      "199 block5d_expand_activation True\n",
      "200 block5d_dwconv2 True\n",
      "201 block5d_bn True\n",
      "202 block5d_activation True\n",
      "203 block5d_se_squeeze True\n",
      "204 block5d_se_reshape True\n",
      "205 block5d_se_reduce True\n",
      "206 block5d_se_expand True\n",
      "207 block5d_se_excite True\n",
      "208 block5d_project_conv True\n",
      "209 block5d_project_bn True\n",
      "210 block5d_drop True\n",
      "211 block5d_add True\n",
      "212 block5e_expand_conv True\n",
      "213 block5e_expand_bn True\n",
      "214 block5e_expand_activation True\n",
      "215 block5e_dwconv2 True\n",
      "216 block5e_bn True\n",
      "217 block5e_activation True\n",
      "218 block5e_se_squeeze True\n",
      "219 block5e_se_reshape True\n",
      "220 block5e_se_reduce True\n",
      "221 block5e_se_expand True\n",
      "222 block5e_se_excite True\n",
      "223 block5e_project_conv True\n",
      "224 block5e_project_bn True\n",
      "225 block5e_drop True\n",
      "226 block5e_add True\n",
      "227 block5f_expand_conv True\n",
      "228 block5f_expand_bn True\n",
      "229 block5f_expand_activation True\n",
      "230 block5f_dwconv2 True\n",
      "231 block5f_bn True\n",
      "232 block5f_activation True\n",
      "233 block5f_se_squeeze True\n",
      "234 block5f_se_reshape True\n",
      "235 block5f_se_reduce True\n",
      "236 block5f_se_expand True\n",
      "237 block5f_se_excite True\n",
      "238 block5f_project_conv True\n",
      "239 block5f_project_bn True\n",
      "240 block5f_drop True\n",
      "241 block5f_add True\n",
      "242 block5g_expand_conv True\n",
      "243 block5g_expand_bn True\n",
      "244 block5g_expand_activation True\n",
      "245 block5g_dwconv2 True\n",
      "246 block5g_bn True\n",
      "247 block5g_activation True\n",
      "248 block5g_se_squeeze True\n",
      "249 block5g_se_reshape True\n",
      "250 block5g_se_reduce True\n",
      "251 block5g_se_expand True\n",
      "252 block5g_se_excite True\n",
      "253 block5g_project_conv True\n",
      "254 block5g_project_bn True\n",
      "255 block5g_drop True\n",
      "256 block5g_add True\n",
      "257 block5h_expand_conv True\n",
      "258 block5h_expand_bn True\n",
      "259 block5h_expand_activation True\n",
      "260 block5h_dwconv2 True\n",
      "261 block5h_bn True\n",
      "262 block5h_activation True\n",
      "263 block5h_se_squeeze True\n",
      "264 block5h_se_reshape True\n",
      "265 block5h_se_reduce True\n",
      "266 block5h_se_expand True\n",
      "267 block5h_se_excite True\n",
      "268 block5h_project_conv True\n",
      "269 block5h_project_bn True\n",
      "270 block5h_drop True\n",
      "271 block5h_add True\n",
      "272 block5i_expand_conv True\n",
      "273 block5i_expand_bn True\n",
      "274 block5i_expand_activation True\n",
      "275 block5i_dwconv2 True\n",
      "276 block5i_bn True\n",
      "277 block5i_activation True\n",
      "278 block5i_se_squeeze True\n",
      "279 block5i_se_reshape True\n",
      "280 block5i_se_reduce True\n",
      "281 block5i_se_expand True\n",
      "282 block5i_se_excite True\n",
      "283 block5i_project_conv True\n",
      "284 block5i_project_bn True\n",
      "285 block5i_drop True\n",
      "286 block5i_add True\n",
      "287 block6a_expand_conv True\n",
      "288 block6a_expand_bn True\n",
      "289 block6a_expand_activation True\n",
      "290 block6a_dwconv2 True\n",
      "291 block6a_bn True\n",
      "292 block6a_activation True\n",
      "293 block6a_se_squeeze True\n",
      "294 block6a_se_reshape True\n",
      "295 block6a_se_reduce True\n",
      "296 block6a_se_expand True\n",
      "297 block6a_se_excite True\n",
      "298 block6a_project_conv True\n",
      "299 block6a_project_bn True\n",
      "300 block6b_expand_conv True\n",
      "301 block6b_expand_bn True\n",
      "302 block6b_expand_activation True\n",
      "303 block6b_dwconv2 True\n",
      "304 block6b_bn True\n",
      "305 block6b_activation True\n",
      "306 block6b_se_squeeze True\n",
      "307 block6b_se_reshape True\n",
      "308 block6b_se_reduce True\n",
      "309 block6b_se_expand True\n",
      "310 block6b_se_excite True\n",
      "311 block6b_project_conv True\n",
      "312 block6b_project_bn True\n",
      "313 block6b_drop True\n",
      "314 block6b_add True\n",
      "315 block6c_expand_conv True\n",
      "316 block6c_expand_bn True\n",
      "317 block6c_expand_activation True\n",
      "318 block6c_dwconv2 True\n",
      "319 block6c_bn True\n",
      "320 block6c_activation True\n",
      "321 block6c_se_squeeze True\n",
      "322 block6c_se_reshape True\n",
      "323 block6c_se_reduce True\n",
      "324 block6c_se_expand True\n",
      "325 block6c_se_excite True\n",
      "326 block6c_project_conv True\n",
      "327 block6c_project_bn True\n",
      "328 block6c_drop True\n",
      "329 block6c_add True\n",
      "330 block6d_expand_conv True\n",
      "331 block6d_expand_bn True\n",
      "332 block6d_expand_activation True\n",
      "333 block6d_dwconv2 True\n",
      "334 block6d_bn True\n",
      "335 block6d_activation True\n",
      "336 block6d_se_squeeze True\n",
      "337 block6d_se_reshape True\n",
      "338 block6d_se_reduce True\n",
      "339 block6d_se_expand True\n",
      "340 block6d_se_excite True\n",
      "341 block6d_project_conv True\n",
      "342 block6d_project_bn True\n",
      "343 block6d_drop True\n",
      "344 block6d_add True\n",
      "345 block6e_expand_conv True\n",
      "346 block6e_expand_bn True\n",
      "347 block6e_expand_activation True\n",
      "348 block6e_dwconv2 True\n",
      "349 block6e_bn True\n",
      "350 block6e_activation True\n",
      "351 block6e_se_squeeze True\n",
      "352 block6e_se_reshape True\n",
      "353 block6e_se_reduce True\n",
      "354 block6e_se_expand True\n",
      "355 block6e_se_excite True\n",
      "356 block6e_project_conv True\n",
      "357 block6e_project_bn True\n",
      "358 block6e_drop True\n",
      "359 block6e_add True\n",
      "360 block6f_expand_conv True\n",
      "361 block6f_expand_bn True\n",
      "362 block6f_expand_activation True\n",
      "363 block6f_dwconv2 True\n",
      "364 block6f_bn True\n",
      "365 block6f_activation True\n",
      "366 block6f_se_squeeze True\n",
      "367 block6f_se_reshape True\n",
      "368 block6f_se_reduce True\n",
      "369 block6f_se_expand True\n",
      "370 block6f_se_excite True\n",
      "371 block6f_project_conv True\n",
      "372 block6f_project_bn True\n",
      "373 block6f_drop True\n",
      "374 block6f_add True\n",
      "375 block6g_expand_conv True\n",
      "376 block6g_expand_bn True\n",
      "377 block6g_expand_activation True\n",
      "378 block6g_dwconv2 True\n",
      "379 block6g_bn True\n",
      "380 block6g_activation True\n",
      "381 block6g_se_squeeze True\n",
      "382 block6g_se_reshape True\n",
      "383 block6g_se_reduce True\n",
      "384 block6g_se_expand True\n",
      "385 block6g_se_excite True\n",
      "386 block6g_project_conv True\n",
      "387 block6g_project_bn True\n",
      "388 block6g_drop True\n",
      "389 block6g_add True\n",
      "390 block6h_expand_conv True\n",
      "391 block6h_expand_bn True\n",
      "392 block6h_expand_activation True\n",
      "393 block6h_dwconv2 True\n",
      "394 block6h_bn True\n",
      "395 block6h_activation True\n",
      "396 block6h_se_squeeze True\n",
      "397 block6h_se_reshape True\n",
      "398 block6h_se_reduce True\n",
      "399 block6h_se_expand True\n",
      "400 block6h_se_excite True\n",
      "401 block6h_project_conv True\n",
      "402 block6h_project_bn True\n",
      "403 block6h_drop True\n",
      "404 block6h_add True\n",
      "405 block6i_expand_conv True\n",
      "406 block6i_expand_bn True\n",
      "407 block6i_expand_activation True\n",
      "408 block6i_dwconv2 True\n",
      "409 block6i_bn True\n",
      "410 block6i_activation True\n",
      "411 block6i_se_squeeze True\n",
      "412 block6i_se_reshape True\n",
      "413 block6i_se_reduce True\n",
      "414 block6i_se_expand True\n",
      "415 block6i_se_excite True\n",
      "416 block6i_project_conv True\n",
      "417 block6i_project_bn True\n",
      "418 block6i_drop True\n",
      "419 block6i_add True\n",
      "420 block6j_expand_conv True\n",
      "421 block6j_expand_bn True\n",
      "422 block6j_expand_activation True\n",
      "423 block6j_dwconv2 True\n",
      "424 block6j_bn True\n",
      "425 block6j_activation True\n",
      "426 block6j_se_squeeze True\n",
      "427 block6j_se_reshape True\n",
      "428 block6j_se_reduce True\n",
      "429 block6j_se_expand True\n",
      "430 block6j_se_excite True\n",
      "431 block6j_project_conv True\n",
      "432 block6j_project_bn True\n",
      "433 block6j_drop True\n",
      "434 block6j_add True\n",
      "435 block6k_expand_conv True\n",
      "436 block6k_expand_bn True\n",
      "437 block6k_expand_activation True\n",
      "438 block6k_dwconv2 True\n",
      "439 block6k_bn True\n",
      "440 block6k_activation True\n",
      "441 block6k_se_squeeze True\n",
      "442 block6k_se_reshape True\n",
      "443 block6k_se_reduce True\n",
      "444 block6k_se_expand True\n",
      "445 block6k_se_excite True\n",
      "446 block6k_project_conv True\n",
      "447 block6k_project_bn True\n",
      "448 block6k_drop True\n",
      "449 block6k_add True\n",
      "450 block6l_expand_conv True\n",
      "451 block6l_expand_bn True\n",
      "452 block6l_expand_activation True\n",
      "453 block6l_dwconv2 True\n",
      "454 block6l_bn True\n",
      "455 block6l_activation True\n",
      "456 block6l_se_squeeze True\n",
      "457 block6l_se_reshape True\n",
      "458 block6l_se_reduce True\n",
      "459 block6l_se_expand True\n",
      "460 block6l_se_excite True\n",
      "461 block6l_project_conv True\n",
      "462 block6l_project_bn True\n",
      "463 block6l_drop True\n",
      "464 block6l_add True\n",
      "465 block6m_expand_conv True\n",
      "466 block6m_expand_bn True\n",
      "467 block6m_expand_activation True\n",
      "468 block6m_dwconv2 True\n",
      "469 block6m_bn True\n",
      "470 block6m_activation True\n",
      "471 block6m_se_squeeze True\n",
      "472 block6m_se_reshape True\n",
      "473 block6m_se_reduce True\n",
      "474 block6m_se_expand True\n",
      "475 block6m_se_excite True\n",
      "476 block6m_project_conv True\n",
      "477 block6m_project_bn True\n",
      "478 block6m_drop True\n",
      "479 block6m_add True\n",
      "480 block6n_expand_conv True\n",
      "481 block6n_expand_bn True\n",
      "482 block6n_expand_activation True\n",
      "483 block6n_dwconv2 True\n",
      "484 block6n_bn True\n",
      "485 block6n_activation True\n",
      "486 block6n_se_squeeze True\n",
      "487 block6n_se_reshape True\n",
      "488 block6n_se_reduce True\n",
      "489 block6n_se_expand True\n",
      "490 block6n_se_excite True\n",
      "491 block6n_project_conv True\n",
      "492 block6n_project_bn True\n",
      "493 block6n_drop True\n",
      "494 block6n_add True\n",
      "495 block6o_expand_conv True\n",
      "496 block6o_expand_bn True\n",
      "497 block6o_expand_activation True\n",
      "498 block6o_dwconv2 True\n",
      "499 block6o_bn True\n",
      "500 block6o_activation True\n",
      "501 block6o_se_squeeze True\n",
      "502 block6o_se_reshape True\n",
      "503 block6o_se_reduce True\n",
      "504 block6o_se_expand True\n",
      "505 block6o_se_excite True\n",
      "506 block6o_project_conv True\n",
      "507 block6o_project_bn True\n",
      "508 block6o_drop True\n",
      "509 block6o_add True\n",
      "510 top_conv True\n",
      "511 top_bn True\n",
      "512 top_activation True\n",
      "513 avg_pool True\n"
     ]
    }
   ],
   "source": [
    "ft_model.get_layer('efficientnetv2-s').trainable = True\n",
    "for i, layer in enumerate(ft_model.get_layer('efficientnetv2-s').layers):\n",
    "   print(i, layer.name, layer.trainable)"
   ]
  },
  {
   "cell_type": "code",
   "execution_count": 33,
   "id": "4354a855",
   "metadata": {
    "execution": {
     "iopub.execute_input": "2024-08-20T08:07:05.862084Z",
     "iopub.status.busy": "2024-08-20T08:07:05.861710Z",
     "iopub.status.idle": "2024-08-20T08:07:05.920279Z",
     "shell.execute_reply": "2024-08-20T08:07:05.919431Z"
    },
    "papermill": {
     "duration": 0.548894,
     "end_time": "2024-08-20T08:07:05.922155",
     "exception": false,
     "start_time": "2024-08-20T08:07:05.373261",
     "status": "completed"
    },
    "tags": []
   },
   "outputs": [
    {
     "name": "stdout",
     "output_type": "stream",
     "text": [
      "0 input_layer_2 False\n",
      "1 rescaling_1 False\n",
      "2 stem_conv False\n",
      "3 stem_bn False\n",
      "4 stem_activation False\n",
      "5 block1a_project_conv False\n",
      "6 block1a_project_bn False\n",
      "7 block1a_project_activation False\n",
      "8 block1a_add False\n",
      "9 block1b_project_conv False\n",
      "10 block1b_project_bn False\n",
      "11 block1b_project_activation False\n",
      "12 block1b_drop False\n",
      "13 block1b_add False\n",
      "14 block2a_expand_conv False\n",
      "15 block2a_expand_bn False\n",
      "16 block2a_expand_activation False\n",
      "17 block2a_project_conv False\n",
      "18 block2a_project_bn False\n",
      "19 block2b_expand_conv False\n",
      "20 block2b_expand_bn False\n",
      "21 block2b_expand_activation False\n",
      "22 block2b_project_conv False\n",
      "23 block2b_project_bn False\n",
      "24 block2b_drop False\n",
      "25 block2b_add False\n",
      "26 block2c_expand_conv False\n",
      "27 block2c_expand_bn False\n",
      "28 block2c_expand_activation False\n",
      "29 block2c_project_conv False\n",
      "30 block2c_project_bn False\n",
      "31 block2c_drop False\n",
      "32 block2c_add False\n",
      "33 block2d_expand_conv False\n",
      "34 block2d_expand_bn False\n",
      "35 block2d_expand_activation False\n",
      "36 block2d_project_conv False\n",
      "37 block2d_project_bn False\n",
      "38 block2d_drop False\n",
      "39 block2d_add False\n",
      "40 block3a_expand_conv False\n",
      "41 block3a_expand_bn False\n",
      "42 block3a_expand_activation False\n",
      "43 block3a_project_conv False\n",
      "44 block3a_project_bn False\n",
      "45 block3b_expand_conv False\n",
      "46 block3b_expand_bn False\n",
      "47 block3b_expand_activation False\n",
      "48 block3b_project_conv False\n",
      "49 block3b_project_bn False\n",
      "50 block3b_drop False\n",
      "51 block3b_add False\n",
      "52 block3c_expand_conv False\n",
      "53 block3c_expand_bn False\n",
      "54 block3c_expand_activation False\n",
      "55 block3c_project_conv False\n",
      "56 block3c_project_bn False\n",
      "57 block3c_drop False\n",
      "58 block3c_add False\n",
      "59 block3d_expand_conv False\n",
      "60 block3d_expand_bn False\n",
      "61 block3d_expand_activation False\n",
      "62 block3d_project_conv False\n",
      "63 block3d_project_bn False\n",
      "64 block3d_drop False\n",
      "65 block3d_add False\n",
      "66 block4a_expand_conv False\n",
      "67 block4a_expand_bn False\n",
      "68 block4a_expand_activation False\n",
      "69 block4a_dwconv2 False\n",
      "70 block4a_bn False\n",
      "71 block4a_activation False\n",
      "72 block4a_se_squeeze False\n",
      "73 block4a_se_reshape False\n",
      "74 block4a_se_reduce False\n",
      "75 block4a_se_expand False\n",
      "76 block4a_se_excite False\n",
      "77 block4a_project_conv False\n",
      "78 block4a_project_bn False\n",
      "79 block4b_expand_conv False\n",
      "80 block4b_expand_bn False\n",
      "81 block4b_expand_activation False\n",
      "82 block4b_dwconv2 False\n",
      "83 block4b_bn False\n",
      "84 block4b_activation False\n",
      "85 block4b_se_squeeze False\n",
      "86 block4b_se_reshape False\n",
      "87 block4b_se_reduce False\n",
      "88 block4b_se_expand False\n",
      "89 block4b_se_excite False\n",
      "90 block4b_project_conv False\n",
      "91 block4b_project_bn False\n",
      "92 block4b_drop False\n",
      "93 block4b_add False\n",
      "94 block4c_expand_conv False\n",
      "95 block4c_expand_bn False\n",
      "96 block4c_expand_activation False\n",
      "97 block4c_dwconv2 False\n",
      "98 block4c_bn False\n",
      "99 block4c_activation False\n",
      "100 block4c_se_squeeze False\n",
      "101 block4c_se_reshape False\n",
      "102 block4c_se_reduce False\n",
      "103 block4c_se_expand False\n",
      "104 block4c_se_excite False\n",
      "105 block4c_project_conv False\n",
      "106 block4c_project_bn False\n",
      "107 block4c_drop False\n",
      "108 block4c_add False\n",
      "109 block4d_expand_conv False\n",
      "110 block4d_expand_bn False\n",
      "111 block4d_expand_activation False\n",
      "112 block4d_dwconv2 False\n",
      "113 block4d_bn False\n",
      "114 block4d_activation False\n",
      "115 block4d_se_squeeze False\n",
      "116 block4d_se_reshape False\n",
      "117 block4d_se_reduce False\n",
      "118 block4d_se_expand False\n",
      "119 block4d_se_excite False\n",
      "120 block4d_project_conv False\n",
      "121 block4d_project_bn False\n",
      "122 block4d_drop False\n",
      "123 block4d_add False\n",
      "124 block4e_expand_conv False\n",
      "125 block4e_expand_bn False\n",
      "126 block4e_expand_activation False\n",
      "127 block4e_dwconv2 False\n",
      "128 block4e_bn False\n",
      "129 block4e_activation False\n",
      "130 block4e_se_squeeze False\n",
      "131 block4e_se_reshape False\n",
      "132 block4e_se_reduce False\n",
      "133 block4e_se_expand False\n",
      "134 block4e_se_excite False\n",
      "135 block4e_project_conv False\n",
      "136 block4e_project_bn False\n",
      "137 block4e_drop False\n",
      "138 block4e_add False\n",
      "139 block4f_expand_conv False\n",
      "140 block4f_expand_bn False\n",
      "141 block4f_expand_activation False\n",
      "142 block4f_dwconv2 False\n",
      "143 block4f_bn False\n",
      "144 block4f_activation False\n",
      "145 block4f_se_squeeze False\n",
      "146 block4f_se_reshape False\n",
      "147 block4f_se_reduce False\n",
      "148 block4f_se_expand False\n",
      "149 block4f_se_excite False\n",
      "150 block4f_project_conv False\n",
      "151 block4f_project_bn False\n",
      "152 block4f_drop False\n",
      "153 block4f_add False\n",
      "154 block5a_expand_conv False\n",
      "155 block5a_expand_bn False\n",
      "156 block5a_expand_activation False\n",
      "157 block5a_dwconv2 False\n",
      "158 block5a_bn False\n",
      "159 block5a_activation False\n",
      "160 block5a_se_squeeze False\n",
      "161 block5a_se_reshape False\n",
      "162 block5a_se_reduce False\n",
      "163 block5a_se_expand False\n",
      "164 block5a_se_excite False\n",
      "165 block5a_project_conv False\n",
      "166 block5a_project_bn False\n",
      "167 block5b_expand_conv False\n",
      "168 block5b_expand_bn False\n",
      "169 block5b_expand_activation False\n",
      "170 block5b_dwconv2 False\n",
      "171 block5b_bn False\n",
      "172 block5b_activation False\n",
      "173 block5b_se_squeeze False\n",
      "174 block5b_se_reshape False\n",
      "175 block5b_se_reduce False\n",
      "176 block5b_se_expand False\n",
      "177 block5b_se_excite False\n",
      "178 block5b_project_conv False\n",
      "179 block5b_project_bn False\n",
      "180 block5b_drop False\n",
      "181 block5b_add False\n",
      "182 block5c_expand_conv False\n",
      "183 block5c_expand_bn False\n",
      "184 block5c_expand_activation False\n",
      "185 block5c_dwconv2 False\n",
      "186 block5c_bn False\n",
      "187 block5c_activation False\n",
      "188 block5c_se_squeeze False\n",
      "189 block5c_se_reshape False\n",
      "190 block5c_se_reduce False\n",
      "191 block5c_se_expand False\n",
      "192 block5c_se_excite False\n",
      "193 block5c_project_conv False\n",
      "194 block5c_project_bn False\n",
      "195 block5c_drop False\n",
      "196 block5c_add False\n",
      "197 block5d_expand_conv False\n",
      "198 block5d_expand_bn False\n",
      "199 block5d_expand_activation False\n",
      "200 block5d_dwconv2 False\n",
      "201 block5d_bn False\n",
      "202 block5d_activation False\n",
      "203 block5d_se_squeeze False\n",
      "204 block5d_se_reshape False\n",
      "205 block5d_se_reduce False\n",
      "206 block5d_se_expand False\n",
      "207 block5d_se_excite False\n",
      "208 block5d_project_conv False\n",
      "209 block5d_project_bn False\n",
      "210 block5d_drop False\n",
      "211 block5d_add False\n",
      "212 block5e_expand_conv False\n",
      "213 block5e_expand_bn False\n",
      "214 block5e_expand_activation False\n",
      "215 block5e_dwconv2 False\n",
      "216 block5e_bn False\n",
      "217 block5e_activation False\n",
      "218 block5e_se_squeeze False\n",
      "219 block5e_se_reshape False\n",
      "220 block5e_se_reduce False\n",
      "221 block5e_se_expand False\n",
      "222 block5e_se_excite False\n",
      "223 block5e_project_conv False\n",
      "224 block5e_project_bn False\n",
      "225 block5e_drop False\n",
      "226 block5e_add False\n",
      "227 block5f_expand_conv False\n",
      "228 block5f_expand_bn False\n",
      "229 block5f_expand_activation False\n",
      "230 block5f_dwconv2 False\n",
      "231 block5f_bn False\n",
      "232 block5f_activation False\n",
      "233 block5f_se_squeeze False\n",
      "234 block5f_se_reshape False\n",
      "235 block5f_se_reduce False\n",
      "236 block5f_se_expand False\n",
      "237 block5f_se_excite False\n",
      "238 block5f_project_conv False\n",
      "239 block5f_project_bn False\n",
      "240 block5f_drop False\n",
      "241 block5f_add False\n",
      "242 block5g_expand_conv False\n",
      "243 block5g_expand_bn False\n",
      "244 block5g_expand_activation False\n",
      "245 block5g_dwconv2 False\n",
      "246 block5g_bn False\n",
      "247 block5g_activation False\n",
      "248 block5g_se_squeeze False\n",
      "249 block5g_se_reshape False\n",
      "250 block5g_se_reduce False\n",
      "251 block5g_se_expand False\n",
      "252 block5g_se_excite False\n",
      "253 block5g_project_conv False\n",
      "254 block5g_project_bn False\n",
      "255 block5g_drop False\n",
      "256 block5g_add False\n",
      "257 block5h_expand_conv False\n",
      "258 block5h_expand_bn False\n",
      "259 block5h_expand_activation False\n",
      "260 block5h_dwconv2 False\n",
      "261 block5h_bn False\n",
      "262 block5h_activation False\n",
      "263 block5h_se_squeeze False\n",
      "264 block5h_se_reshape False\n",
      "265 block5h_se_reduce False\n",
      "266 block5h_se_expand False\n",
      "267 block5h_se_excite False\n",
      "268 block5h_project_conv False\n",
      "269 block5h_project_bn False\n",
      "270 block5h_drop False\n",
      "271 block5h_add False\n",
      "272 block5i_expand_conv False\n",
      "273 block5i_expand_bn False\n",
      "274 block5i_expand_activation False\n",
      "275 block5i_dwconv2 False\n",
      "276 block5i_bn False\n",
      "277 block5i_activation False\n",
      "278 block5i_se_squeeze False\n",
      "279 block5i_se_reshape False\n",
      "280 block5i_se_reduce False\n",
      "281 block5i_se_expand False\n",
      "282 block5i_se_excite False\n",
      "283 block5i_project_conv False\n",
      "284 block5i_project_bn False\n",
      "285 block5i_drop False\n",
      "286 block5i_add True\n",
      "287 block6a_expand_conv True\n",
      "288 block6a_expand_bn True\n",
      "289 block6a_expand_activation True\n",
      "290 block6a_dwconv2 True\n",
      "291 block6a_bn True\n",
      "292 block6a_activation True\n",
      "293 block6a_se_squeeze True\n",
      "294 block6a_se_reshape True\n",
      "295 block6a_se_reduce True\n",
      "296 block6a_se_expand True\n",
      "297 block6a_se_excite True\n",
      "298 block6a_project_conv True\n",
      "299 block6a_project_bn True\n",
      "300 block6b_expand_conv True\n",
      "301 block6b_expand_bn True\n",
      "302 block6b_expand_activation True\n",
      "303 block6b_dwconv2 True\n",
      "304 block6b_bn True\n",
      "305 block6b_activation True\n",
      "306 block6b_se_squeeze True\n",
      "307 block6b_se_reshape True\n",
      "308 block6b_se_reduce True\n",
      "309 block6b_se_expand True\n",
      "310 block6b_se_excite True\n",
      "311 block6b_project_conv True\n",
      "312 block6b_project_bn True\n",
      "313 block6b_drop True\n",
      "314 block6b_add True\n",
      "315 block6c_expand_conv True\n",
      "316 block6c_expand_bn True\n",
      "317 block6c_expand_activation True\n",
      "318 block6c_dwconv2 True\n",
      "319 block6c_bn True\n",
      "320 block6c_activation True\n",
      "321 block6c_se_squeeze True\n",
      "322 block6c_se_reshape True\n",
      "323 block6c_se_reduce True\n",
      "324 block6c_se_expand True\n",
      "325 block6c_se_excite True\n",
      "326 block6c_project_conv True\n",
      "327 block6c_project_bn True\n",
      "328 block6c_drop True\n",
      "329 block6c_add True\n",
      "330 block6d_expand_conv True\n",
      "331 block6d_expand_bn True\n",
      "332 block6d_expand_activation True\n",
      "333 block6d_dwconv2 True\n",
      "334 block6d_bn True\n",
      "335 block6d_activation True\n",
      "336 block6d_se_squeeze True\n",
      "337 block6d_se_reshape True\n",
      "338 block6d_se_reduce True\n",
      "339 block6d_se_expand True\n",
      "340 block6d_se_excite True\n",
      "341 block6d_project_conv True\n",
      "342 block6d_project_bn True\n",
      "343 block6d_drop True\n",
      "344 block6d_add True\n",
      "345 block6e_expand_conv True\n",
      "346 block6e_expand_bn True\n",
      "347 block6e_expand_activation True\n",
      "348 block6e_dwconv2 True\n",
      "349 block6e_bn True\n",
      "350 block6e_activation True\n",
      "351 block6e_se_squeeze True\n",
      "352 block6e_se_reshape True\n",
      "353 block6e_se_reduce True\n",
      "354 block6e_se_expand True\n",
      "355 block6e_se_excite True\n",
      "356 block6e_project_conv True\n",
      "357 block6e_project_bn True\n",
      "358 block6e_drop True\n",
      "359 block6e_add True\n",
      "360 block6f_expand_conv True\n",
      "361 block6f_expand_bn True\n",
      "362 block6f_expand_activation True\n",
      "363 block6f_dwconv2 True\n",
      "364 block6f_bn True\n",
      "365 block6f_activation True\n",
      "366 block6f_se_squeeze True\n",
      "367 block6f_se_reshape True\n",
      "368 block6f_se_reduce True\n",
      "369 block6f_se_expand True\n",
      "370 block6f_se_excite True\n",
      "371 block6f_project_conv True\n",
      "372 block6f_project_bn True\n",
      "373 block6f_drop True\n",
      "374 block6f_add True\n",
      "375 block6g_expand_conv True\n",
      "376 block6g_expand_bn True\n",
      "377 block6g_expand_activation True\n",
      "378 block6g_dwconv2 True\n",
      "379 block6g_bn True\n",
      "380 block6g_activation True\n",
      "381 block6g_se_squeeze True\n",
      "382 block6g_se_reshape True\n",
      "383 block6g_se_reduce True\n",
      "384 block6g_se_expand True\n",
      "385 block6g_se_excite True\n",
      "386 block6g_project_conv True\n",
      "387 block6g_project_bn True\n",
      "388 block6g_drop True\n",
      "389 block6g_add True\n",
      "390 block6h_expand_conv True\n",
      "391 block6h_expand_bn True\n",
      "392 block6h_expand_activation True\n",
      "393 block6h_dwconv2 True\n",
      "394 block6h_bn True\n",
      "395 block6h_activation True\n",
      "396 block6h_se_squeeze True\n",
      "397 block6h_se_reshape True\n",
      "398 block6h_se_reduce True\n",
      "399 block6h_se_expand True\n",
      "400 block6h_se_excite True\n",
      "401 block6h_project_conv True\n",
      "402 block6h_project_bn True\n",
      "403 block6h_drop True\n",
      "404 block6h_add True\n",
      "405 block6i_expand_conv True\n",
      "406 block6i_expand_bn True\n",
      "407 block6i_expand_activation True\n",
      "408 block6i_dwconv2 True\n",
      "409 block6i_bn True\n",
      "410 block6i_activation True\n",
      "411 block6i_se_squeeze True\n",
      "412 block6i_se_reshape True\n",
      "413 block6i_se_reduce True\n",
      "414 block6i_se_expand True\n",
      "415 block6i_se_excite True\n",
      "416 block6i_project_conv True\n",
      "417 block6i_project_bn True\n",
      "418 block6i_drop True\n",
      "419 block6i_add True\n",
      "420 block6j_expand_conv True\n",
      "421 block6j_expand_bn True\n",
      "422 block6j_expand_activation True\n",
      "423 block6j_dwconv2 True\n",
      "424 block6j_bn True\n",
      "425 block6j_activation True\n",
      "426 block6j_se_squeeze True\n",
      "427 block6j_se_reshape True\n",
      "428 block6j_se_reduce True\n",
      "429 block6j_se_expand True\n",
      "430 block6j_se_excite True\n",
      "431 block6j_project_conv True\n",
      "432 block6j_project_bn True\n",
      "433 block6j_drop True\n",
      "434 block6j_add True\n",
      "435 block6k_expand_conv True\n",
      "436 block6k_expand_bn True\n",
      "437 block6k_expand_activation True\n",
      "438 block6k_dwconv2 True\n",
      "439 block6k_bn True\n",
      "440 block6k_activation True\n",
      "441 block6k_se_squeeze True\n",
      "442 block6k_se_reshape True\n",
      "443 block6k_se_reduce True\n",
      "444 block6k_se_expand True\n",
      "445 block6k_se_excite True\n",
      "446 block6k_project_conv True\n",
      "447 block6k_project_bn True\n",
      "448 block6k_drop True\n",
      "449 block6k_add True\n",
      "450 block6l_expand_conv True\n",
      "451 block6l_expand_bn True\n",
      "452 block6l_expand_activation True\n",
      "453 block6l_dwconv2 True\n",
      "454 block6l_bn True\n",
      "455 block6l_activation True\n",
      "456 block6l_se_squeeze True\n",
      "457 block6l_se_reshape True\n",
      "458 block6l_se_reduce True\n",
      "459 block6l_se_expand True\n",
      "460 block6l_se_excite True\n",
      "461 block6l_project_conv True\n",
      "462 block6l_project_bn True\n",
      "463 block6l_drop True\n",
      "464 block6l_add True\n",
      "465 block6m_expand_conv True\n",
      "466 block6m_expand_bn True\n",
      "467 block6m_expand_activation True\n",
      "468 block6m_dwconv2 True\n",
      "469 block6m_bn True\n",
      "470 block6m_activation True\n",
      "471 block6m_se_squeeze True\n",
      "472 block6m_se_reshape True\n",
      "473 block6m_se_reduce True\n",
      "474 block6m_se_expand True\n",
      "475 block6m_se_excite True\n",
      "476 block6m_project_conv True\n",
      "477 block6m_project_bn True\n",
      "478 block6m_drop True\n",
      "479 block6m_add True\n",
      "480 block6n_expand_conv True\n",
      "481 block6n_expand_bn True\n",
      "482 block6n_expand_activation True\n",
      "483 block6n_dwconv2 True\n",
      "484 block6n_bn True\n",
      "485 block6n_activation True\n",
      "486 block6n_se_squeeze True\n",
      "487 block6n_se_reshape True\n",
      "488 block6n_se_reduce True\n",
      "489 block6n_se_expand True\n",
      "490 block6n_se_excite True\n",
      "491 block6n_project_conv True\n",
      "492 block6n_project_bn True\n",
      "493 block6n_drop True\n",
      "494 block6n_add True\n",
      "495 block6o_expand_conv True\n",
      "496 block6o_expand_bn True\n",
      "497 block6o_expand_activation True\n",
      "498 block6o_dwconv2 True\n",
      "499 block6o_bn True\n",
      "500 block6o_activation True\n",
      "501 block6o_se_squeeze True\n",
      "502 block6o_se_reshape True\n",
      "503 block6o_se_reduce True\n",
      "504 block6o_se_expand True\n",
      "505 block6o_se_excite True\n",
      "506 block6o_project_conv True\n",
      "507 block6o_project_bn True\n",
      "508 block6o_drop True\n",
      "509 block6o_add True\n",
      "510 top_conv True\n",
      "511 top_bn True\n",
      "512 top_activation True\n",
      "513 avg_pool True\n"
     ]
    },
    {
     "data": {
      "text/html": [
       "<pre style=\"white-space:pre;overflow-x:auto;line-height:normal;font-family:Menlo,'DejaVu Sans Mono',consolas,'Courier New',monospace\"><span style=\"font-weight: bold\">Model: \"model\"</span>\n",
       "</pre>\n"
      ],
      "text/plain": [
       "\u001b[1mModel: \"model\"\u001b[0m\n"
      ]
     },
     "metadata": {},
     "output_type": "display_data"
    },
    {
     "data": {
      "text/html": [
       "<pre style=\"white-space:pre;overflow-x:auto;line-height:normal;font-family:Menlo,'DejaVu Sans Mono',consolas,'Courier New',monospace\">┏━━━━━━━━━━━━━━━━━━━━━━━━━━━━━━━━━┳━━━━━━━━━━━━━━━━━━━━━━━━┳━━━━━━━━━━━━━━━┓\n",
       "┃<span style=\"font-weight: bold\"> Layer (type)                    </span>┃<span style=\"font-weight: bold\"> Output Shape           </span>┃<span style=\"font-weight: bold\">       Param # </span>┃\n",
       "┡━━━━━━━━━━━━━━━━━━━━━━━━━━━━━━━━━╇━━━━━━━━━━━━━━━━━━━━━━━━╇━━━━━━━━━━━━━━━┩\n",
       "│ input_layer_3 (<span style=\"color: #0087ff; text-decoration-color: #0087ff\">InputLayer</span>)      │ (<span style=\"color: #00d7ff; text-decoration-color: #00d7ff\">None</span>, <span style=\"color: #00af00; text-decoration-color: #00af00\">48</span>, <span style=\"color: #00af00; text-decoration-color: #00af00\">48</span>, <span style=\"color: #00af00; text-decoration-color: #00af00\">3</span>)      │             <span style=\"color: #00af00; text-decoration-color: #00af00\">0</span> │\n",
       "├─────────────────────────────────┼────────────────────────┼───────────────┤\n",
       "│ efficientnetv2-s (<span style=\"color: #0087ff; text-decoration-color: #0087ff\">Functional</span>)   │ (<span style=\"color: #00d7ff; text-decoration-color: #00d7ff\">None</span>, <span style=\"color: #00af00; text-decoration-color: #00af00\">1280</span>)           │    <span style=\"color: #00af00; text-decoration-color: #00af00\">20,331,360</span> │\n",
       "├─────────────────────────────────┼────────────────────────┼───────────────┤\n",
       "│ dense_1 (<span style=\"color: #0087ff; text-decoration-color: #0087ff\">Dense</span>)                 │ (<span style=\"color: #00d7ff; text-decoration-color: #00d7ff\">None</span>, <span style=\"color: #00af00; text-decoration-color: #00af00\">3</span>)              │         <span style=\"color: #00af00; text-decoration-color: #00af00\">3,843</span> │\n",
       "└─────────────────────────────────┴────────────────────────┴───────────────┘\n",
       "</pre>\n"
      ],
      "text/plain": [
       "┏━━━━━━━━━━━━━━━━━━━━━━━━━━━━━━━━━┳━━━━━━━━━━━━━━━━━━━━━━━━┳━━━━━━━━━━━━━━━┓\n",
       "┃\u001b[1m \u001b[0m\u001b[1mLayer (type)                   \u001b[0m\u001b[1m \u001b[0m┃\u001b[1m \u001b[0m\u001b[1mOutput Shape          \u001b[0m\u001b[1m \u001b[0m┃\u001b[1m \u001b[0m\u001b[1m      Param #\u001b[0m\u001b[1m \u001b[0m┃\n",
       "┡━━━━━━━━━━━━━━━━━━━━━━━━━━━━━━━━━╇━━━━━━━━━━━━━━━━━━━━━━━━╇━━━━━━━━━━━━━━━┩\n",
       "│ input_layer_3 (\u001b[38;5;33mInputLayer\u001b[0m)      │ (\u001b[38;5;45mNone\u001b[0m, \u001b[38;5;34m48\u001b[0m, \u001b[38;5;34m48\u001b[0m, \u001b[38;5;34m3\u001b[0m)      │             \u001b[38;5;34m0\u001b[0m │\n",
       "├─────────────────────────────────┼────────────────────────┼───────────────┤\n",
       "│ efficientnetv2-s (\u001b[38;5;33mFunctional\u001b[0m)   │ (\u001b[38;5;45mNone\u001b[0m, \u001b[38;5;34m1280\u001b[0m)           │    \u001b[38;5;34m20,331,360\u001b[0m │\n",
       "├─────────────────────────────────┼────────────────────────┼───────────────┤\n",
       "│ dense_1 (\u001b[38;5;33mDense\u001b[0m)                 │ (\u001b[38;5;45mNone\u001b[0m, \u001b[38;5;34m3\u001b[0m)              │         \u001b[38;5;34m3,843\u001b[0m │\n",
       "└─────────────────────────────────┴────────────────────────┴───────────────┘\n"
      ]
     },
     "metadata": {},
     "output_type": "display_data"
    },
    {
     "data": {
      "text/html": [
       "<pre style=\"white-space:pre;overflow-x:auto;line-height:normal;font-family:Menlo,'DejaVu Sans Mono',consolas,'Courier New',monospace\"><span style=\"font-weight: bold\"> Total params: </span><span style=\"color: #00af00; text-decoration-color: #00af00\">20,342,891</span> (77.60 MB)\n",
       "</pre>\n"
      ],
      "text/plain": [
       "\u001b[1m Total params: \u001b[0m\u001b[38;5;34m20,342,891\u001b[0m (77.60 MB)\n"
      ]
     },
     "metadata": {},
     "output_type": "display_data"
    },
    {
     "data": {
      "text/html": [
       "<pre style=\"white-space:pre;overflow-x:auto;line-height:normal;font-family:Menlo,'DejaVu Sans Mono',consolas,'Courier New',monospace\"><span style=\"font-weight: bold\"> Trainable params: </span><span style=\"color: #00af00; text-decoration-color: #00af00\">14,895,915</span> (56.82 MB)\n",
       "</pre>\n"
      ],
      "text/plain": [
       "\u001b[1m Trainable params: \u001b[0m\u001b[38;5;34m14,895,915\u001b[0m (56.82 MB)\n"
      ]
     },
     "metadata": {},
     "output_type": "display_data"
    },
    {
     "data": {
      "text/html": [
       "<pre style=\"white-space:pre;overflow-x:auto;line-height:normal;font-family:Menlo,'DejaVu Sans Mono',consolas,'Courier New',monospace\"><span style=\"font-weight: bold\"> Non-trainable params: </span><span style=\"color: #00af00; text-decoration-color: #00af00\">5,439,288</span> (20.75 MB)\n",
       "</pre>\n"
      ],
      "text/plain": [
       "\u001b[1m Non-trainable params: \u001b[0m\u001b[38;5;34m5,439,288\u001b[0m (20.75 MB)\n"
      ]
     },
     "metadata": {},
     "output_type": "display_data"
    },
    {
     "data": {
      "text/html": [
       "<pre style=\"white-space:pre;overflow-x:auto;line-height:normal;font-family:Menlo,'DejaVu Sans Mono',consolas,'Courier New',monospace\"><span style=\"font-weight: bold\"> Optimizer params: </span><span style=\"color: #00af00; text-decoration-color: #00af00\">7,688</span> (30.04 KB)\n",
       "</pre>\n"
      ],
      "text/plain": [
       "\u001b[1m Optimizer params: \u001b[0m\u001b[38;5;34m7,688\u001b[0m (30.04 KB)\n"
      ]
     },
     "metadata": {},
     "output_type": "display_data"
    }
   ],
   "source": [
    "# Freeze first N layers, e.g., until the 286th one\n",
    "N = 286\n",
    "for i, layer in enumerate(ft_model.get_layer('efficientnetv2-s').layers[:N]):\n",
    "  layer.trainable=False\n",
    "for i, layer in enumerate(ft_model.get_layer('efficientnetv2-s').layers):\n",
    "   print(i, layer.name, layer.trainable)\n",
    "ft_model.summary()"
   ]
  },
  {
   "cell_type": "code",
   "execution_count": 34,
   "id": "885d2702",
   "metadata": {
    "execution": {
     "iopub.execute_input": "2024-08-20T08:07:06.809320Z",
     "iopub.status.busy": "2024-08-20T08:07:06.808976Z",
     "iopub.status.idle": "2024-08-20T08:07:06.819754Z",
     "shell.execute_reply": "2024-08-20T08:07:06.819064Z"
    },
    "papermill": {
     "duration": 0.459869,
     "end_time": "2024-08-20T08:07:06.821694",
     "exception": false,
     "start_time": "2024-08-20T08:07:06.361825",
     "status": "completed"
    },
    "tags": []
   },
   "outputs": [],
   "source": [
    "ft_model.compile(loss=tfk.losses.CategoricalCrossentropy(), optimizer=tfk.optimizers.Adam(1e-5), metrics=['accuracy'])"
   ]
  },
  {
   "cell_type": "code",
   "execution_count": 35,
   "id": "e98a6938",
   "metadata": {
    "execution": {
     "iopub.execute_input": "2024-08-20T08:07:07.704089Z",
     "iopub.status.busy": "2024-08-20T08:07:07.703726Z",
     "iopub.status.idle": "2024-08-20T08:14:21.657554Z",
     "shell.execute_reply": "2024-08-20T08:14:21.656507Z"
    },
    "papermill": {
     "duration": 434.398798,
     "end_time": "2024-08-20T08:14:21.659955",
     "exception": false,
     "start_time": "2024-08-20T08:07:07.261157",
     "status": "completed"
    },
    "tags": []
   },
   "outputs": [
    {
     "name": "stdout",
     "output_type": "stream",
     "text": [
      "Epoch 1/200\n",
      "\u001b[1m174/174\u001b[0m \u001b[32m━━━━━━━━━━━━━━━━━━━━\u001b[0m\u001b[37m\u001b[0m \u001b[1m243s\u001b[0m 662ms/step - accuracy: 0.5179 - loss: 1.6833 - val_accuracy: 0.6398 - val_loss: 1.1501\n",
      "Epoch 2/200\n",
      "\u001b[1m174/174\u001b[0m \u001b[32m━━━━━━━━━━━━━━━━━━━━\u001b[0m\u001b[37m\u001b[0m \u001b[1m8s\u001b[0m 44ms/step - accuracy: 0.6196 - loss: 1.2824 - val_accuracy: 0.6650 - val_loss: 1.0425\n",
      "Epoch 3/200\n",
      "\u001b[1m174/174\u001b[0m \u001b[32m━━━━━━━━━━━━━━━━━━━━\u001b[0m\u001b[37m\u001b[0m \u001b[1m8s\u001b[0m 45ms/step - accuracy: 0.6339 - loss: 1.1775 - val_accuracy: 0.6794 - val_loss: 0.9556\n",
      "Epoch 4/200\n",
      "\u001b[1m174/174\u001b[0m \u001b[32m━━━━━━━━━━━━━━━━━━━━\u001b[0m\u001b[37m\u001b[0m \u001b[1m8s\u001b[0m 44ms/step - accuracy: 0.6496 - loss: 1.0284 - val_accuracy: 0.6880 - val_loss: 0.8982\n",
      "Epoch 5/200\n",
      "\u001b[1m174/174\u001b[0m \u001b[32m━━━━━━━━━━━━━━━━━━━━\u001b[0m\u001b[37m\u001b[0m \u001b[1m8s\u001b[0m 44ms/step - accuracy: 0.6565 - loss: 0.9838 - val_accuracy: 0.7046 - val_loss: 0.8571\n",
      "Epoch 6/200\n",
      "\u001b[1m174/174\u001b[0m \u001b[32m━━━━━━━━━━━━━━━━━━━━\u001b[0m\u001b[37m\u001b[0m \u001b[1m8s\u001b[0m 43ms/step - accuracy: 0.6766 - loss: 0.9186 - val_accuracy: 0.7133 - val_loss: 0.7946\n",
      "Epoch 7/200\n",
      "\u001b[1m174/174\u001b[0m \u001b[32m━━━━━━━━━━━━━━━━━━━━\u001b[0m\u001b[37m\u001b[0m \u001b[1m8s\u001b[0m 44ms/step - accuracy: 0.6883 - loss: 0.8569 - val_accuracy: 0.7341 - val_loss: 0.7359\n",
      "Epoch 8/200\n",
      "\u001b[1m174/174\u001b[0m \u001b[32m━━━━━━━━━━━━━━━━━━━━\u001b[0m\u001b[37m\u001b[0m \u001b[1m7s\u001b[0m 42ms/step - accuracy: 0.6979 - loss: 0.7642 - val_accuracy: 0.7313 - val_loss: 0.7110\n",
      "Epoch 9/200\n",
      "\u001b[1m174/174\u001b[0m \u001b[32m━━━━━━━━━━━━━━━━━━━━\u001b[0m\u001b[37m\u001b[0m \u001b[1m7s\u001b[0m 43ms/step - accuracy: 0.7176 - loss: 0.7258 - val_accuracy: 0.7334 - val_loss: 0.6751\n",
      "Epoch 10/200\n",
      "\u001b[1m174/174\u001b[0m \u001b[32m━━━━━━━━━━━━━━━━━━━━\u001b[0m\u001b[37m\u001b[0m \u001b[1m8s\u001b[0m 44ms/step - accuracy: 0.7296 - loss: 0.6699 - val_accuracy: 0.7378 - val_loss: 0.6558\n",
      "Epoch 11/200\n",
      "\u001b[1m174/174\u001b[0m \u001b[32m━━━━━━━━━━━━━━━━━━━━\u001b[0m\u001b[37m\u001b[0m \u001b[1m8s\u001b[0m 44ms/step - accuracy: 0.7236 - loss: 0.6617 - val_accuracy: 0.7428 - val_loss: 0.6446\n",
      "Epoch 12/200\n",
      "\u001b[1m174/174\u001b[0m \u001b[32m━━━━━━━━━━━━━━━━━━━━\u001b[0m\u001b[37m\u001b[0m \u001b[1m10s\u001b[0m 44ms/step - accuracy: 0.7367 - loss: 0.6617 - val_accuracy: 0.7471 - val_loss: 0.6266\n",
      "Epoch 13/200\n",
      "\u001b[1m174/174\u001b[0m \u001b[32m━━━━━━━━━━━━━━━━━━━━\u001b[0m\u001b[37m\u001b[0m \u001b[1m8s\u001b[0m 43ms/step - accuracy: 0.7539 - loss: 0.6288 - val_accuracy: 0.7601 - val_loss: 0.6167\n",
      "Epoch 14/200\n",
      "\u001b[1m174/174\u001b[0m \u001b[32m━━━━━━━━━━━━━━━━━━━━\u001b[0m\u001b[37m\u001b[0m \u001b[1m7s\u001b[0m 43ms/step - accuracy: 0.7570 - loss: 0.6053 - val_accuracy: 0.7601 - val_loss: 0.6097\n",
      "Epoch 15/200\n",
      "\u001b[1m174/174\u001b[0m \u001b[32m━━━━━━━━━━━━━━━━━━━━\u001b[0m\u001b[37m\u001b[0m \u001b[1m7s\u001b[0m 43ms/step - accuracy: 0.7555 - loss: 0.5810 - val_accuracy: 0.7579 - val_loss: 0.6024\n",
      "Epoch 16/200\n",
      "\u001b[1m174/174\u001b[0m \u001b[32m━━━━━━━━━━━━━━━━━━━━\u001b[0m\u001b[37m\u001b[0m \u001b[1m7s\u001b[0m 42ms/step - accuracy: 0.7655 - loss: 0.5611 - val_accuracy: 0.7601 - val_loss: 0.5950\n",
      "Epoch 17/200\n",
      "\u001b[1m174/174\u001b[0m \u001b[32m━━━━━━━━━━━━━━━━━━━━\u001b[0m\u001b[37m\u001b[0m \u001b[1m8s\u001b[0m 44ms/step - accuracy: 0.7715 - loss: 0.5472 - val_accuracy: 0.7615 - val_loss: 0.5835\n",
      "Epoch 18/200\n",
      "\u001b[1m174/174\u001b[0m \u001b[32m━━━━━━━━━━━━━━━━━━━━\u001b[0m\u001b[37m\u001b[0m \u001b[1m8s\u001b[0m 43ms/step - accuracy: 0.7817 - loss: 0.5528 - val_accuracy: 0.7651 - val_loss: 0.5834\n",
      "Epoch 19/200\n",
      "\u001b[1m174/174\u001b[0m \u001b[32m━━━━━━━━━━━━━━━━━━━━\u001b[0m\u001b[37m\u001b[0m \u001b[1m8s\u001b[0m 44ms/step - accuracy: 0.7807 - loss: 0.5226 - val_accuracy: 0.7723 - val_loss: 0.5757\n",
      "Epoch 20/200\n",
      "\u001b[1m174/174\u001b[0m \u001b[32m━━━━━━━━━━━━━━━━━━━━\u001b[0m\u001b[37m\u001b[0m \u001b[1m7s\u001b[0m 43ms/step - accuracy: 0.7865 - loss: 0.5226 - val_accuracy: 0.7666 - val_loss: 0.5769\n",
      "Epoch 21/200\n",
      "\u001b[1m174/174\u001b[0m \u001b[32m━━━━━━━━━━━━━━━━━━━━\u001b[0m\u001b[37m\u001b[0m \u001b[1m7s\u001b[0m 42ms/step - accuracy: 0.7891 - loss: 0.4942 - val_accuracy: 0.7666 - val_loss: 0.5680\n",
      "Epoch 22/200\n",
      "\u001b[1m174/174\u001b[0m \u001b[32m━━━━━━━━━━━━━━━━━━━━\u001b[0m\u001b[37m\u001b[0m \u001b[1m7s\u001b[0m 43ms/step - accuracy: 0.7960 - loss: 0.4949 - val_accuracy: 0.7680 - val_loss: 0.5645\n",
      "Epoch 23/200\n",
      "\u001b[1m174/174\u001b[0m \u001b[32m━━━━━━━━━━━━━━━━━━━━\u001b[0m\u001b[37m\u001b[0m \u001b[1m7s\u001b[0m 42ms/step - accuracy: 0.8052 - loss: 0.4851 - val_accuracy: 0.7687 - val_loss: 0.5566\n",
      "Epoch 24/200\n",
      "\u001b[1m174/174\u001b[0m \u001b[32m━━━━━━━━━━━━━━━━━━━━\u001b[0m\u001b[37m\u001b[0m \u001b[1m7s\u001b[0m 43ms/step - accuracy: 0.8125 - loss: 0.4540 - val_accuracy: 0.7687 - val_loss: 0.5598\n",
      "Epoch 25/200\n",
      "\u001b[1m174/174\u001b[0m \u001b[32m━━━━━━━━━━━━━━━━━━━━\u001b[0m\u001b[37m\u001b[0m \u001b[1m7s\u001b[0m 42ms/step - accuracy: 0.8155 - loss: 0.4611 - val_accuracy: 0.7673 - val_loss: 0.5592\n",
      "Epoch 26/200\n",
      "\u001b[1m174/174\u001b[0m \u001b[32m━━━━━━━━━━━━━━━━━━━━\u001b[0m\u001b[37m\u001b[0m \u001b[1m7s\u001b[0m 42ms/step - accuracy: 0.8094 - loss: 0.4555 - val_accuracy: 0.7630 - val_loss: 0.5661\n"
     ]
    }
   ],
   "source": [
    "# Fine-tune the model\n",
    "ft_history = ft_model.fit(\n",
    "    train_ds,\n",
    "    batch_size = 32,\n",
    "    epochs = 200,\n",
    "    validation_data = val_ds,\n",
    "    callbacks = [tfk.callbacks.EarlyStopping(monitor='val_accuracy', mode='max', patience=7, restore_best_weights=True)]\n",
    ").history"
   ]
  },
  {
   "cell_type": "code",
   "execution_count": 36,
   "id": "1d742445",
   "metadata": {
    "execution": {
     "iopub.execute_input": "2024-08-20T08:14:22.981927Z",
     "iopub.status.busy": "2024-08-20T08:14:22.981525Z",
     "iopub.status.idle": "2024-08-20T08:14:24.957036Z",
     "shell.execute_reply": "2024-08-20T08:14:24.956203Z"
    },
    "papermill": {
     "duration": 2.614416,
     "end_time": "2024-08-20T08:14:24.959377",
     "exception": false,
     "start_time": "2024-08-20T08:14:22.344961",
     "status": "completed"
    },
    "tags": []
   },
   "outputs": [],
   "source": [
    "ft_model.save('FineTuningModel.keras')"
   ]
  },
  {
   "cell_type": "markdown",
   "id": "e6dca813",
   "metadata": {
    "papermill": {
     "duration": 0.684171,
     "end_time": "2024-08-20T08:14:26.268905",
     "exception": false,
     "start_time": "2024-08-20T08:14:25.584734",
     "status": "completed"
    },
    "tags": []
   },
   "source": [
    "## Fine tune with freeze batch norm"
   ]
  },
  {
   "cell_type": "markdown",
   "id": "729519ed",
   "metadata": {
    "papermill": {
     "duration": 0.641101,
     "end_time": "2024-08-20T08:14:27.538741",
     "exception": false,
     "start_time": "2024-08-20T08:14:26.897640",
     "status": "completed"
    },
    "tags": []
   },
   "source": [
    "# Re-load the model after transfer learning\n"
   ]
  },
  {
   "cell_type": "code",
   "execution_count": 37,
   "id": "ed1f2004",
   "metadata": {
    "execution": {
     "iopub.execute_input": "2024-08-20T08:14:28.840136Z",
     "iopub.status.busy": "2024-08-20T08:14:28.839751Z",
     "iopub.status.idle": "2024-08-20T08:14:31.796241Z",
     "shell.execute_reply": "2024-08-20T08:14:31.795325Z"
    },
    "papermill": {
     "duration": 3.584569,
     "end_time": "2024-08-20T08:14:31.798205",
     "exception": false,
     "start_time": "2024-08-20T08:14:28.213636",
     "status": "completed"
    },
    "tags": []
   },
   "outputs": [
    {
     "data": {
      "text/html": [
       "<pre style=\"white-space:pre;overflow-x:auto;line-height:normal;font-family:Menlo,'DejaVu Sans Mono',consolas,'Courier New',monospace\"><span style=\"font-weight: bold\">Model: \"model\"</span>\n",
       "</pre>\n"
      ],
      "text/plain": [
       "\u001b[1mModel: \"model\"\u001b[0m\n"
      ]
     },
     "metadata": {},
     "output_type": "display_data"
    },
    {
     "data": {
      "text/html": [
       "<pre style=\"white-space:pre;overflow-x:auto;line-height:normal;font-family:Menlo,'DejaVu Sans Mono',consolas,'Courier New',monospace\">┏━━━━━━━━━━━━━━━━━━━━━━━━━━━━━━━━━┳━━━━━━━━━━━━━━━━━━━━━━━━┳━━━━━━━━━━━━━━━┓\n",
       "┃<span style=\"font-weight: bold\"> Layer (type)                    </span>┃<span style=\"font-weight: bold\"> Output Shape           </span>┃<span style=\"font-weight: bold\">       Param # </span>┃\n",
       "┡━━━━━━━━━━━━━━━━━━━━━━━━━━━━━━━━━╇━━━━━━━━━━━━━━━━━━━━━━━━╇━━━━━━━━━━━━━━━┩\n",
       "│ input_layer_3 (<span style=\"color: #0087ff; text-decoration-color: #0087ff\">InputLayer</span>)      │ (<span style=\"color: #00d7ff; text-decoration-color: #00d7ff\">None</span>, <span style=\"color: #00af00; text-decoration-color: #00af00\">48</span>, <span style=\"color: #00af00; text-decoration-color: #00af00\">48</span>, <span style=\"color: #00af00; text-decoration-color: #00af00\">3</span>)      │             <span style=\"color: #00af00; text-decoration-color: #00af00\">0</span> │\n",
       "├─────────────────────────────────┼────────────────────────┼───────────────┤\n",
       "│ efficientnetv2-s (<span style=\"color: #0087ff; text-decoration-color: #0087ff\">Functional</span>)   │ (<span style=\"color: #00d7ff; text-decoration-color: #00d7ff\">None</span>, <span style=\"color: #00af00; text-decoration-color: #00af00\">1280</span>)           │    <span style=\"color: #00af00; text-decoration-color: #00af00\">20,331,360</span> │\n",
       "├─────────────────────────────────┼────────────────────────┼───────────────┤\n",
       "│ dense_1 (<span style=\"color: #0087ff; text-decoration-color: #0087ff\">Dense</span>)                 │ (<span style=\"color: #00d7ff; text-decoration-color: #00d7ff\">None</span>, <span style=\"color: #00af00; text-decoration-color: #00af00\">3</span>)              │         <span style=\"color: #00af00; text-decoration-color: #00af00\">3,843</span> │\n",
       "└─────────────────────────────────┴────────────────────────┴───────────────┘\n",
       "</pre>\n"
      ],
      "text/plain": [
       "┏━━━━━━━━━━━━━━━━━━━━━━━━━━━━━━━━━┳━━━━━━━━━━━━━━━━━━━━━━━━┳━━━━━━━━━━━━━━━┓\n",
       "┃\u001b[1m \u001b[0m\u001b[1mLayer (type)                   \u001b[0m\u001b[1m \u001b[0m┃\u001b[1m \u001b[0m\u001b[1mOutput Shape          \u001b[0m\u001b[1m \u001b[0m┃\u001b[1m \u001b[0m\u001b[1m      Param #\u001b[0m\u001b[1m \u001b[0m┃\n",
       "┡━━━━━━━━━━━━━━━━━━━━━━━━━━━━━━━━━╇━━━━━━━━━━━━━━━━━━━━━━━━╇━━━━━━━━━━━━━━━┩\n",
       "│ input_layer_3 (\u001b[38;5;33mInputLayer\u001b[0m)      │ (\u001b[38;5;45mNone\u001b[0m, \u001b[38;5;34m48\u001b[0m, \u001b[38;5;34m48\u001b[0m, \u001b[38;5;34m3\u001b[0m)      │             \u001b[38;5;34m0\u001b[0m │\n",
       "├─────────────────────────────────┼────────────────────────┼───────────────┤\n",
       "│ efficientnetv2-s (\u001b[38;5;33mFunctional\u001b[0m)   │ (\u001b[38;5;45mNone\u001b[0m, \u001b[38;5;34m1280\u001b[0m)           │    \u001b[38;5;34m20,331,360\u001b[0m │\n",
       "├─────────────────────────────────┼────────────────────────┼───────────────┤\n",
       "│ dense_1 (\u001b[38;5;33mDense\u001b[0m)                 │ (\u001b[38;5;45mNone\u001b[0m, \u001b[38;5;34m3\u001b[0m)              │         \u001b[38;5;34m3,843\u001b[0m │\n",
       "└─────────────────────────────────┴────────────────────────┴───────────────┘\n"
      ]
     },
     "metadata": {},
     "output_type": "display_data"
    },
    {
     "data": {
      "text/html": [
       "<pre style=\"white-space:pre;overflow-x:auto;line-height:normal;font-family:Menlo,'DejaVu Sans Mono',consolas,'Courier New',monospace\"><span style=\"font-weight: bold\"> Total params: </span><span style=\"color: #00af00; text-decoration-color: #00af00\">20,342,891</span> (77.60 MB)\n",
       "</pre>\n"
      ],
      "text/plain": [
       "\u001b[1m Total params: \u001b[0m\u001b[38;5;34m20,342,891\u001b[0m (77.60 MB)\n"
      ]
     },
     "metadata": {},
     "output_type": "display_data"
    },
    {
     "data": {
      "text/html": [
       "<pre style=\"white-space:pre;overflow-x:auto;line-height:normal;font-family:Menlo,'DejaVu Sans Mono',consolas,'Courier New',monospace\"><span style=\"font-weight: bold\"> Trainable params: </span><span style=\"color: #00af00; text-decoration-color: #00af00\">3,843</span> (15.01 KB)\n",
       "</pre>\n"
      ],
      "text/plain": [
       "\u001b[1m Trainable params: \u001b[0m\u001b[38;5;34m3,843\u001b[0m (15.01 KB)\n"
      ]
     },
     "metadata": {},
     "output_type": "display_data"
    },
    {
     "data": {
      "text/html": [
       "<pre style=\"white-space:pre;overflow-x:auto;line-height:normal;font-family:Menlo,'DejaVu Sans Mono',consolas,'Courier New',monospace\"><span style=\"font-weight: bold\"> Non-trainable params: </span><span style=\"color: #00af00; text-decoration-color: #00af00\">20,331,360</span> (77.56 MB)\n",
       "</pre>\n"
      ],
      "text/plain": [
       "\u001b[1m Non-trainable params: \u001b[0m\u001b[38;5;34m20,331,360\u001b[0m (77.56 MB)\n"
      ]
     },
     "metadata": {},
     "output_type": "display_data"
    },
    {
     "data": {
      "text/html": [
       "<pre style=\"white-space:pre;overflow-x:auto;line-height:normal;font-family:Menlo,'DejaVu Sans Mono',consolas,'Courier New',monospace\"><span style=\"font-weight: bold\"> Optimizer params: </span><span style=\"color: #00af00; text-decoration-color: #00af00\">7,688</span> (30.04 KB)\n",
       "</pre>\n"
      ],
      "text/plain": [
       "\u001b[1m Optimizer params: \u001b[0m\u001b[38;5;34m7,688\u001b[0m (30.04 KB)\n"
      ]
     },
     "metadata": {},
     "output_type": "display_data"
    }
   ],
   "source": [
    "ft_bn_model = tfk.models.load_model('TransferLearningModel.keras')\n",
    "ft_bn_model.summary()"
   ]
  },
  {
   "cell_type": "code",
   "execution_count": 38,
   "id": "b8e5c402",
   "metadata": {
    "execution": {
     "iopub.execute_input": "2024-08-20T08:14:33.068061Z",
     "iopub.status.busy": "2024-08-20T08:14:33.067611Z",
     "iopub.status.idle": "2024-08-20T08:14:33.103039Z",
     "shell.execute_reply": "2024-08-20T08:14:33.101267Z"
    },
    "papermill": {
     "duration": 0.686518,
     "end_time": "2024-08-20T08:14:33.108293",
     "exception": false,
     "start_time": "2024-08-20T08:14:32.421775",
     "status": "completed"
    },
    "tags": []
   },
   "outputs": [
    {
     "name": "stdout",
     "output_type": "stream",
     "text": [
      "0 input_layer_2 True\n",
      "1 rescaling_1 True\n",
      "2 stem_conv True\n",
      "3 stem_bn False\n",
      "4 stem_activation True\n",
      "5 block1a_project_conv True\n",
      "6 block1a_project_bn False\n",
      "7 block1a_project_activation True\n",
      "8 block1a_add True\n",
      "9 block1b_project_conv True\n",
      "10 block1b_project_bn False\n",
      "11 block1b_project_activation True\n",
      "12 block1b_drop True\n",
      "13 block1b_add True\n",
      "14 block2a_expand_conv True\n",
      "15 block2a_expand_bn False\n",
      "16 block2a_expand_activation True\n",
      "17 block2a_project_conv True\n",
      "18 block2a_project_bn False\n",
      "19 block2b_expand_conv True\n",
      "20 block2b_expand_bn False\n",
      "21 block2b_expand_activation True\n",
      "22 block2b_project_conv True\n",
      "23 block2b_project_bn False\n",
      "24 block2b_drop True\n",
      "25 block2b_add True\n",
      "26 block2c_expand_conv True\n",
      "27 block2c_expand_bn False\n",
      "28 block2c_expand_activation True\n",
      "29 block2c_project_conv True\n",
      "30 block2c_project_bn False\n",
      "31 block2c_drop True\n",
      "32 block2c_add True\n",
      "33 block2d_expand_conv True\n",
      "34 block2d_expand_bn False\n",
      "35 block2d_expand_activation True\n",
      "36 block2d_project_conv True\n",
      "37 block2d_project_bn False\n",
      "38 block2d_drop True\n",
      "39 block2d_add True\n",
      "40 block3a_expand_conv True\n",
      "41 block3a_expand_bn False\n",
      "42 block3a_expand_activation True\n",
      "43 block3a_project_conv True\n",
      "44 block3a_project_bn False\n",
      "45 block3b_expand_conv True\n",
      "46 block3b_expand_bn False\n",
      "47 block3b_expand_activation True\n",
      "48 block3b_project_conv True\n",
      "49 block3b_project_bn False\n",
      "50 block3b_drop True\n",
      "51 block3b_add True\n",
      "52 block3c_expand_conv True\n",
      "53 block3c_expand_bn False\n",
      "54 block3c_expand_activation True\n",
      "55 block3c_project_conv True\n",
      "56 block3c_project_bn False\n",
      "57 block3c_drop True\n",
      "58 block3c_add True\n",
      "59 block3d_expand_conv True\n",
      "60 block3d_expand_bn False\n",
      "61 block3d_expand_activation True\n",
      "62 block3d_project_conv True\n",
      "63 block3d_project_bn False\n",
      "64 block3d_drop True\n",
      "65 block3d_add True\n",
      "66 block4a_expand_conv True\n",
      "67 block4a_expand_bn False\n",
      "68 block4a_expand_activation True\n",
      "69 block4a_dwconv2 True\n",
      "70 block4a_bn False\n",
      "71 block4a_activation True\n",
      "72 block4a_se_squeeze True\n",
      "73 block4a_se_reshape True\n",
      "74 block4a_se_reduce True\n",
      "75 block4a_se_expand True\n",
      "76 block4a_se_excite True\n",
      "77 block4a_project_conv True\n",
      "78 block4a_project_bn False\n",
      "79 block4b_expand_conv True\n",
      "80 block4b_expand_bn False\n",
      "81 block4b_expand_activation True\n",
      "82 block4b_dwconv2 True\n",
      "83 block4b_bn False\n",
      "84 block4b_activation True\n",
      "85 block4b_se_squeeze True\n",
      "86 block4b_se_reshape True\n",
      "87 block4b_se_reduce True\n",
      "88 block4b_se_expand True\n",
      "89 block4b_se_excite True\n",
      "90 block4b_project_conv True\n",
      "91 block4b_project_bn False\n",
      "92 block4b_drop True\n",
      "93 block4b_add True\n",
      "94 block4c_expand_conv True\n",
      "95 block4c_expand_bn False\n",
      "96 block4c_expand_activation True\n",
      "97 block4c_dwconv2 True\n",
      "98 block4c_bn False\n",
      "99 block4c_activation True\n",
      "100 block4c_se_squeeze True\n",
      "101 block4c_se_reshape True\n",
      "102 block4c_se_reduce True\n",
      "103 block4c_se_expand True\n",
      "104 block4c_se_excite True\n",
      "105 block4c_project_conv True\n",
      "106 block4c_project_bn False\n",
      "107 block4c_drop True\n",
      "108 block4c_add True\n",
      "109 block4d_expand_conv True\n",
      "110 block4d_expand_bn False\n",
      "111 block4d_expand_activation True\n",
      "112 block4d_dwconv2 True\n",
      "113 block4d_bn False\n",
      "114 block4d_activation True\n",
      "115 block4d_se_squeeze True\n",
      "116 block4d_se_reshape True\n",
      "117 block4d_se_reduce True\n",
      "118 block4d_se_expand True\n",
      "119 block4d_se_excite True\n",
      "120 block4d_project_conv True\n",
      "121 block4d_project_bn False\n",
      "122 block4d_drop True\n",
      "123 block4d_add True\n",
      "124 block4e_expand_conv True\n",
      "125 block4e_expand_bn False\n",
      "126 block4e_expand_activation True\n",
      "127 block4e_dwconv2 True\n",
      "128 block4e_bn False\n",
      "129 block4e_activation True\n",
      "130 block4e_se_squeeze True\n",
      "131 block4e_se_reshape True\n",
      "132 block4e_se_reduce True\n",
      "133 block4e_se_expand True\n",
      "134 block4e_se_excite True\n",
      "135 block4e_project_conv True\n",
      "136 block4e_project_bn False\n",
      "137 block4e_drop True\n",
      "138 block4e_add True\n",
      "139 block4f_expand_conv True\n",
      "140 block4f_expand_bn False\n",
      "141 block4f_expand_activation True\n",
      "142 block4f_dwconv2 True\n",
      "143 block4f_bn False\n",
      "144 block4f_activation True\n",
      "145 block4f_se_squeeze True\n",
      "146 block4f_se_reshape True\n",
      "147 block4f_se_reduce True\n",
      "148 block4f_se_expand True\n",
      "149 block4f_se_excite True\n",
      "150 block4f_project_conv True\n",
      "151 block4f_project_bn False\n",
      "152 block4f_drop True\n",
      "153 block4f_add True\n",
      "154 block5a_expand_conv True\n",
      "155 block5a_expand_bn False\n",
      "156 block5a_expand_activation True\n",
      "157 block5a_dwconv2 True\n",
      "158 block5a_bn False\n",
      "159 block5a_activation True\n",
      "160 block5a_se_squeeze True\n",
      "161 block5a_se_reshape True\n",
      "162 block5a_se_reduce True\n",
      "163 block5a_se_expand True\n",
      "164 block5a_se_excite True\n",
      "165 block5a_project_conv True\n",
      "166 block5a_project_bn False\n",
      "167 block5b_expand_conv True\n",
      "168 block5b_expand_bn False\n",
      "169 block5b_expand_activation True\n",
      "170 block5b_dwconv2 True\n",
      "171 block5b_bn False\n",
      "172 block5b_activation True\n",
      "173 block5b_se_squeeze True\n",
      "174 block5b_se_reshape True\n",
      "175 block5b_se_reduce True\n",
      "176 block5b_se_expand True\n",
      "177 block5b_se_excite True\n",
      "178 block5b_project_conv True\n",
      "179 block5b_project_bn False\n",
      "180 block5b_drop True\n",
      "181 block5b_add True\n",
      "182 block5c_expand_conv True\n",
      "183 block5c_expand_bn False\n",
      "184 block5c_expand_activation True\n",
      "185 block5c_dwconv2 True\n",
      "186 block5c_bn False\n",
      "187 block5c_activation True\n",
      "188 block5c_se_squeeze True\n",
      "189 block5c_se_reshape True\n",
      "190 block5c_se_reduce True\n",
      "191 block5c_se_expand True\n",
      "192 block5c_se_excite True\n",
      "193 block5c_project_conv True\n",
      "194 block5c_project_bn False\n",
      "195 block5c_drop True\n",
      "196 block5c_add True\n",
      "197 block5d_expand_conv True\n",
      "198 block5d_expand_bn False\n",
      "199 block5d_expand_activation True\n",
      "200 block5d_dwconv2 True\n",
      "201 block5d_bn False\n",
      "202 block5d_activation True\n",
      "203 block5d_se_squeeze True\n",
      "204 block5d_se_reshape True\n",
      "205 block5d_se_reduce True\n",
      "206 block5d_se_expand True\n",
      "207 block5d_se_excite True\n",
      "208 block5d_project_conv True\n",
      "209 block5d_project_bn False\n",
      "210 block5d_drop True\n",
      "211 block5d_add True\n",
      "212 block5e_expand_conv True\n",
      "213 block5e_expand_bn False\n",
      "214 block5e_expand_activation True\n",
      "215 block5e_dwconv2 True\n",
      "216 block5e_bn False\n",
      "217 block5e_activation True\n",
      "218 block5e_se_squeeze True\n",
      "219 block5e_se_reshape True\n",
      "220 block5e_se_reduce True\n",
      "221 block5e_se_expand True\n",
      "222 block5e_se_excite True\n",
      "223 block5e_project_conv True\n",
      "224 block5e_project_bn False\n",
      "225 block5e_drop True\n",
      "226 block5e_add True\n",
      "227 block5f_expand_conv True\n",
      "228 block5f_expand_bn False\n",
      "229 block5f_expand_activation True\n",
      "230 block5f_dwconv2 True\n",
      "231 block5f_bn False\n",
      "232 block5f_activation True\n",
      "233 block5f_se_squeeze True\n",
      "234 block5f_se_reshape True\n",
      "235 block5f_se_reduce True\n",
      "236 block5f_se_expand True\n",
      "237 block5f_se_excite True\n",
      "238 block5f_project_conv True\n",
      "239 block5f_project_bn False\n",
      "240 block5f_drop True\n",
      "241 block5f_add True\n",
      "242 block5g_expand_conv True\n",
      "243 block5g_expand_bn False\n",
      "244 block5g_expand_activation True\n",
      "245 block5g_dwconv2 True\n",
      "246 block5g_bn False\n",
      "247 block5g_activation True\n",
      "248 block5g_se_squeeze True\n",
      "249 block5g_se_reshape True\n",
      "250 block5g_se_reduce True\n",
      "251 block5g_se_expand True\n",
      "252 block5g_se_excite True\n",
      "253 block5g_project_conv True\n",
      "254 block5g_project_bn False\n",
      "255 block5g_drop True\n",
      "256 block5g_add True\n",
      "257 block5h_expand_conv True\n",
      "258 block5h_expand_bn False\n",
      "259 block5h_expand_activation True\n",
      "260 block5h_dwconv2 True\n",
      "261 block5h_bn False\n",
      "262 block5h_activation True\n",
      "263 block5h_se_squeeze True\n",
      "264 block5h_se_reshape True\n",
      "265 block5h_se_reduce True\n",
      "266 block5h_se_expand True\n",
      "267 block5h_se_excite True\n",
      "268 block5h_project_conv True\n",
      "269 block5h_project_bn False\n",
      "270 block5h_drop True\n",
      "271 block5h_add True\n",
      "272 block5i_expand_conv True\n",
      "273 block5i_expand_bn False\n",
      "274 block5i_expand_activation True\n",
      "275 block5i_dwconv2 True\n",
      "276 block5i_bn False\n",
      "277 block5i_activation True\n",
      "278 block5i_se_squeeze True\n",
      "279 block5i_se_reshape True\n",
      "280 block5i_se_reduce True\n",
      "281 block5i_se_expand True\n",
      "282 block5i_se_excite True\n",
      "283 block5i_project_conv True\n",
      "284 block5i_project_bn False\n",
      "285 block5i_drop True\n",
      "286 block5i_add True\n",
      "287 block6a_expand_conv True\n",
      "288 block6a_expand_bn False\n",
      "289 block6a_expand_activation True\n",
      "290 block6a_dwconv2 True\n",
      "291 block6a_bn False\n",
      "292 block6a_activation True\n",
      "293 block6a_se_squeeze True\n",
      "294 block6a_se_reshape True\n",
      "295 block6a_se_reduce True\n",
      "296 block6a_se_expand True\n",
      "297 block6a_se_excite True\n",
      "298 block6a_project_conv True\n",
      "299 block6a_project_bn False\n",
      "300 block6b_expand_conv True\n",
      "301 block6b_expand_bn False\n",
      "302 block6b_expand_activation True\n",
      "303 block6b_dwconv2 True\n",
      "304 block6b_bn False\n",
      "305 block6b_activation True\n",
      "306 block6b_se_squeeze True\n",
      "307 block6b_se_reshape True\n",
      "308 block6b_se_reduce True\n",
      "309 block6b_se_expand True\n",
      "310 block6b_se_excite True\n",
      "311 block6b_project_conv True\n",
      "312 block6b_project_bn False\n",
      "313 block6b_drop True\n",
      "314 block6b_add True\n",
      "315 block6c_expand_conv True\n",
      "316 block6c_expand_bn False\n",
      "317 block6c_expand_activation True\n",
      "318 block6c_dwconv2 True\n",
      "319 block6c_bn False\n",
      "320 block6c_activation True\n",
      "321 block6c_se_squeeze True\n",
      "322 block6c_se_reshape True\n",
      "323 block6c_se_reduce True\n",
      "324 block6c_se_expand True\n",
      "325 block6c_se_excite True\n",
      "326 block6c_project_conv True\n",
      "327 block6c_project_bn False\n",
      "328 block6c_drop True\n",
      "329 block6c_add True\n",
      "330 block6d_expand_conv True\n",
      "331 block6d_expand_bn False\n",
      "332 block6d_expand_activation True\n",
      "333 block6d_dwconv2 True\n",
      "334 block6d_bn False\n",
      "335 block6d_activation True\n",
      "336 block6d_se_squeeze True\n",
      "337 block6d_se_reshape True\n",
      "338 block6d_se_reduce True\n",
      "339 block6d_se_expand True\n",
      "340 block6d_se_excite True\n",
      "341 block6d_project_conv True\n",
      "342 block6d_project_bn False\n",
      "343 block6d_drop True\n",
      "344 block6d_add True\n",
      "345 block6e_expand_conv True\n",
      "346 block6e_expand_bn False\n",
      "347 block6e_expand_activation True\n",
      "348 block6e_dwconv2 True\n",
      "349 block6e_bn False\n",
      "350 block6e_activation True\n",
      "351 block6e_se_squeeze True\n",
      "352 block6e_se_reshape True\n",
      "353 block6e_se_reduce True\n",
      "354 block6e_se_expand True\n",
      "355 block6e_se_excite True\n",
      "356 block6e_project_conv True\n",
      "357 block6e_project_bn False\n",
      "358 block6e_drop True\n",
      "359 block6e_add True\n",
      "360 block6f_expand_conv True\n",
      "361 block6f_expand_bn False\n",
      "362 block6f_expand_activation True\n",
      "363 block6f_dwconv2 True\n",
      "364 block6f_bn False\n",
      "365 block6f_activation True\n",
      "366 block6f_se_squeeze True\n",
      "367 block6f_se_reshape True\n",
      "368 block6f_se_reduce True\n",
      "369 block6f_se_expand True\n",
      "370 block6f_se_excite True\n",
      "371 block6f_project_conv True\n",
      "372 block6f_project_bn False\n",
      "373 block6f_drop True\n",
      "374 block6f_add True\n",
      "375 block6g_expand_conv True\n",
      "376 block6g_expand_bn False\n",
      "377 block6g_expand_activation True\n",
      "378 block6g_dwconv2 True\n",
      "379 block6g_bn False\n",
      "380 block6g_activation True\n",
      "381 block6g_se_squeeze True\n",
      "382 block6g_se_reshape True\n",
      "383 block6g_se_reduce True\n",
      "384 block6g_se_expand True\n",
      "385 block6g_se_excite True\n",
      "386 block6g_project_conv True\n",
      "387 block6g_project_bn False\n",
      "388 block6g_drop True\n",
      "389 block6g_add True\n",
      "390 block6h_expand_conv True\n",
      "391 block6h_expand_bn False\n",
      "392 block6h_expand_activation True\n",
      "393 block6h_dwconv2 True\n",
      "394 block6h_bn False\n",
      "395 block6h_activation True\n",
      "396 block6h_se_squeeze True\n",
      "397 block6h_se_reshape True\n",
      "398 block6h_se_reduce True\n",
      "399 block6h_se_expand True\n",
      "400 block6h_se_excite True\n",
      "401 block6h_project_conv True\n",
      "402 block6h_project_bn False\n",
      "403 block6h_drop True\n",
      "404 block6h_add True\n",
      "405 block6i_expand_conv True\n",
      "406 block6i_expand_bn False\n",
      "407 block6i_expand_activation True\n",
      "408 block6i_dwconv2 True\n",
      "409 block6i_bn False\n",
      "410 block6i_activation True\n",
      "411 block6i_se_squeeze True\n",
      "412 block6i_se_reshape True\n",
      "413 block6i_se_reduce True\n",
      "414 block6i_se_expand True\n",
      "415 block6i_se_excite True\n",
      "416 block6i_project_conv True\n",
      "417 block6i_project_bn False\n",
      "418 block6i_drop True\n",
      "419 block6i_add True\n",
      "420 block6j_expand_conv True\n",
      "421 block6j_expand_bn False\n",
      "422 block6j_expand_activation True\n",
      "423 block6j_dwconv2 True\n",
      "424 block6j_bn False\n",
      "425 block6j_activation True\n",
      "426 block6j_se_squeeze True\n",
      "427 block6j_se_reshape True\n",
      "428 block6j_se_reduce True\n",
      "429 block6j_se_expand True\n",
      "430 block6j_se_excite True\n",
      "431 block6j_project_conv True\n",
      "432 block6j_project_bn False\n",
      "433 block6j_drop True\n",
      "434 block6j_add True\n",
      "435 block6k_expand_conv True\n",
      "436 block6k_expand_bn False\n",
      "437 block6k_expand_activation True\n",
      "438 block6k_dwconv2 True\n",
      "439 block6k_bn False\n",
      "440 block6k_activation True\n",
      "441 block6k_se_squeeze True\n",
      "442 block6k_se_reshape True\n",
      "443 block6k_se_reduce True\n",
      "444 block6k_se_expand True\n",
      "445 block6k_se_excite True\n",
      "446 block6k_project_conv True\n",
      "447 block6k_project_bn False\n",
      "448 block6k_drop True\n",
      "449 block6k_add True\n",
      "450 block6l_expand_conv True\n",
      "451 block6l_expand_bn False\n",
      "452 block6l_expand_activation True\n",
      "453 block6l_dwconv2 True\n",
      "454 block6l_bn False\n",
      "455 block6l_activation True\n",
      "456 block6l_se_squeeze True\n",
      "457 block6l_se_reshape True\n",
      "458 block6l_se_reduce True\n",
      "459 block6l_se_expand True\n",
      "460 block6l_se_excite True\n",
      "461 block6l_project_conv True\n",
      "462 block6l_project_bn False\n",
      "463 block6l_drop True\n",
      "464 block6l_add True\n",
      "465 block6m_expand_conv True\n",
      "466 block6m_expand_bn False\n",
      "467 block6m_expand_activation True\n",
      "468 block6m_dwconv2 True\n",
      "469 block6m_bn False\n",
      "470 block6m_activation True\n",
      "471 block6m_se_squeeze True\n",
      "472 block6m_se_reshape True\n",
      "473 block6m_se_reduce True\n",
      "474 block6m_se_expand True\n",
      "475 block6m_se_excite True\n",
      "476 block6m_project_conv True\n",
      "477 block6m_project_bn False\n",
      "478 block6m_drop True\n",
      "479 block6m_add True\n",
      "480 block6n_expand_conv True\n",
      "481 block6n_expand_bn False\n",
      "482 block6n_expand_activation True\n",
      "483 block6n_dwconv2 True\n",
      "484 block6n_bn False\n",
      "485 block6n_activation True\n",
      "486 block6n_se_squeeze True\n",
      "487 block6n_se_reshape True\n",
      "488 block6n_se_reduce True\n",
      "489 block6n_se_expand True\n",
      "490 block6n_se_excite True\n",
      "491 block6n_project_conv True\n",
      "492 block6n_project_bn False\n",
      "493 block6n_drop True\n",
      "494 block6n_add True\n",
      "495 block6o_expand_conv True\n",
      "496 block6o_expand_bn False\n",
      "497 block6o_expand_activation True\n",
      "498 block6o_dwconv2 True\n",
      "499 block6o_bn False\n",
      "500 block6o_activation True\n",
      "501 block6o_se_squeeze True\n",
      "502 block6o_se_reshape True\n",
      "503 block6o_se_reduce True\n",
      "504 block6o_se_expand True\n",
      "505 block6o_se_excite True\n",
      "506 block6o_project_conv True\n",
      "507 block6o_project_bn False\n",
      "508 block6o_drop True\n",
      "509 block6o_add True\n",
      "510 top_conv True\n",
      "511 top_bn False\n",
      "512 top_activation True\n",
      "513 avg_pool True\n"
     ]
    }
   ],
   "source": [
    "# Set all EfficientNetV2S layers as trainable\n",
    "ft_bn_model.get_layer('efficientnetv2-s').trainable = True\n",
    "for i, layer in enumerate(ft_bn_model.get_layer('efficientnetv2-s').layers):\n",
    "    if layer.name[-2:] == 'bn':\n",
    "        layer.trainable=False\n",
    "    print(i, layer.name, layer.trainable)"
   ]
  },
  {
   "cell_type": "code",
   "execution_count": 39,
   "id": "a6b1be58",
   "metadata": {
    "execution": {
     "iopub.execute_input": "2024-08-20T08:14:34.440746Z",
     "iopub.status.busy": "2024-08-20T08:14:34.440377Z",
     "iopub.status.idle": "2024-08-20T08:14:34.499931Z",
     "shell.execute_reply": "2024-08-20T08:14:34.499029Z"
    },
    "papermill": {
     "duration": 0.693934,
     "end_time": "2024-08-20T08:14:34.501945",
     "exception": false,
     "start_time": "2024-08-20T08:14:33.808011",
     "status": "completed"
    },
    "tags": []
   },
   "outputs": [
    {
     "name": "stdout",
     "output_type": "stream",
     "text": [
      "0 input_layer_2 False\n",
      "1 rescaling_1 False\n",
      "2 stem_conv False\n",
      "3 stem_bn False\n",
      "4 stem_activation False\n",
      "5 block1a_project_conv False\n",
      "6 block1a_project_bn False\n",
      "7 block1a_project_activation False\n",
      "8 block1a_add False\n",
      "9 block1b_project_conv False\n",
      "10 block1b_project_bn False\n",
      "11 block1b_project_activation False\n",
      "12 block1b_drop False\n",
      "13 block1b_add False\n",
      "14 block2a_expand_conv False\n",
      "15 block2a_expand_bn False\n",
      "16 block2a_expand_activation False\n",
      "17 block2a_project_conv False\n",
      "18 block2a_project_bn False\n",
      "19 block2b_expand_conv False\n",
      "20 block2b_expand_bn False\n",
      "21 block2b_expand_activation False\n",
      "22 block2b_project_conv False\n",
      "23 block2b_project_bn False\n",
      "24 block2b_drop False\n",
      "25 block2b_add False\n",
      "26 block2c_expand_conv False\n",
      "27 block2c_expand_bn False\n",
      "28 block2c_expand_activation False\n",
      "29 block2c_project_conv False\n",
      "30 block2c_project_bn False\n",
      "31 block2c_drop False\n",
      "32 block2c_add False\n",
      "33 block2d_expand_conv False\n",
      "34 block2d_expand_bn False\n",
      "35 block2d_expand_activation False\n",
      "36 block2d_project_conv False\n",
      "37 block2d_project_bn False\n",
      "38 block2d_drop False\n",
      "39 block2d_add False\n",
      "40 block3a_expand_conv False\n",
      "41 block3a_expand_bn False\n",
      "42 block3a_expand_activation False\n",
      "43 block3a_project_conv False\n",
      "44 block3a_project_bn False\n",
      "45 block3b_expand_conv False\n",
      "46 block3b_expand_bn False\n",
      "47 block3b_expand_activation False\n",
      "48 block3b_project_conv False\n",
      "49 block3b_project_bn False\n",
      "50 block3b_drop False\n",
      "51 block3b_add False\n",
      "52 block3c_expand_conv False\n",
      "53 block3c_expand_bn False\n",
      "54 block3c_expand_activation False\n",
      "55 block3c_project_conv False\n",
      "56 block3c_project_bn False\n",
      "57 block3c_drop False\n",
      "58 block3c_add False\n",
      "59 block3d_expand_conv False\n",
      "60 block3d_expand_bn False\n",
      "61 block3d_expand_activation False\n",
      "62 block3d_project_conv False\n",
      "63 block3d_project_bn False\n",
      "64 block3d_drop False\n",
      "65 block3d_add False\n",
      "66 block4a_expand_conv False\n",
      "67 block4a_expand_bn False\n",
      "68 block4a_expand_activation False\n",
      "69 block4a_dwconv2 False\n",
      "70 block4a_bn False\n",
      "71 block4a_activation False\n",
      "72 block4a_se_squeeze False\n",
      "73 block4a_se_reshape False\n",
      "74 block4a_se_reduce False\n",
      "75 block4a_se_expand False\n",
      "76 block4a_se_excite False\n",
      "77 block4a_project_conv False\n",
      "78 block4a_project_bn False\n",
      "79 block4b_expand_conv False\n",
      "80 block4b_expand_bn False\n",
      "81 block4b_expand_activation False\n",
      "82 block4b_dwconv2 False\n",
      "83 block4b_bn False\n",
      "84 block4b_activation False\n",
      "85 block4b_se_squeeze False\n",
      "86 block4b_se_reshape False\n",
      "87 block4b_se_reduce False\n",
      "88 block4b_se_expand False\n",
      "89 block4b_se_excite False\n",
      "90 block4b_project_conv False\n",
      "91 block4b_project_bn False\n",
      "92 block4b_drop False\n",
      "93 block4b_add False\n",
      "94 block4c_expand_conv False\n",
      "95 block4c_expand_bn False\n",
      "96 block4c_expand_activation False\n",
      "97 block4c_dwconv2 False\n",
      "98 block4c_bn False\n",
      "99 block4c_activation False\n",
      "100 block4c_se_squeeze False\n",
      "101 block4c_se_reshape False\n",
      "102 block4c_se_reduce False\n",
      "103 block4c_se_expand False\n",
      "104 block4c_se_excite False\n",
      "105 block4c_project_conv False\n",
      "106 block4c_project_bn False\n",
      "107 block4c_drop False\n",
      "108 block4c_add False\n",
      "109 block4d_expand_conv False\n",
      "110 block4d_expand_bn False\n",
      "111 block4d_expand_activation False\n",
      "112 block4d_dwconv2 False\n",
      "113 block4d_bn False\n",
      "114 block4d_activation False\n",
      "115 block4d_se_squeeze False\n",
      "116 block4d_se_reshape False\n",
      "117 block4d_se_reduce False\n",
      "118 block4d_se_expand False\n",
      "119 block4d_se_excite False\n",
      "120 block4d_project_conv False\n",
      "121 block4d_project_bn False\n",
      "122 block4d_drop False\n",
      "123 block4d_add False\n",
      "124 block4e_expand_conv False\n",
      "125 block4e_expand_bn False\n",
      "126 block4e_expand_activation False\n",
      "127 block4e_dwconv2 False\n",
      "128 block4e_bn False\n",
      "129 block4e_activation False\n",
      "130 block4e_se_squeeze False\n",
      "131 block4e_se_reshape False\n",
      "132 block4e_se_reduce False\n",
      "133 block4e_se_expand False\n",
      "134 block4e_se_excite False\n",
      "135 block4e_project_conv False\n",
      "136 block4e_project_bn False\n",
      "137 block4e_drop False\n",
      "138 block4e_add False\n",
      "139 block4f_expand_conv False\n",
      "140 block4f_expand_bn False\n",
      "141 block4f_expand_activation False\n",
      "142 block4f_dwconv2 False\n",
      "143 block4f_bn False\n",
      "144 block4f_activation False\n",
      "145 block4f_se_squeeze False\n",
      "146 block4f_se_reshape False\n",
      "147 block4f_se_reduce False\n",
      "148 block4f_se_expand False\n",
      "149 block4f_se_excite False\n",
      "150 block4f_project_conv False\n",
      "151 block4f_project_bn False\n",
      "152 block4f_drop False\n",
      "153 block4f_add False\n",
      "154 block5a_expand_conv False\n",
      "155 block5a_expand_bn False\n",
      "156 block5a_expand_activation False\n",
      "157 block5a_dwconv2 False\n",
      "158 block5a_bn False\n",
      "159 block5a_activation False\n",
      "160 block5a_se_squeeze False\n",
      "161 block5a_se_reshape False\n",
      "162 block5a_se_reduce False\n",
      "163 block5a_se_expand False\n",
      "164 block5a_se_excite False\n",
      "165 block5a_project_conv False\n",
      "166 block5a_project_bn False\n",
      "167 block5b_expand_conv False\n",
      "168 block5b_expand_bn False\n",
      "169 block5b_expand_activation False\n",
      "170 block5b_dwconv2 False\n",
      "171 block5b_bn False\n",
      "172 block5b_activation False\n",
      "173 block5b_se_squeeze False\n",
      "174 block5b_se_reshape False\n",
      "175 block5b_se_reduce False\n",
      "176 block5b_se_expand False\n",
      "177 block5b_se_excite False\n",
      "178 block5b_project_conv False\n",
      "179 block5b_project_bn False\n",
      "180 block5b_drop False\n",
      "181 block5b_add False\n",
      "182 block5c_expand_conv False\n",
      "183 block5c_expand_bn False\n",
      "184 block5c_expand_activation False\n",
      "185 block5c_dwconv2 False\n",
      "186 block5c_bn False\n",
      "187 block5c_activation False\n",
      "188 block5c_se_squeeze False\n",
      "189 block5c_se_reshape False\n",
      "190 block5c_se_reduce False\n",
      "191 block5c_se_expand False\n",
      "192 block5c_se_excite False\n",
      "193 block5c_project_conv False\n",
      "194 block5c_project_bn False\n",
      "195 block5c_drop False\n",
      "196 block5c_add False\n",
      "197 block5d_expand_conv False\n",
      "198 block5d_expand_bn False\n",
      "199 block5d_expand_activation False\n",
      "200 block5d_dwconv2 False\n",
      "201 block5d_bn False\n",
      "202 block5d_activation False\n",
      "203 block5d_se_squeeze False\n",
      "204 block5d_se_reshape False\n",
      "205 block5d_se_reduce False\n",
      "206 block5d_se_expand False\n",
      "207 block5d_se_excite False\n",
      "208 block5d_project_conv False\n",
      "209 block5d_project_bn False\n",
      "210 block5d_drop False\n",
      "211 block5d_add False\n",
      "212 block5e_expand_conv False\n",
      "213 block5e_expand_bn False\n",
      "214 block5e_expand_activation False\n",
      "215 block5e_dwconv2 False\n",
      "216 block5e_bn False\n",
      "217 block5e_activation False\n",
      "218 block5e_se_squeeze False\n",
      "219 block5e_se_reshape False\n",
      "220 block5e_se_reduce False\n",
      "221 block5e_se_expand False\n",
      "222 block5e_se_excite False\n",
      "223 block5e_project_conv False\n",
      "224 block5e_project_bn False\n",
      "225 block5e_drop False\n",
      "226 block5e_add False\n",
      "227 block5f_expand_conv False\n",
      "228 block5f_expand_bn False\n",
      "229 block5f_expand_activation False\n",
      "230 block5f_dwconv2 False\n",
      "231 block5f_bn False\n",
      "232 block5f_activation False\n",
      "233 block5f_se_squeeze False\n",
      "234 block5f_se_reshape False\n",
      "235 block5f_se_reduce False\n",
      "236 block5f_se_expand False\n",
      "237 block5f_se_excite False\n",
      "238 block5f_project_conv False\n",
      "239 block5f_project_bn False\n",
      "240 block5f_drop False\n",
      "241 block5f_add False\n",
      "242 block5g_expand_conv False\n",
      "243 block5g_expand_bn False\n",
      "244 block5g_expand_activation False\n",
      "245 block5g_dwconv2 False\n",
      "246 block5g_bn False\n",
      "247 block5g_activation False\n",
      "248 block5g_se_squeeze False\n",
      "249 block5g_se_reshape False\n",
      "250 block5g_se_reduce False\n",
      "251 block5g_se_expand False\n",
      "252 block5g_se_excite False\n",
      "253 block5g_project_conv False\n",
      "254 block5g_project_bn False\n",
      "255 block5g_drop False\n",
      "256 block5g_add False\n",
      "257 block5h_expand_conv False\n",
      "258 block5h_expand_bn False\n",
      "259 block5h_expand_activation False\n",
      "260 block5h_dwconv2 False\n",
      "261 block5h_bn False\n",
      "262 block5h_activation False\n",
      "263 block5h_se_squeeze False\n",
      "264 block5h_se_reshape False\n",
      "265 block5h_se_reduce False\n",
      "266 block5h_se_expand False\n",
      "267 block5h_se_excite False\n",
      "268 block5h_project_conv False\n",
      "269 block5h_project_bn False\n",
      "270 block5h_drop False\n",
      "271 block5h_add False\n",
      "272 block5i_expand_conv False\n",
      "273 block5i_expand_bn False\n",
      "274 block5i_expand_activation False\n",
      "275 block5i_dwconv2 False\n",
      "276 block5i_bn False\n",
      "277 block5i_activation False\n",
      "278 block5i_se_squeeze False\n",
      "279 block5i_se_reshape False\n",
      "280 block5i_se_reduce False\n",
      "281 block5i_se_expand False\n",
      "282 block5i_se_excite False\n",
      "283 block5i_project_conv False\n",
      "284 block5i_project_bn False\n",
      "285 block5i_drop False\n",
      "286 block5i_add True\n",
      "287 block6a_expand_conv True\n",
      "288 block6a_expand_bn False\n",
      "289 block6a_expand_activation True\n",
      "290 block6a_dwconv2 True\n",
      "291 block6a_bn False\n",
      "292 block6a_activation True\n",
      "293 block6a_se_squeeze True\n",
      "294 block6a_se_reshape True\n",
      "295 block6a_se_reduce True\n",
      "296 block6a_se_expand True\n",
      "297 block6a_se_excite True\n",
      "298 block6a_project_conv True\n",
      "299 block6a_project_bn False\n",
      "300 block6b_expand_conv True\n",
      "301 block6b_expand_bn False\n",
      "302 block6b_expand_activation True\n",
      "303 block6b_dwconv2 True\n",
      "304 block6b_bn False\n",
      "305 block6b_activation True\n",
      "306 block6b_se_squeeze True\n",
      "307 block6b_se_reshape True\n",
      "308 block6b_se_reduce True\n",
      "309 block6b_se_expand True\n",
      "310 block6b_se_excite True\n",
      "311 block6b_project_conv True\n",
      "312 block6b_project_bn False\n",
      "313 block6b_drop True\n",
      "314 block6b_add True\n",
      "315 block6c_expand_conv True\n",
      "316 block6c_expand_bn False\n",
      "317 block6c_expand_activation True\n",
      "318 block6c_dwconv2 True\n",
      "319 block6c_bn False\n",
      "320 block6c_activation True\n",
      "321 block6c_se_squeeze True\n",
      "322 block6c_se_reshape True\n",
      "323 block6c_se_reduce True\n",
      "324 block6c_se_expand True\n",
      "325 block6c_se_excite True\n",
      "326 block6c_project_conv True\n",
      "327 block6c_project_bn False\n",
      "328 block6c_drop True\n",
      "329 block6c_add True\n",
      "330 block6d_expand_conv True\n",
      "331 block6d_expand_bn False\n",
      "332 block6d_expand_activation True\n",
      "333 block6d_dwconv2 True\n",
      "334 block6d_bn False\n",
      "335 block6d_activation True\n",
      "336 block6d_se_squeeze True\n",
      "337 block6d_se_reshape True\n",
      "338 block6d_se_reduce True\n",
      "339 block6d_se_expand True\n",
      "340 block6d_se_excite True\n",
      "341 block6d_project_conv True\n",
      "342 block6d_project_bn False\n",
      "343 block6d_drop True\n",
      "344 block6d_add True\n",
      "345 block6e_expand_conv True\n",
      "346 block6e_expand_bn False\n",
      "347 block6e_expand_activation True\n",
      "348 block6e_dwconv2 True\n",
      "349 block6e_bn False\n",
      "350 block6e_activation True\n",
      "351 block6e_se_squeeze True\n",
      "352 block6e_se_reshape True\n",
      "353 block6e_se_reduce True\n",
      "354 block6e_se_expand True\n",
      "355 block6e_se_excite True\n",
      "356 block6e_project_conv True\n",
      "357 block6e_project_bn False\n",
      "358 block6e_drop True\n",
      "359 block6e_add True\n",
      "360 block6f_expand_conv True\n",
      "361 block6f_expand_bn False\n",
      "362 block6f_expand_activation True\n",
      "363 block6f_dwconv2 True\n",
      "364 block6f_bn False\n",
      "365 block6f_activation True\n",
      "366 block6f_se_squeeze True\n",
      "367 block6f_se_reshape True\n",
      "368 block6f_se_reduce True\n",
      "369 block6f_se_expand True\n",
      "370 block6f_se_excite True\n",
      "371 block6f_project_conv True\n",
      "372 block6f_project_bn False\n",
      "373 block6f_drop True\n",
      "374 block6f_add True\n",
      "375 block6g_expand_conv True\n",
      "376 block6g_expand_bn False\n",
      "377 block6g_expand_activation True\n",
      "378 block6g_dwconv2 True\n",
      "379 block6g_bn False\n",
      "380 block6g_activation True\n",
      "381 block6g_se_squeeze True\n",
      "382 block6g_se_reshape True\n",
      "383 block6g_se_reduce True\n",
      "384 block6g_se_expand True\n",
      "385 block6g_se_excite True\n",
      "386 block6g_project_conv True\n",
      "387 block6g_project_bn False\n",
      "388 block6g_drop True\n",
      "389 block6g_add True\n",
      "390 block6h_expand_conv True\n",
      "391 block6h_expand_bn False\n",
      "392 block6h_expand_activation True\n",
      "393 block6h_dwconv2 True\n",
      "394 block6h_bn False\n",
      "395 block6h_activation True\n",
      "396 block6h_se_squeeze True\n",
      "397 block6h_se_reshape True\n",
      "398 block6h_se_reduce True\n",
      "399 block6h_se_expand True\n",
      "400 block6h_se_excite True\n",
      "401 block6h_project_conv True\n",
      "402 block6h_project_bn False\n",
      "403 block6h_drop True\n",
      "404 block6h_add True\n",
      "405 block6i_expand_conv True\n",
      "406 block6i_expand_bn False\n",
      "407 block6i_expand_activation True\n",
      "408 block6i_dwconv2 True\n",
      "409 block6i_bn False\n",
      "410 block6i_activation True\n",
      "411 block6i_se_squeeze True\n",
      "412 block6i_se_reshape True\n",
      "413 block6i_se_reduce True\n",
      "414 block6i_se_expand True\n",
      "415 block6i_se_excite True\n",
      "416 block6i_project_conv True\n",
      "417 block6i_project_bn False\n",
      "418 block6i_drop True\n",
      "419 block6i_add True\n",
      "420 block6j_expand_conv True\n",
      "421 block6j_expand_bn False\n",
      "422 block6j_expand_activation True\n",
      "423 block6j_dwconv2 True\n",
      "424 block6j_bn False\n",
      "425 block6j_activation True\n",
      "426 block6j_se_squeeze True\n",
      "427 block6j_se_reshape True\n",
      "428 block6j_se_reduce True\n",
      "429 block6j_se_expand True\n",
      "430 block6j_se_excite True\n",
      "431 block6j_project_conv True\n",
      "432 block6j_project_bn False\n",
      "433 block6j_drop True\n",
      "434 block6j_add True\n",
      "435 block6k_expand_conv True\n",
      "436 block6k_expand_bn False\n",
      "437 block6k_expand_activation True\n",
      "438 block6k_dwconv2 True\n",
      "439 block6k_bn False\n",
      "440 block6k_activation True\n",
      "441 block6k_se_squeeze True\n",
      "442 block6k_se_reshape True\n",
      "443 block6k_se_reduce True\n",
      "444 block6k_se_expand True\n",
      "445 block6k_se_excite True\n",
      "446 block6k_project_conv True\n",
      "447 block6k_project_bn False\n",
      "448 block6k_drop True\n",
      "449 block6k_add True\n",
      "450 block6l_expand_conv True\n",
      "451 block6l_expand_bn False\n",
      "452 block6l_expand_activation True\n",
      "453 block6l_dwconv2 True\n",
      "454 block6l_bn False\n",
      "455 block6l_activation True\n",
      "456 block6l_se_squeeze True\n",
      "457 block6l_se_reshape True\n",
      "458 block6l_se_reduce True\n",
      "459 block6l_se_expand True\n",
      "460 block6l_se_excite True\n",
      "461 block6l_project_conv True\n",
      "462 block6l_project_bn False\n",
      "463 block6l_drop True\n",
      "464 block6l_add True\n",
      "465 block6m_expand_conv True\n",
      "466 block6m_expand_bn False\n",
      "467 block6m_expand_activation True\n",
      "468 block6m_dwconv2 True\n",
      "469 block6m_bn False\n",
      "470 block6m_activation True\n",
      "471 block6m_se_squeeze True\n",
      "472 block6m_se_reshape True\n",
      "473 block6m_se_reduce True\n",
      "474 block6m_se_expand True\n",
      "475 block6m_se_excite True\n",
      "476 block6m_project_conv True\n",
      "477 block6m_project_bn False\n",
      "478 block6m_drop True\n",
      "479 block6m_add True\n",
      "480 block6n_expand_conv True\n",
      "481 block6n_expand_bn False\n",
      "482 block6n_expand_activation True\n",
      "483 block6n_dwconv2 True\n",
      "484 block6n_bn False\n",
      "485 block6n_activation True\n",
      "486 block6n_se_squeeze True\n",
      "487 block6n_se_reshape True\n",
      "488 block6n_se_reduce True\n",
      "489 block6n_se_expand True\n",
      "490 block6n_se_excite True\n",
      "491 block6n_project_conv True\n",
      "492 block6n_project_bn False\n",
      "493 block6n_drop True\n",
      "494 block6n_add True\n",
      "495 block6o_expand_conv True\n",
      "496 block6o_expand_bn False\n",
      "497 block6o_expand_activation True\n",
      "498 block6o_dwconv2 True\n",
      "499 block6o_bn False\n",
      "500 block6o_activation True\n",
      "501 block6o_se_squeeze True\n",
      "502 block6o_se_reshape True\n",
      "503 block6o_se_reduce True\n",
      "504 block6o_se_expand True\n",
      "505 block6o_se_excite True\n",
      "506 block6o_project_conv True\n",
      "507 block6o_project_bn False\n",
      "508 block6o_drop True\n",
      "509 block6o_add True\n",
      "510 top_conv True\n",
      "511 top_bn False\n",
      "512 top_activation True\n",
      "513 avg_pool True\n"
     ]
    },
    {
     "data": {
      "text/html": [
       "<pre style=\"white-space:pre;overflow-x:auto;line-height:normal;font-family:Menlo,'DejaVu Sans Mono',consolas,'Courier New',monospace\"><span style=\"font-weight: bold\">Model: \"model\"</span>\n",
       "</pre>\n"
      ],
      "text/plain": [
       "\u001b[1mModel: \"model\"\u001b[0m\n"
      ]
     },
     "metadata": {},
     "output_type": "display_data"
    },
    {
     "data": {
      "text/html": [
       "<pre style=\"white-space:pre;overflow-x:auto;line-height:normal;font-family:Menlo,'DejaVu Sans Mono',consolas,'Courier New',monospace\">┏━━━━━━━━━━━━━━━━━━━━━━━━━━━━━━━━━┳━━━━━━━━━━━━━━━━━━━━━━━━┳━━━━━━━━━━━━━━━┓\n",
       "┃<span style=\"font-weight: bold\"> Layer (type)                    </span>┃<span style=\"font-weight: bold\"> Output Shape           </span>┃<span style=\"font-weight: bold\">       Param # </span>┃\n",
       "┡━━━━━━━━━━━━━━━━━━━━━━━━━━━━━━━━━╇━━━━━━━━━━━━━━━━━━━━━━━━╇━━━━━━━━━━━━━━━┩\n",
       "│ input_layer_3 (<span style=\"color: #0087ff; text-decoration-color: #0087ff\">InputLayer</span>)      │ (<span style=\"color: #00d7ff; text-decoration-color: #00d7ff\">None</span>, <span style=\"color: #00af00; text-decoration-color: #00af00\">48</span>, <span style=\"color: #00af00; text-decoration-color: #00af00\">48</span>, <span style=\"color: #00af00; text-decoration-color: #00af00\">3</span>)      │             <span style=\"color: #00af00; text-decoration-color: #00af00\">0</span> │\n",
       "├─────────────────────────────────┼────────────────────────┼───────────────┤\n",
       "│ efficientnetv2-s (<span style=\"color: #0087ff; text-decoration-color: #0087ff\">Functional</span>)   │ (<span style=\"color: #00d7ff; text-decoration-color: #00d7ff\">None</span>, <span style=\"color: #00af00; text-decoration-color: #00af00\">1280</span>)           │    <span style=\"color: #00af00; text-decoration-color: #00af00\">20,331,360</span> │\n",
       "├─────────────────────────────────┼────────────────────────┼───────────────┤\n",
       "│ dense_1 (<span style=\"color: #0087ff; text-decoration-color: #0087ff\">Dense</span>)                 │ (<span style=\"color: #00d7ff; text-decoration-color: #00d7ff\">None</span>, <span style=\"color: #00af00; text-decoration-color: #00af00\">3</span>)              │         <span style=\"color: #00af00; text-decoration-color: #00af00\">3,843</span> │\n",
       "└─────────────────────────────────┴────────────────────────┴───────────────┘\n",
       "</pre>\n"
      ],
      "text/plain": [
       "┏━━━━━━━━━━━━━━━━━━━━━━━━━━━━━━━━━┳━━━━━━━━━━━━━━━━━━━━━━━━┳━━━━━━━━━━━━━━━┓\n",
       "┃\u001b[1m \u001b[0m\u001b[1mLayer (type)                   \u001b[0m\u001b[1m \u001b[0m┃\u001b[1m \u001b[0m\u001b[1mOutput Shape          \u001b[0m\u001b[1m \u001b[0m┃\u001b[1m \u001b[0m\u001b[1m      Param #\u001b[0m\u001b[1m \u001b[0m┃\n",
       "┡━━━━━━━━━━━━━━━━━━━━━━━━━━━━━━━━━╇━━━━━━━━━━━━━━━━━━━━━━━━╇━━━━━━━━━━━━━━━┩\n",
       "│ input_layer_3 (\u001b[38;5;33mInputLayer\u001b[0m)      │ (\u001b[38;5;45mNone\u001b[0m, \u001b[38;5;34m48\u001b[0m, \u001b[38;5;34m48\u001b[0m, \u001b[38;5;34m3\u001b[0m)      │             \u001b[38;5;34m0\u001b[0m │\n",
       "├─────────────────────────────────┼────────────────────────┼───────────────┤\n",
       "│ efficientnetv2-s (\u001b[38;5;33mFunctional\u001b[0m)   │ (\u001b[38;5;45mNone\u001b[0m, \u001b[38;5;34m1280\u001b[0m)           │    \u001b[38;5;34m20,331,360\u001b[0m │\n",
       "├─────────────────────────────────┼────────────────────────┼───────────────┤\n",
       "│ dense_1 (\u001b[38;5;33mDense\u001b[0m)                 │ (\u001b[38;5;45mNone\u001b[0m, \u001b[38;5;34m3\u001b[0m)              │         \u001b[38;5;34m3,843\u001b[0m │\n",
       "└─────────────────────────────────┴────────────────────────┴───────────────┘\n"
      ]
     },
     "metadata": {},
     "output_type": "display_data"
    },
    {
     "data": {
      "text/html": [
       "<pre style=\"white-space:pre;overflow-x:auto;line-height:normal;font-family:Menlo,'DejaVu Sans Mono',consolas,'Courier New',monospace\"><span style=\"font-weight: bold\"> Total params: </span><span style=\"color: #00af00; text-decoration-color: #00af00\">20,342,891</span> (77.60 MB)\n",
       "</pre>\n"
      ],
      "text/plain": [
       "\u001b[1m Total params: \u001b[0m\u001b[38;5;34m20,342,891\u001b[0m (77.60 MB)\n"
      ]
     },
     "metadata": {},
     "output_type": "display_data"
    },
    {
     "data": {
      "text/html": [
       "<pre style=\"white-space:pre;overflow-x:auto;line-height:normal;font-family:Menlo,'DejaVu Sans Mono',consolas,'Courier New',monospace\"><span style=\"font-weight: bold\"> Trainable params: </span><span style=\"color: #00af00; text-decoration-color: #00af00\">14,795,819</span> (56.44 MB)\n",
       "</pre>\n"
      ],
      "text/plain": [
       "\u001b[1m Trainable params: \u001b[0m\u001b[38;5;34m14,795,819\u001b[0m (56.44 MB)\n"
      ]
     },
     "metadata": {},
     "output_type": "display_data"
    },
    {
     "data": {
      "text/html": [
       "<pre style=\"white-space:pre;overflow-x:auto;line-height:normal;font-family:Menlo,'DejaVu Sans Mono',consolas,'Courier New',monospace\"><span style=\"font-weight: bold\"> Non-trainable params: </span><span style=\"color: #00af00; text-decoration-color: #00af00\">5,539,384</span> (21.13 MB)\n",
       "</pre>\n"
      ],
      "text/plain": [
       "\u001b[1m Non-trainable params: \u001b[0m\u001b[38;5;34m5,539,384\u001b[0m (21.13 MB)\n"
      ]
     },
     "metadata": {},
     "output_type": "display_data"
    },
    {
     "data": {
      "text/html": [
       "<pre style=\"white-space:pre;overflow-x:auto;line-height:normal;font-family:Menlo,'DejaVu Sans Mono',consolas,'Courier New',monospace\"><span style=\"font-weight: bold\"> Optimizer params: </span><span style=\"color: #00af00; text-decoration-color: #00af00\">7,688</span> (30.04 KB)\n",
       "</pre>\n"
      ],
      "text/plain": [
       "\u001b[1m Optimizer params: \u001b[0m\u001b[38;5;34m7,688\u001b[0m (30.04 KB)\n"
      ]
     },
     "metadata": {},
     "output_type": "display_data"
    }
   ],
   "source": [
    "# Freeze first N layers, e.g., until the 133rd one\n",
    "N = 286\n",
    "for i, layer in enumerate(ft_bn_model.get_layer('efficientnetv2-s').layers[:N]):\n",
    "  layer.trainable=False\n",
    "for i, layer in enumerate(ft_bn_model.get_layer('efficientnetv2-s').layers):\n",
    "   print(i, layer.name, layer.trainable)\n",
    "ft_bn_model.summary()"
   ]
  },
  {
   "cell_type": "code",
   "execution_count": 40,
   "id": "5d79b6f5",
   "metadata": {
    "execution": {
     "iopub.execute_input": "2024-08-20T08:14:35.814375Z",
     "iopub.status.busy": "2024-08-20T08:14:35.814009Z",
     "iopub.status.idle": "2024-08-20T08:14:35.824484Z",
     "shell.execute_reply": "2024-08-20T08:14:35.823742Z"
    },
    "papermill": {
     "duration": 0.696125,
     "end_time": "2024-08-20T08:14:35.826302",
     "exception": false,
     "start_time": "2024-08-20T08:14:35.130177",
     "status": "completed"
    },
    "tags": []
   },
   "outputs": [],
   "source": [
    "# Compile the model\n",
    "ft_bn_model.compile(loss=tfk.losses.CategoricalCrossentropy(), optimizer=tfk.optimizers.Adam(1e-5), metrics=['accuracy'])"
   ]
  },
  {
   "cell_type": "code",
   "execution_count": 41,
   "id": "7a9682cb",
   "metadata": {
    "execution": {
     "iopub.execute_input": "2024-08-20T08:14:37.085696Z",
     "iopub.status.busy": "2024-08-20T08:14:37.085026Z",
     "iopub.status.idle": "2024-08-20T08:20:59.666753Z",
     "shell.execute_reply": "2024-08-20T08:20:59.665753Z"
    },
    "papermill": {
     "duration": 383.212893,
     "end_time": "2024-08-20T08:20:59.669174",
     "exception": false,
     "start_time": "2024-08-20T08:14:36.456281",
     "status": "completed"
    },
    "tags": []
   },
   "outputs": [
    {
     "name": "stdout",
     "output_type": "stream",
     "text": [
      "Epoch 1/200\n",
      "\u001b[1m174/174\u001b[0m \u001b[32m━━━━━━━━━━━━━━━━━━━━\u001b[0m\u001b[37m\u001b[0m \u001b[1m203s\u001b[0m 574ms/step - accuracy: 0.7246 - loss: 0.6695 - val_accuracy: 0.7450 - val_loss: 0.6226\n",
      "Epoch 2/200\n",
      "\u001b[1m174/174\u001b[0m \u001b[32m━━━━━━━━━━━━━━━━━━━━\u001b[0m\u001b[37m\u001b[0m \u001b[1m7s\u001b[0m 39ms/step - accuracy: 0.7502 - loss: 0.6232 - val_accuracy: 0.7558 - val_loss: 0.5992\n",
      "Epoch 3/200\n",
      "\u001b[1m174/174\u001b[0m \u001b[32m━━━━━━━━━━━━━━━━━━━━\u001b[0m\u001b[37m\u001b[0m \u001b[1m7s\u001b[0m 39ms/step - accuracy: 0.7611 - loss: 0.5870 - val_accuracy: 0.7673 - val_loss: 0.5754\n",
      "Epoch 4/200\n",
      "\u001b[1m174/174\u001b[0m \u001b[32m━━━━━━━━━━━━━━━━━━━━\u001b[0m\u001b[37m\u001b[0m \u001b[1m7s\u001b[0m 38ms/step - accuracy: 0.7630 - loss: 0.5768 - val_accuracy: 0.7615 - val_loss: 0.5776\n",
      "Epoch 5/200\n",
      "\u001b[1m174/174\u001b[0m \u001b[32m━━━━━━━━━━━━━━━━━━━━\u001b[0m\u001b[37m\u001b[0m \u001b[1m7s\u001b[0m 39ms/step - accuracy: 0.7660 - loss: 0.5700 - val_accuracy: 0.7716 - val_loss: 0.5560\n",
      "Epoch 6/200\n",
      "\u001b[1m174/174\u001b[0m \u001b[32m━━━━━━━━━━━━━━━━━━━━\u001b[0m\u001b[37m\u001b[0m \u001b[1m7s\u001b[0m 38ms/step - accuracy: 0.7695 - loss: 0.5468 - val_accuracy: 0.7695 - val_loss: 0.5509\n",
      "Epoch 7/200\n",
      "\u001b[1m174/174\u001b[0m \u001b[32m━━━━━━━━━━━━━━━━━━━━\u001b[0m\u001b[37m\u001b[0m \u001b[1m6s\u001b[0m 37ms/step - accuracy: 0.7693 - loss: 0.5419 - val_accuracy: 0.7716 - val_loss: 0.5454\n",
      "Epoch 8/200\n",
      "\u001b[1m174/174\u001b[0m \u001b[32m━━━━━━━━━━━━━━━━━━━━\u001b[0m\u001b[37m\u001b[0m \u001b[1m7s\u001b[0m 39ms/step - accuracy: 0.7798 - loss: 0.5400 - val_accuracy: 0.7752 - val_loss: 0.5412\n",
      "Epoch 9/200\n",
      "\u001b[1m174/174\u001b[0m \u001b[32m━━━━━━━━━━━━━━━━━━━━\u001b[0m\u001b[37m\u001b[0m \u001b[1m7s\u001b[0m 39ms/step - accuracy: 0.7771 - loss: 0.5220 - val_accuracy: 0.7817 - val_loss: 0.5406\n",
      "Epoch 10/200\n",
      "\u001b[1m174/174\u001b[0m \u001b[32m━━━━━━━━━━━━━━━━━━━━\u001b[0m\u001b[37m\u001b[0m \u001b[1m7s\u001b[0m 39ms/step - accuracy: 0.7752 - loss: 0.5233 - val_accuracy: 0.7831 - val_loss: 0.5284\n",
      "Epoch 11/200\n",
      "\u001b[1m174/174\u001b[0m \u001b[32m━━━━━━━━━━━━━━━━━━━━\u001b[0m\u001b[37m\u001b[0m \u001b[1m7s\u001b[0m 39ms/step - accuracy: 0.7930 - loss: 0.5035 - val_accuracy: 0.7846 - val_loss: 0.5254\n",
      "Epoch 12/200\n",
      "\u001b[1m174/174\u001b[0m \u001b[32m━━━━━━━━━━━━━━━━━━━━\u001b[0m\u001b[37m\u001b[0m \u001b[1m7s\u001b[0m 39ms/step - accuracy: 0.7928 - loss: 0.4960 - val_accuracy: 0.7889 - val_loss: 0.5186\n",
      "Epoch 13/200\n",
      "\u001b[1m174/174\u001b[0m \u001b[32m━━━━━━━━━━━━━━━━━━━━\u001b[0m\u001b[37m\u001b[0m \u001b[1m7s\u001b[0m 38ms/step - accuracy: 0.7911 - loss: 0.4965 - val_accuracy: 0.7839 - val_loss: 0.5204\n",
      "Epoch 14/200\n",
      "\u001b[1m174/174\u001b[0m \u001b[32m━━━━━━━━━━━━━━━━━━━━\u001b[0m\u001b[37m\u001b[0m \u001b[1m7s\u001b[0m 39ms/step - accuracy: 0.7956 - loss: 0.4862 - val_accuracy: 0.7939 - val_loss: 0.5175\n",
      "Epoch 15/200\n",
      "\u001b[1m174/174\u001b[0m \u001b[32m━━━━━━━━━━━━━━━━━━━━\u001b[0m\u001b[37m\u001b[0m \u001b[1m7s\u001b[0m 37ms/step - accuracy: 0.8018 - loss: 0.4682 - val_accuracy: 0.7889 - val_loss: 0.5169\n",
      "Epoch 16/200\n",
      "\u001b[1m174/174\u001b[0m \u001b[32m━━━━━━━━━━━━━━━━━━━━\u001b[0m\u001b[37m\u001b[0m \u001b[1m7s\u001b[0m 37ms/step - accuracy: 0.8016 - loss: 0.4709 - val_accuracy: 0.7860 - val_loss: 0.5096\n",
      "Epoch 17/200\n",
      "\u001b[1m174/174\u001b[0m \u001b[32m━━━━━━━━━━━━━━━━━━━━\u001b[0m\u001b[37m\u001b[0m \u001b[1m7s\u001b[0m 38ms/step - accuracy: 0.8121 - loss: 0.4583 - val_accuracy: 0.7947 - val_loss: 0.5186\n",
      "Epoch 18/200\n",
      "\u001b[1m174/174\u001b[0m \u001b[32m━━━━━━━━━━━━━━━━━━━━\u001b[0m\u001b[37m\u001b[0m \u001b[1m7s\u001b[0m 39ms/step - accuracy: 0.8131 - loss: 0.4550 - val_accuracy: 0.8026 - val_loss: 0.5190\n",
      "Epoch 19/200\n",
      "\u001b[1m174/174\u001b[0m \u001b[32m━━━━━━━━━━━━━━━━━━━━\u001b[0m\u001b[37m\u001b[0m \u001b[1m6s\u001b[0m 37ms/step - accuracy: 0.8117 - loss: 0.4471 - val_accuracy: 0.7983 - val_loss: 0.5119\n",
      "Epoch 20/200\n",
      "\u001b[1m174/174\u001b[0m \u001b[32m━━━━━━━━━━━━━━━━━━━━\u001b[0m\u001b[37m\u001b[0m \u001b[1m6s\u001b[0m 37ms/step - accuracy: 0.8064 - loss: 0.4448 - val_accuracy: 0.8004 - val_loss: 0.5144\n",
      "Epoch 21/200\n",
      "\u001b[1m174/174\u001b[0m \u001b[32m━━━━━━━━━━━━━━━━━━━━\u001b[0m\u001b[37m\u001b[0m \u001b[1m7s\u001b[0m 39ms/step - accuracy: 0.8149 - loss: 0.4376 - val_accuracy: 0.8062 - val_loss: 0.5079\n",
      "Epoch 22/200\n",
      "\u001b[1m174/174\u001b[0m \u001b[32m━━━━━━━━━━━━━━━━━━━━\u001b[0m\u001b[37m\u001b[0m \u001b[1m6s\u001b[0m 37ms/step - accuracy: 0.8209 - loss: 0.4239 - val_accuracy: 0.7997 - val_loss: 0.5160\n",
      "Epoch 23/200\n",
      "\u001b[1m174/174\u001b[0m \u001b[32m━━━━━━━━━━━━━━━━━━━━\u001b[0m\u001b[37m\u001b[0m \u001b[1m7s\u001b[0m 38ms/step - accuracy: 0.8205 - loss: 0.4227 - val_accuracy: 0.8019 - val_loss: 0.5131\n",
      "Epoch 24/200\n",
      "\u001b[1m174/174\u001b[0m \u001b[32m━━━━━━━━━━━━━━━━━━━━\u001b[0m\u001b[37m\u001b[0m \u001b[1m7s\u001b[0m 37ms/step - accuracy: 0.8261 - loss: 0.4259 - val_accuracy: 0.8019 - val_loss: 0.5092\n",
      "Epoch 25/200\n",
      "\u001b[1m174/174\u001b[0m \u001b[32m━━━━━━━━━━━━━━━━━━━━\u001b[0m\u001b[37m\u001b[0m \u001b[1m7s\u001b[0m 38ms/step - accuracy: 0.8282 - loss: 0.4104 - val_accuracy: 0.7997 - val_loss: 0.5186\n",
      "Epoch 26/200\n",
      "\u001b[1m174/174\u001b[0m \u001b[32m━━━━━━━━━━━━━━━━━━━━\u001b[0m\u001b[37m\u001b[0m \u001b[1m7s\u001b[0m 38ms/step - accuracy: 0.8284 - loss: 0.4164 - val_accuracy: 0.8062 - val_loss: 0.5077\n",
      "Epoch 27/200\n",
      "\u001b[1m174/174\u001b[0m \u001b[32m━━━━━━━━━━━━━━━━━━━━\u001b[0m\u001b[37m\u001b[0m \u001b[1m7s\u001b[0m 39ms/step - accuracy: 0.8360 - loss: 0.3979 - val_accuracy: 0.8012 - val_loss: 0.5321\n",
      "Epoch 28/200\n",
      "\u001b[1m174/174\u001b[0m \u001b[32m━━━━━━━━━━━━━━━━━━━━\u001b[0m\u001b[37m\u001b[0m \u001b[1m7s\u001b[0m 37ms/step - accuracy: 0.8326 - loss: 0.3939 - val_accuracy: 0.8055 - val_loss: 0.5099\n"
     ]
    }
   ],
   "source": [
    "# Fine-tune the model\n",
    "ft_bn_history = ft_bn_model.fit(\n",
    "    train_ds,\n",
    "    batch_size = 32,\n",
    "    epochs = 200,\n",
    "    validation_data = val_ds,\n",
    "    callbacks = [tfk.callbacks.EarlyStopping(monitor='val_accuracy', mode='max', patience=7, restore_best_weights=True)]\n",
    ").history"
   ]
  },
  {
   "cell_type": "code",
   "execution_count": 42,
   "id": "8dd196cf",
   "metadata": {
    "execution": {
     "iopub.execute_input": "2024-08-20T08:21:01.433186Z",
     "iopub.status.busy": "2024-08-20T08:21:01.432813Z",
     "iopub.status.idle": "2024-08-20T08:21:03.312696Z",
     "shell.execute_reply": "2024-08-20T08:21:03.311874Z"
    },
    "papermill": {
     "duration": 2.73146,
     "end_time": "2024-08-20T08:21:03.315069",
     "exception": false,
     "start_time": "2024-08-20T08:21:00.583609",
     "status": "completed"
    },
    "tags": []
   },
   "outputs": [],
   "source": [
    "ft_bn_model.save('FineTuningModelFrozenBN.keras')"
   ]
  },
  {
   "cell_type": "markdown",
   "id": "e874f8a4",
   "metadata": {
    "papermill": {
     "duration": 0.836385,
     "end_time": "2024-08-20T08:21:05.051277",
     "exception": false,
     "start_time": "2024-08-20T08:21:04.214892",
     "status": "completed"
    },
    "tags": []
   },
   "source": [
    "## Obtain the embedding(216) for each input image"
   ]
  },
  {
   "cell_type": "code",
   "execution_count": null,
   "id": "05ccab76",
   "metadata": {
    "papermill": {
     "duration": 0.831481,
     "end_time": "2024-08-20T08:21:06.773452",
     "exception": false,
     "start_time": "2024-08-20T08:21:05.941971",
     "status": "completed"
    },
    "tags": []
   },
   "outputs": [],
   "source": []
  },
  {
   "cell_type": "code",
   "execution_count": null,
   "id": "be1b74ae",
   "metadata": {
    "papermill": {
     "duration": 0.831881,
     "end_time": "2024-08-20T08:21:08.501920",
     "exception": false,
     "start_time": "2024-08-20T08:21:07.670039",
     "status": "completed"
    },
    "tags": []
   },
   "outputs": [],
   "source": []
  }
 ],
 "metadata": {
  "kaggle": {
   "accelerator": "none",
   "dataSources": [
    {
     "datasetId": 5567859,
     "sourceId": 9208464,
     "sourceType": "datasetVersion"
    }
   ],
   "dockerImageVersionId": 30746,
   "isGpuEnabled": false,
   "isInternetEnabled": true,
   "language": "python",
   "sourceType": "notebook"
  },
  "kernelspec": {
   "display_name": "Python 3",
   "language": "python",
   "name": "python3"
  },
  "language_info": {
   "codemirror_mode": {
    "name": "ipython",
    "version": 3
   },
   "file_extension": ".py",
   "mimetype": "text/x-python",
   "name": "python",
   "nbconvert_exporter": "python",
   "pygments_lexer": "ipython3",
   "version": "3.11.9"
  },
  "papermill": {
   "default_parameters": {},
   "duration": 1802.448238,
   "end_time": "2024-08-20T08:21:12.960612",
   "environment_variables": {},
   "exception": null,
   "input_path": "__notebook__.ipynb",
   "output_path": "__notebook__.ipynb",
   "parameters": {},
   "start_time": "2024-08-20T07:51:10.512374",
   "version": "2.5.0"
  }
 },
 "nbformat": 4,
 "nbformat_minor": 5
}
