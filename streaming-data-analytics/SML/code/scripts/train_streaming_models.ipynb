{
 "cells": [
  {
   "cell_type": "code",
   "execution_count": 1,
   "metadata": {},
   "outputs": [],
   "source": [
    "import pandas as pd\n",
    "from river import metrics,neighbors,tree,evaluate,stream,forest\n",
    "import pickle"
   ]
  },
  {
   "cell_type": "code",
   "execution_count": 2,
   "metadata": {},
   "outputs": [],
   "source": [
    "DATASET_PATH = \"C:\\\\Users\\\\franc\\\\Desktop\\\\TESI\\\\webots\\\\training_data\\\\data_1_lap.csv\""
   ]
  },
  {
   "cell_type": "markdown",
   "metadata": {},
   "source": [
    "### Load dataset"
   ]
  },
  {
   "cell_type": "code",
   "execution_count": 3,
   "metadata": {},
   "outputs": [
    {
     "data": {
      "text/html": [
       "<div>\n",
       "<style scoped>\n",
       "    .dataframe tbody tr th:only-of-type {\n",
       "        vertical-align: middle;\n",
       "    }\n",
       "\n",
       "    .dataframe tbody tr th {\n",
       "        vertical-align: top;\n",
       "    }\n",
       "\n",
       "    .dataframe thead th {\n",
       "        text-align: right;\n",
       "    }\n",
       "</style>\n",
       "<table border=\"1\" class=\"dataframe\">\n",
       "  <thead>\n",
       "    <tr style=\"text-align: right;\">\n",
       "      <th></th>\n",
       "      <th>ir_0</th>\n",
       "      <th>ir_1</th>\n",
       "      <th>ir_2</th>\n",
       "      <th>ir_3</th>\n",
       "      <th>ir_4</th>\n",
       "      <th>ir_5</th>\n",
       "      <th>ir_6</th>\n",
       "      <th>target</th>\n",
       "    </tr>\n",
       "  </thead>\n",
       "  <tbody>\n",
       "    <tr>\n",
       "      <th>0</th>\n",
       "      <td>9.280025</td>\n",
       "      <td>9.280024</td>\n",
       "      <td>9.280024</td>\n",
       "      <td>9.280024</td>\n",
       "      <td>9.280024</td>\n",
       "      <td>9.280024</td>\n",
       "      <td>9.280024</td>\n",
       "      <td>0.0</td>\n",
       "    </tr>\n",
       "    <tr>\n",
       "      <th>1</th>\n",
       "      <td>24.828303</td>\n",
       "      <td>24.830723</td>\n",
       "      <td>24.833142</td>\n",
       "      <td>24.835562</td>\n",
       "      <td>24.837981</td>\n",
       "      <td>24.840401</td>\n",
       "      <td>24.842820</td>\n",
       "      <td>0.0</td>\n",
       "    </tr>\n",
       "    <tr>\n",
       "      <th>2</th>\n",
       "      <td>6.023478</td>\n",
       "      <td>6.025406</td>\n",
       "      <td>6.027334</td>\n",
       "      <td>6.029262</td>\n",
       "      <td>6.031190</td>\n",
       "      <td>6.033119</td>\n",
       "      <td>6.035047</td>\n",
       "      <td>0.0</td>\n",
       "    </tr>\n",
       "    <tr>\n",
       "      <th>3</th>\n",
       "      <td>1000.000000</td>\n",
       "      <td>1000.000000</td>\n",
       "      <td>1000.000000</td>\n",
       "      <td>1000.000000</td>\n",
       "      <td>1000.000000</td>\n",
       "      <td>1000.000000</td>\n",
       "      <td>1000.000000</td>\n",
       "      <td>0.0</td>\n",
       "    </tr>\n",
       "    <tr>\n",
       "      <th>4</th>\n",
       "      <td>0.439358</td>\n",
       "      <td>0.439638</td>\n",
       "      <td>0.439917</td>\n",
       "      <td>0.440196</td>\n",
       "      <td>0.440476</td>\n",
       "      <td>0.440755</td>\n",
       "      <td>0.441034</td>\n",
       "      <td>0.0</td>\n",
       "    </tr>\n",
       "    <tr>\n",
       "      <th>...</th>\n",
       "      <td>...</td>\n",
       "      <td>...</td>\n",
       "      <td>...</td>\n",
       "      <td>...</td>\n",
       "      <td>...</td>\n",
       "      <td>...</td>\n",
       "      <td>...</td>\n",
       "      <td>...</td>\n",
       "    </tr>\n",
       "    <tr>\n",
       "      <th>20406</th>\n",
       "      <td>12.055087</td>\n",
       "      <td>12.055086</td>\n",
       "      <td>12.055086</td>\n",
       "      <td>12.055085</td>\n",
       "      <td>12.055085</td>\n",
       "      <td>12.055084</td>\n",
       "      <td>12.055084</td>\n",
       "      <td>0.0</td>\n",
       "    </tr>\n",
       "    <tr>\n",
       "      <th>20407</th>\n",
       "      <td>12.276567</td>\n",
       "      <td>12.276567</td>\n",
       "      <td>12.276567</td>\n",
       "      <td>12.276566</td>\n",
       "      <td>12.276566</td>\n",
       "      <td>12.276565</td>\n",
       "      <td>12.276565</td>\n",
       "      <td>0.0</td>\n",
       "    </tr>\n",
       "    <tr>\n",
       "      <th>20408</th>\n",
       "      <td>12.439600</td>\n",
       "      <td>12.439600</td>\n",
       "      <td>12.439599</td>\n",
       "      <td>12.439599</td>\n",
       "      <td>12.439598</td>\n",
       "      <td>12.439598</td>\n",
       "      <td>12.439597</td>\n",
       "      <td>0.0</td>\n",
       "    </tr>\n",
       "    <tr>\n",
       "      <th>20409</th>\n",
       "      <td>12.541450</td>\n",
       "      <td>12.541449</td>\n",
       "      <td>12.541449</td>\n",
       "      <td>12.541448</td>\n",
       "      <td>12.541448</td>\n",
       "      <td>12.541447</td>\n",
       "      <td>12.541447</td>\n",
       "      <td>0.0</td>\n",
       "    </tr>\n",
       "    <tr>\n",
       "      <th>20410</th>\n",
       "      <td>12.580395</td>\n",
       "      <td>12.580395</td>\n",
       "      <td>12.580394</td>\n",
       "      <td>12.580394</td>\n",
       "      <td>12.580393</td>\n",
       "      <td>12.580393</td>\n",
       "      <td>12.580392</td>\n",
       "      <td>0.0</td>\n",
       "    </tr>\n",
       "  </tbody>\n",
       "</table>\n",
       "<p>20411 rows × 8 columns</p>\n",
       "</div>"
      ],
      "text/plain": [
       "              ir_0         ir_1         ir_2         ir_3         ir_4  \\\n",
       "0         9.280025     9.280024     9.280024     9.280024     9.280024   \n",
       "1        24.828303    24.830723    24.833142    24.835562    24.837981   \n",
       "2         6.023478     6.025406     6.027334     6.029262     6.031190   \n",
       "3      1000.000000  1000.000000  1000.000000  1000.000000  1000.000000   \n",
       "4         0.439358     0.439638     0.439917     0.440196     0.440476   \n",
       "...            ...          ...          ...          ...          ...   \n",
       "20406    12.055087    12.055086    12.055086    12.055085    12.055085   \n",
       "20407    12.276567    12.276567    12.276567    12.276566    12.276566   \n",
       "20408    12.439600    12.439600    12.439599    12.439599    12.439598   \n",
       "20409    12.541450    12.541449    12.541449    12.541448    12.541448   \n",
       "20410    12.580395    12.580395    12.580394    12.580394    12.580393   \n",
       "\n",
       "              ir_5         ir_6  target  \n",
       "0         9.280024     9.280024     0.0  \n",
       "1        24.840401    24.842820     0.0  \n",
       "2         6.033119     6.035047     0.0  \n",
       "3      1000.000000  1000.000000     0.0  \n",
       "4         0.440755     0.441034     0.0  \n",
       "...            ...          ...     ...  \n",
       "20406    12.055084    12.055084     0.0  \n",
       "20407    12.276565    12.276565     0.0  \n",
       "20408    12.439598    12.439597     0.0  \n",
       "20409    12.541447    12.541447     0.0  \n",
       "20410    12.580393    12.580392     0.0  \n",
       "\n",
       "[20411 rows x 8 columns]"
      ]
     },
     "execution_count": 3,
     "metadata": {},
     "output_type": "execute_result"
    }
   ],
   "source": [
    "column_names = [f'ir_{x}' for x in range(0,7)]\n",
    "column_names.append('target')\n",
    "df = pd.read_csv(DATASET_PATH) \n",
    "df.columns = column_names\n",
    "df"
   ]
  },
  {
   "cell_type": "markdown",
   "metadata": {},
   "source": [
    "### Train Models"
   ]
  },
  {
   "cell_type": "code",
   "execution_count": 4,
   "metadata": {},
   "outputs": [],
   "source": [
    "column_names = [f'ir_{x}' for x in range(0,7)]\n",
    "metric_knn = metrics.Accuracy()\n",
    "#metric_hat = metrics.Accuracy()\n",
    "#metric_arf = metrics.Accuracy()\n",
    "streams = stream.iter_pandas(X=df[column_names], y=df['target'])"
   ]
  },
  {
   "cell_type": "code",
   "execution_count": 5,
   "metadata": {},
   "outputs": [],
   "source": [
    "#model_arf = forest.ARFClassifier()\n",
    "model_knn = neighbors.KNNClassifier()\n",
    "#model_hat = tree.HoeffdingAdaptiveTreeClassifier(seed=42)"
   ]
  },
  {
   "cell_type": "markdown",
   "metadata": {},
   "source": [
    "### Train and evaluate the model"
   ]
  },
  {
   "cell_type": "code",
   "execution_count": 7,
   "metadata": {},
   "outputs": [
    {
     "name": "stdout",
     "output_type": "stream",
     "text": [
      "[1,000] Accuracy: 87.29%\n",
      "[2,000] Accuracy: 92.20%\n",
      "[3,000] Accuracy: 94.00%\n",
      "[4,000] Accuracy: 94.65%\n",
      "[5,000] Accuracy: 95.42%\n",
      "[6,000] Accuracy: 96.05%\n",
      "[7,000] Accuracy: 96.33%\n",
      "[8,000] Accuracy: 96.71%\n",
      "[9,000] Accuracy: 96.96%\n",
      "[10,000] Accuracy: 97.19%\n",
      "[11,000] Accuracy: 97.39%\n",
      "[12,000] Accuracy: 97.56%\n",
      "[13,000] Accuracy: 97.69%\n",
      "[14,000] Accuracy: 97.84%\n",
      "[15,000] Accuracy: 97.88%\n",
      "[16,000] Accuracy: 97.98%\n",
      "[17,000] Accuracy: 98.05%\n",
      "[18,000] Accuracy: 98.14%\n",
      "[19,000] Accuracy: 98.19%\n",
      "[20,000] Accuracy: 98.24%\n",
      "[20,411] Accuracy: 98.26%\n"
     ]
    },
    {
     "data": {
      "text/plain": [
       "Accuracy: 98.26%"
      ]
     },
     "execution_count": 7,
     "metadata": {},
     "output_type": "execute_result"
    }
   ],
   "source": [
    "evaluate.progressive_val_score(dataset=streams, \n",
    "                      model=model_arf, \n",
    "                      metric=metric_arf, \n",
    "                      print_every=1000)"
   ]
  },
  {
   "cell_type": "code",
   "execution_count": 6,
   "metadata": {},
   "outputs": [
    {
     "name": "stdout",
     "output_type": "stream",
     "text": [
      "[1,000] Accuracy: 97.30%\n",
      "[2,000] Accuracy: 97.85%\n",
      "[3,000] Accuracy: 98.10%\n",
      "[4,000] Accuracy: 98.20%\n",
      "[5,000] Accuracy: 98.04%\n",
      "[6,000] Accuracy: 98.18%\n",
      "[7,000] Accuracy: 98.00%\n",
      "[8,000] Accuracy: 97.67%\n",
      "[9,000] Accuracy: 97.48%\n",
      "[10,000] Accuracy: 97.28%\n",
      "[11,000] Accuracy: 97.25%\n",
      "[12,000] Accuracy: 97.06%\n",
      "[13,000] Accuracy: 97.07%\n",
      "[14,000] Accuracy: 97.18%\n",
      "[15,000] Accuracy: 97.15%\n",
      "[16,000] Accuracy: 97.17%\n",
      "[17,000] Accuracy: 97.09%\n",
      "[18,000] Accuracy: 97.09%\n",
      "[19,000] Accuracy: 97.13%\n",
      "[20,000] Accuracy: 97.17%\n",
      "[20,411] Accuracy: 97.17%\n"
     ]
    },
    {
     "data": {
      "text/plain": [
       "Accuracy: 97.17%"
      ]
     },
     "execution_count": 6,
     "metadata": {},
     "output_type": "execute_result"
    }
   ],
   "source": [
    "evaluate.progressive_val_score(dataset=streams, \n",
    "                      model=model_knn, \n",
    "                      metric=metric_knn, \n",
    "                      print_every=1000)\n"
   ]
  },
  {
   "cell_type": "code",
   "execution_count": 32,
   "metadata": {},
   "outputs": [
    {
     "data": {
      "text/plain": [
       "'\\nevaluate.progressive_val_score(dataset=streams, \\n                      model=model_hat, \\n                      metric=metric_hat, \\n                      print_every=1000)\\n                      '"
      ]
     },
     "execution_count": 32,
     "metadata": {},
     "output_type": "execute_result"
    }
   ],
   "source": [
    "\"\"\"\n",
    "evaluate.progressive_val_score(dataset=streams, \n",
    "                      model=model_hat, \n",
    "                      metric=metric_hat, \n",
    "                      print_every=1000)\n",
    "                      \"\"\""
   ]
  },
  {
   "cell_type": "markdown",
   "metadata": {},
   "source": [
    "## Save model"
   ]
  },
  {
   "cell_type": "code",
   "execution_count": 7,
   "metadata": {},
   "outputs": [],
   "source": [
    "with open('C:\\\\Users\\\\franc\\\\Desktop\\\\TESI\\\\webots\\\\models\\\\model_knn.pkl', 'wb') as f:\n",
    "        pickle.dump(model_knn, f)"
   ]
  },
  {
   "cell_type": "code",
   "execution_count": null,
   "metadata": {},
   "outputs": [],
   "source": []
  }
 ],
 "metadata": {
  "kernelspec": {
   "display_name": "streaming_ml",
   "language": "python",
   "name": "python3"
  },
  "language_info": {
   "codemirror_mode": {
    "name": "ipython",
    "version": 3
   },
   "file_extension": ".py",
   "mimetype": "text/x-python",
   "name": "python",
   "nbconvert_exporter": "python",
   "pygments_lexer": "ipython3",
   "version": "3.11.9"
  }
 },
 "nbformat": 4,
 "nbformat_minor": 2
}
